{
 "cells": [
  {
   "cell_type": "code",
   "execution_count": 133,
   "metadata": {},
   "outputs": [],
   "source": [
    "#import pandas\n",
    "import pandas as pd\n",
    "import numpy as np\n",
    "import matplotlib.pyplot as plt"
   ]
  },
  {
   "cell_type": "markdown",
   "metadata": {},
   "source": [
    "# Grades, and how to get them"
   ]
  },
  {
   "cell_type": "markdown",
   "metadata": {},
   "source": [
    "In this notebook, we will try and see if a selection of variables have any influence on getting a passing grade for final exams.\n",
    "These variables are:\n",
    "* What role does gender play on the grades?\n",
    "* How does usage of module material affect the grades of a student?\n",
    "* Does the age play a role on the grades?\n",
    "* Does module material type play a role on the grades?"
   ]
  },
  {
   "cell_type": "markdown",
   "metadata": {},
   "source": [
    "## Basic data preparation"
   ]
  },
  {
   "cell_type": "markdown",
   "metadata": {},
   "source": [
    "Before we begin, we will need to do some basic data preparation:\n",
    "* Load the data\n",
    "* Clean the data\n",
    "* Create derived data sets\n",
    "    * Student scores for final exams\n",
    "    * Students final score, split by gender\n",
    "    * Students final score, split by age\n",
    "    * Sets students per final score\n",
    "    * Total amount of clicks each student did on a module's study material\n",
    "    * Total amount of clicks each student did per study material type\n",
    "* Combine data sets"
   ]
  },
  {
   "cell_type": "markdown",
   "metadata": {},
   "source": [
    "### Load the data"
   ]
  },
  {
   "cell_type": "code",
   "execution_count": 134,
   "metadata": {},
   "outputs": [],
   "source": [
    "#read first data set assessment.csv\n",
    "assessment = pd.read_csv('assessments.csv', sep=',')\n",
    "courses = pd.read_csv('courses.csv', sep=',')\n",
    "studentAssessment = pd.read_csv('studentAssessment.csv', sep=',')\n",
    "studentInfo = pd.read_csv('studentInfo.csv', sep=',')\n",
    "studentVle = pd.read_csv('studentVle.csv', sep=',')\n",
    "vle = pd.read_csv('vle.csv', sep=',')\n"
   ]
  },
  {
   "cell_type": "markdown",
   "metadata": {},
   "source": [
    "### Clean the data"
   ]
  },
  {
   "cell_type": "markdown",
   "metadata": {},
   "source": [
    "Some data may be pointless. Empty values, negative values where only positive values are possible, ... . We also won't use every column in every dataframe. There may also be abnormal values. This first needs to be cleaned up so we can work with data that makes actual sense."
   ]
  },
  {
   "cell_type": "markdown",
   "metadata": {},
   "source": [
    "#### Assessments"
   ]
  },
  {
   "cell_type": "markdown",
   "metadata": {},
   "source": [
    "The assessments dataframe has 6 columns:"
   ]
  },
  {
   "cell_type": "code",
   "execution_count": 7,
   "metadata": {},
   "outputs": [
    {
     "data": {
      "text/html": [
       "<div>\n",
       "<style scoped>\n",
       "    .dataframe tbody tr th:only-of-type {\n",
       "        vertical-align: middle;\n",
       "    }\n",
       "\n",
       "    .dataframe tbody tr th {\n",
       "        vertical-align: top;\n",
       "    }\n",
       "\n",
       "    .dataframe thead th {\n",
       "        text-align: right;\n",
       "    }\n",
       "</style>\n",
       "<table border=\"1\" class=\"dataframe\">\n",
       "  <thead>\n",
       "    <tr style=\"text-align: right;\">\n",
       "      <th></th>\n",
       "      <th>code_module</th>\n",
       "      <th>code_presentation</th>\n",
       "      <th>id_assessment</th>\n",
       "      <th>assessment_type</th>\n",
       "      <th>date</th>\n",
       "      <th>weight</th>\n",
       "    </tr>\n",
       "  </thead>\n",
       "  <tbody>\n",
       "    <tr>\n",
       "      <th>0</th>\n",
       "      <td>AAA</td>\n",
       "      <td>2013J</td>\n",
       "      <td>1752</td>\n",
       "      <td>TMA</td>\n",
       "      <td>NaN</td>\n",
       "      <td>10.0</td>\n",
       "    </tr>\n",
       "    <tr>\n",
       "      <th>1</th>\n",
       "      <td>AAA</td>\n",
       "      <td>2013J</td>\n",
       "      <td>1753</td>\n",
       "      <td>TMA</td>\n",
       "      <td>NaN</td>\n",
       "      <td>20.0</td>\n",
       "    </tr>\n",
       "    <tr>\n",
       "      <th>2</th>\n",
       "      <td>AAA</td>\n",
       "      <td>2013J</td>\n",
       "      <td>1754</td>\n",
       "      <td>TMA</td>\n",
       "      <td>NaN</td>\n",
       "      <td>20.0</td>\n",
       "    </tr>\n",
       "    <tr>\n",
       "      <th>3</th>\n",
       "      <td>AAA</td>\n",
       "      <td>2013J</td>\n",
       "      <td>1755</td>\n",
       "      <td>TMA</td>\n",
       "      <td>NaN</td>\n",
       "      <td>20.0</td>\n",
       "    </tr>\n",
       "    <tr>\n",
       "      <th>4</th>\n",
       "      <td>AAA</td>\n",
       "      <td>2013J</td>\n",
       "      <td>1756</td>\n",
       "      <td>TMA</td>\n",
       "      <td>NaN</td>\n",
       "      <td>30.0</td>\n",
       "    </tr>\n",
       "    <tr>\n",
       "      <th>...</th>\n",
       "      <td>...</td>\n",
       "      <td>...</td>\n",
       "      <td>...</td>\n",
       "      <td>...</td>\n",
       "      <td>...</td>\n",
       "      <td>...</td>\n",
       "    </tr>\n",
       "    <tr>\n",
       "      <th>201</th>\n",
       "      <td>GGG</td>\n",
       "      <td>2014J</td>\n",
       "      <td>37443</td>\n",
       "      <td>CMA</td>\n",
       "      <td>229.0</td>\n",
       "      <td>0.0</td>\n",
       "    </tr>\n",
       "    <tr>\n",
       "      <th>202</th>\n",
       "      <td>GGG</td>\n",
       "      <td>2014J</td>\n",
       "      <td>37435</td>\n",
       "      <td>TMA</td>\n",
       "      <td>NaN</td>\n",
       "      <td>0.0</td>\n",
       "    </tr>\n",
       "    <tr>\n",
       "      <th>203</th>\n",
       "      <td>GGG</td>\n",
       "      <td>2014J</td>\n",
       "      <td>37436</td>\n",
       "      <td>TMA</td>\n",
       "      <td>124.0</td>\n",
       "      <td>0.0</td>\n",
       "    </tr>\n",
       "    <tr>\n",
       "      <th>204</th>\n",
       "      <td>GGG</td>\n",
       "      <td>2014J</td>\n",
       "      <td>37437</td>\n",
       "      <td>TMA</td>\n",
       "      <td>173.0</td>\n",
       "      <td>0.0</td>\n",
       "    </tr>\n",
       "    <tr>\n",
       "      <th>205</th>\n",
       "      <td>GGG</td>\n",
       "      <td>2014J</td>\n",
       "      <td>37444</td>\n",
       "      <td>Exam</td>\n",
       "      <td>NaN</td>\n",
       "      <td>100.0</td>\n",
       "    </tr>\n",
       "  </tbody>\n",
       "</table>\n",
       "<p>206 rows × 6 columns</p>\n",
       "</div>"
      ],
      "text/plain": [
       "    code_module code_presentation  id_assessment assessment_type   date  \\\n",
       "0           AAA             2013J           1752             TMA    NaN   \n",
       "1           AAA             2013J           1753             TMA    NaN   \n",
       "2           AAA             2013J           1754             TMA    NaN   \n",
       "3           AAA             2013J           1755             TMA    NaN   \n",
       "4           AAA             2013J           1756             TMA    NaN   \n",
       "..          ...               ...            ...             ...    ...   \n",
       "201         GGG             2014J          37443             CMA  229.0   \n",
       "202         GGG             2014J          37435             TMA    NaN   \n",
       "203         GGG             2014J          37436             TMA  124.0   \n",
       "204         GGG             2014J          37437             TMA  173.0   \n",
       "205         GGG             2014J          37444            Exam    NaN   \n",
       "\n",
       "     weight  \n",
       "0      10.0  \n",
       "1      20.0  \n",
       "2      20.0  \n",
       "3      20.0  \n",
       "4      30.0  \n",
       "..      ...  \n",
       "201     0.0  \n",
       "202     0.0  \n",
       "203     0.0  \n",
       "204     0.0  \n",
       "205   100.0  \n",
       "\n",
       "[206 rows x 6 columns]"
      ]
     },
     "execution_count": 7,
     "metadata": {},
     "output_type": "execute_result"
    }
   ],
   "source": [
    "assessment"
   ]
  },
  {
   "cell_type": "markdown",
   "metadata": {},
   "source": [
    "##### Pruning columns"
   ]
  },
  {
   "cell_type": "markdown",
   "metadata": {},
   "source": [
    "First of all, we'll drop the columns we won't be using. For the assessments dataframe, this will be date and weight."
   ]
  },
  {
   "cell_type": "code",
   "execution_count": 8,
   "metadata": {},
   "outputs": [
    {
     "data": {
      "text/html": [
       "<div>\n",
       "<style scoped>\n",
       "    .dataframe tbody tr th:only-of-type {\n",
       "        vertical-align: middle;\n",
       "    }\n",
       "\n",
       "    .dataframe tbody tr th {\n",
       "        vertical-align: top;\n",
       "    }\n",
       "\n",
       "    .dataframe thead th {\n",
       "        text-align: right;\n",
       "    }\n",
       "</style>\n",
       "<table border=\"1\" class=\"dataframe\">\n",
       "  <thead>\n",
       "    <tr style=\"text-align: right;\">\n",
       "      <th></th>\n",
       "      <th>code_module</th>\n",
       "      <th>code_presentation</th>\n",
       "      <th>id_assessment</th>\n",
       "      <th>assessment_type</th>\n",
       "    </tr>\n",
       "  </thead>\n",
       "  <tbody>\n",
       "    <tr>\n",
       "      <th>0</th>\n",
       "      <td>AAA</td>\n",
       "      <td>2013J</td>\n",
       "      <td>1752</td>\n",
       "      <td>TMA</td>\n",
       "    </tr>\n",
       "    <tr>\n",
       "      <th>1</th>\n",
       "      <td>AAA</td>\n",
       "      <td>2013J</td>\n",
       "      <td>1753</td>\n",
       "      <td>TMA</td>\n",
       "    </tr>\n",
       "    <tr>\n",
       "      <th>2</th>\n",
       "      <td>AAA</td>\n",
       "      <td>2013J</td>\n",
       "      <td>1754</td>\n",
       "      <td>TMA</td>\n",
       "    </tr>\n",
       "    <tr>\n",
       "      <th>3</th>\n",
       "      <td>AAA</td>\n",
       "      <td>2013J</td>\n",
       "      <td>1755</td>\n",
       "      <td>TMA</td>\n",
       "    </tr>\n",
       "    <tr>\n",
       "      <th>4</th>\n",
       "      <td>AAA</td>\n",
       "      <td>2013J</td>\n",
       "      <td>1756</td>\n",
       "      <td>TMA</td>\n",
       "    </tr>\n",
       "    <tr>\n",
       "      <th>...</th>\n",
       "      <td>...</td>\n",
       "      <td>...</td>\n",
       "      <td>...</td>\n",
       "      <td>...</td>\n",
       "    </tr>\n",
       "    <tr>\n",
       "      <th>201</th>\n",
       "      <td>GGG</td>\n",
       "      <td>2014J</td>\n",
       "      <td>37443</td>\n",
       "      <td>CMA</td>\n",
       "    </tr>\n",
       "    <tr>\n",
       "      <th>202</th>\n",
       "      <td>GGG</td>\n",
       "      <td>2014J</td>\n",
       "      <td>37435</td>\n",
       "      <td>TMA</td>\n",
       "    </tr>\n",
       "    <tr>\n",
       "      <th>203</th>\n",
       "      <td>GGG</td>\n",
       "      <td>2014J</td>\n",
       "      <td>37436</td>\n",
       "      <td>TMA</td>\n",
       "    </tr>\n",
       "    <tr>\n",
       "      <th>204</th>\n",
       "      <td>GGG</td>\n",
       "      <td>2014J</td>\n",
       "      <td>37437</td>\n",
       "      <td>TMA</td>\n",
       "    </tr>\n",
       "    <tr>\n",
       "      <th>205</th>\n",
       "      <td>GGG</td>\n",
       "      <td>2014J</td>\n",
       "      <td>37444</td>\n",
       "      <td>Exam</td>\n",
       "    </tr>\n",
       "  </tbody>\n",
       "</table>\n",
       "<p>206 rows × 4 columns</p>\n",
       "</div>"
      ],
      "text/plain": [
       "    code_module code_presentation  id_assessment assessment_type\n",
       "0           AAA             2013J           1752             TMA\n",
       "1           AAA             2013J           1753             TMA\n",
       "2           AAA             2013J           1754             TMA\n",
       "3           AAA             2013J           1755             TMA\n",
       "4           AAA             2013J           1756             TMA\n",
       "..          ...               ...            ...             ...\n",
       "201         GGG             2014J          37443             CMA\n",
       "202         GGG             2014J          37435             TMA\n",
       "203         GGG             2014J          37436             TMA\n",
       "204         GGG             2014J          37437             TMA\n",
       "205         GGG             2014J          37444            Exam\n",
       "\n",
       "[206 rows x 4 columns]"
      ]
     },
     "execution_count": 8,
     "metadata": {},
     "output_type": "execute_result"
    }
   ],
   "source": [
    "del assessment[\"date\"]\n",
    "del assessment[\"weight\"]\n",
    "assessment"
   ]
  },
  {
   "cell_type": "markdown",
   "metadata": {},
   "source": [
    "##### Missing values"
   ]
  },
  {
   "cell_type": "markdown",
   "metadata": {},
   "source": [
    "Next step is checking if there are any missing values:"
   ]
  },
  {
   "cell_type": "code",
   "execution_count": 9,
   "metadata": {},
   "outputs": [
    {
     "data": {
      "text/plain": [
       "code_module          False\n",
       "code_presentation    False\n",
       "id_assessment        False\n",
       "assessment_type      False\n",
       "dtype: bool"
      ]
     },
     "execution_count": 9,
     "metadata": {},
     "output_type": "execute_result"
    }
   ],
   "source": [
    "assessment.isnull().any()"
   ]
  },
  {
   "cell_type": "markdown",
   "metadata": {},
   "source": [
    "No mure null values!"
   ]
  },
  {
   "cell_type": "markdown",
   "metadata": {},
   "source": [
    "##### Outliers"
   ]
  },
  {
   "cell_type": "markdown",
   "metadata": {},
   "source": [
    "Next up, we'll need to see if there are any values that look rather peculiar. The only one that is not a primary or foreign key, is assessment type. This is strictly defined categorical data, and should have only these values:\n",
    "* Tutor Marked Assessment (TMA)\n",
    "* Computer Marked Assessment (CMA)\n",
    "* Final Exam (Exam)"
   ]
  },
  {
   "cell_type": "code",
   "execution_count": 10,
   "metadata": {},
   "outputs": [
    {
     "data": {
      "text/plain": [
       "assessment_type\n",
       "CMA      76\n",
       "Exam     24\n",
       "TMA     106\n",
       "Name: assessment_type, dtype: int64"
      ]
     },
     "execution_count": 10,
     "metadata": {},
     "output_type": "execute_result"
    }
   ],
   "source": [
    "assessment.groupby(['assessment_type'])['assessment_type'].count()"
   ]
  },
  {
   "cell_type": "markdown",
   "metadata": {},
   "source": [
    "The assessment type values are all allowed, so we're good to go for the assessments dataframe."
   ]
  },
  {
   "cell_type": "markdown",
   "metadata": {},
   "source": [
    "#### Courses"
   ]
  },
  {
   "cell_type": "markdown",
   "metadata": {},
   "source": [
    "The Courses dataframe has 3 columns:"
   ]
  },
  {
   "cell_type": "code",
   "execution_count": 11,
   "metadata": {},
   "outputs": [
    {
     "data": {
      "text/html": [
       "<div>\n",
       "<style scoped>\n",
       "    .dataframe tbody tr th:only-of-type {\n",
       "        vertical-align: middle;\n",
       "    }\n",
       "\n",
       "    .dataframe tbody tr th {\n",
       "        vertical-align: top;\n",
       "    }\n",
       "\n",
       "    .dataframe thead th {\n",
       "        text-align: right;\n",
       "    }\n",
       "</style>\n",
       "<table border=\"1\" class=\"dataframe\">\n",
       "  <thead>\n",
       "    <tr style=\"text-align: right;\">\n",
       "      <th></th>\n",
       "      <th>code_module</th>\n",
       "      <th>code_presentation</th>\n",
       "      <th>module_presentation_length</th>\n",
       "    </tr>\n",
       "  </thead>\n",
       "  <tbody>\n",
       "    <tr>\n",
       "      <th>0</th>\n",
       "      <td>AAA</td>\n",
       "      <td>2113J</td>\n",
       "      <td>268</td>\n",
       "    </tr>\n",
       "    <tr>\n",
       "      <th>1</th>\n",
       "      <td>AAA</td>\n",
       "      <td>2014J</td>\n",
       "      <td>269</td>\n",
       "    </tr>\n",
       "    <tr>\n",
       "      <th>2</th>\n",
       "      <td>BBB</td>\n",
       "      <td>2113J</td>\n",
       "      <td>268</td>\n",
       "    </tr>\n",
       "    <tr>\n",
       "      <th>3</th>\n",
       "      <td>BBB</td>\n",
       "      <td>2014J</td>\n",
       "      <td>262</td>\n",
       "    </tr>\n",
       "    <tr>\n",
       "      <th>4</th>\n",
       "      <td>BBB</td>\n",
       "      <td>2013B</td>\n",
       "      <td>240</td>\n",
       "    </tr>\n",
       "    <tr>\n",
       "      <th>5</th>\n",
       "      <td>BBB</td>\n",
       "      <td>2014B</td>\n",
       "      <td>234</td>\n",
       "    </tr>\n",
       "    <tr>\n",
       "      <th>6</th>\n",
       "      <td>CCC</td>\n",
       "      <td>2014J</td>\n",
       "      <td>269</td>\n",
       "    </tr>\n",
       "    <tr>\n",
       "      <th>7</th>\n",
       "      <td>CCC</td>\n",
       "      <td>2014B</td>\n",
       "      <td>241</td>\n",
       "    </tr>\n",
       "    <tr>\n",
       "      <th>8</th>\n",
       "      <td>DDD</td>\n",
       "      <td>2113J</td>\n",
       "      <td>261</td>\n",
       "    </tr>\n",
       "    <tr>\n",
       "      <th>9</th>\n",
       "      <td>DDD</td>\n",
       "      <td>2014J</td>\n",
       "      <td>262</td>\n",
       "    </tr>\n",
       "    <tr>\n",
       "      <th>10</th>\n",
       "      <td>DDD</td>\n",
       "      <td>2013B</td>\n",
       "      <td>240</td>\n",
       "    </tr>\n",
       "    <tr>\n",
       "      <th>11</th>\n",
       "      <td>DDD</td>\n",
       "      <td>2014B</td>\n",
       "      <td>241</td>\n",
       "    </tr>\n",
       "    <tr>\n",
       "      <th>12</th>\n",
       "      <td>EEE</td>\n",
       "      <td>2113J</td>\n",
       "      <td>268</td>\n",
       "    </tr>\n",
       "    <tr>\n",
       "      <th>13</th>\n",
       "      <td>EEE</td>\n",
       "      <td>2014J</td>\n",
       "      <td>269</td>\n",
       "    </tr>\n",
       "    <tr>\n",
       "      <th>14</th>\n",
       "      <td>EEE</td>\n",
       "      <td>2014B</td>\n",
       "      <td>241</td>\n",
       "    </tr>\n",
       "    <tr>\n",
       "      <th>15</th>\n",
       "      <td>FFF</td>\n",
       "      <td>2113J</td>\n",
       "      <td>268</td>\n",
       "    </tr>\n",
       "    <tr>\n",
       "      <th>16</th>\n",
       "      <td>FFF</td>\n",
       "      <td>2014J</td>\n",
       "      <td>269</td>\n",
       "    </tr>\n",
       "    <tr>\n",
       "      <th>17</th>\n",
       "      <td>FFF</td>\n",
       "      <td>2013B</td>\n",
       "      <td>240</td>\n",
       "    </tr>\n",
       "    <tr>\n",
       "      <th>18</th>\n",
       "      <td>FFF</td>\n",
       "      <td>2014B</td>\n",
       "      <td>241</td>\n",
       "    </tr>\n",
       "    <tr>\n",
       "      <th>19</th>\n",
       "      <td>GGG</td>\n",
       "      <td>2113J</td>\n",
       "      <td>261</td>\n",
       "    </tr>\n",
       "    <tr>\n",
       "      <th>20</th>\n",
       "      <td>GGG</td>\n",
       "      <td>2014J</td>\n",
       "      <td>269</td>\n",
       "    </tr>\n",
       "    <tr>\n",
       "      <th>21</th>\n",
       "      <td>GGG</td>\n",
       "      <td>2014B</td>\n",
       "      <td>241</td>\n",
       "    </tr>\n",
       "  </tbody>\n",
       "</table>\n",
       "</div>"
      ],
      "text/plain": [
       "   code_module code_presentation  module_presentation_length\n",
       "0          AAA             2113J                         268\n",
       "1          AAA             2014J                         269\n",
       "2          BBB             2113J                         268\n",
       "3          BBB             2014J                         262\n",
       "4          BBB             2013B                         240\n",
       "5          BBB             2014B                         234\n",
       "6          CCC             2014J                         269\n",
       "7          CCC             2014B                         241\n",
       "8          DDD             2113J                         261\n",
       "9          DDD             2014J                         262\n",
       "10         DDD             2013B                         240\n",
       "11         DDD             2014B                         241\n",
       "12         EEE             2113J                         268\n",
       "13         EEE             2014J                         269\n",
       "14         EEE             2014B                         241\n",
       "15         FFF             2113J                         268\n",
       "16         FFF             2014J                         269\n",
       "17         FFF             2013B                         240\n",
       "18         FFF             2014B                         241\n",
       "19         GGG             2113J                         261\n",
       "20         GGG             2014J                         269\n",
       "21         GGG             2014B                         241"
      ]
     },
     "execution_count": 11,
     "metadata": {},
     "output_type": "execute_result"
    }
   ],
   "source": [
    "courses"
   ]
  },
  {
   "cell_type": "markdown",
   "metadata": {},
   "source": [
    "##### Pruning columns"
   ]
  },
  {
   "cell_type": "markdown",
   "metadata": {},
   "source": [
    "Each of these columns will be used, so there is no column we can drop."
   ]
  },
  {
   "cell_type": "markdown",
   "metadata": {},
   "source": [
    "##### Missing values"
   ]
  },
  {
   "cell_type": "markdown",
   "metadata": {},
   "source": [
    "There are no null values, so nothing to do here:"
   ]
  },
  {
   "cell_type": "code",
   "execution_count": 12,
   "metadata": {},
   "outputs": [
    {
     "data": {
      "text/plain": [
       "code_module                   False\n",
       "code_presentation             False\n",
       "module_presentation_length    False\n",
       "dtype: bool"
      ]
     },
     "execution_count": 12,
     "metadata": {},
     "output_type": "execute_result"
    }
   ],
   "source": [
    "courses.isnull().any()"
   ]
  },
  {
   "cell_type": "markdown",
   "metadata": {},
   "source": [
    "##### Outliers"
   ]
  },
  {
   "cell_type": "markdown",
   "metadata": {},
   "source": [
    "The only column here that may potentially contain any outliers, is module_presentation_length. Let's have a look at it to see if anything jumps out."
   ]
  },
  {
   "cell_type": "code",
   "execution_count": 13,
   "metadata": {},
   "outputs": [
    {
     "data": {
      "text/plain": [
       "<AxesSubplot:title={'center':'Length of module + presentation'}, xlabel='Module + Presentation', ylabel='Length'>"
      ]
     },
     "execution_count": 13,
     "metadata": {},
     "output_type": "execute_result"
    },
    {
     "data": {
      "image/png": "[encoded data removed]",
      "text/plain": [
       "<Figure size 640x480 with 1 Axes>"
      ]
     },
     "metadata": {},
     "output_type": "display_data"
    }
   ],
   "source": [
    "courses.groupby(['code_module', 'code_presentation'])['module_presentation_length'].sum().plot(kind='bar', xlabel='Module + Presentation', ylabel='Length', title='Length of module + presentation')"
   ]
  },
  {
   "cell_type": "markdown",
   "metadata": {},
   "source": [
    "The module + presentation length seems to be all along the same line. There's no outliers here. The Courses dataframe is clean now!"
   ]
  },
  {
   "cell_type": "markdown",
   "metadata": {},
   "source": [
    "#### StudentAssessment"
   ]
  },
  {
   "cell_type": "markdown",
   "metadata": {},
   "source": [
    "The StudentAssessment dataframe will be used to link assessments to student information. This is important to know eg. gender, age, etc. of a student and compare it to their grades."
   ]
  },
  {
   "cell_type": "code",
   "execution_count": 14,
   "metadata": {},
   "outputs": [
    {
     "data": {
      "text/html": [
       "<div>\n",
       "<style scoped>\n",
       "    .dataframe tbody tr th:only-of-type {\n",
       "        vertical-align: middle;\n",
       "    }\n",
       "\n",
       "    .dataframe tbody tr th {\n",
       "        vertical-align: top;\n",
       "    }\n",
       "\n",
       "    .dataframe thead th {\n",
       "        text-align: right;\n",
       "    }\n",
       "</style>\n",
       "<table border=\"1\" class=\"dataframe\">\n",
       "  <thead>\n",
       "    <tr style=\"text-align: right;\">\n",
       "      <th></th>\n",
       "      <th>id_assessment</th>\n",
       "      <th>id_student</th>\n",
       "      <th>date_submitted</th>\n",
       "      <th>is_banked</th>\n",
       "      <th>score</th>\n",
       "    </tr>\n",
       "  </thead>\n",
       "  <tbody>\n",
       "    <tr>\n",
       "      <th>0</th>\n",
       "      <td>1752</td>\n",
       "      <td>11391</td>\n",
       "      <td>18</td>\n",
       "      <td>0</td>\n",
       "      <td>78.0</td>\n",
       "    </tr>\n",
       "    <tr>\n",
       "      <th>1</th>\n",
       "      <td>1752</td>\n",
       "      <td>28400</td>\n",
       "      <td>22</td>\n",
       "      <td>0</td>\n",
       "      <td>70.0</td>\n",
       "    </tr>\n",
       "    <tr>\n",
       "      <th>2</th>\n",
       "      <td>1752</td>\n",
       "      <td>31604</td>\n",
       "      <td>17</td>\n",
       "      <td>0</td>\n",
       "      <td>72.0</td>\n",
       "    </tr>\n",
       "    <tr>\n",
       "      <th>3</th>\n",
       "      <td>1752</td>\n",
       "      <td>32885</td>\n",
       "      <td>26</td>\n",
       "      <td>0</td>\n",
       "      <td>69.0</td>\n",
       "    </tr>\n",
       "    <tr>\n",
       "      <th>4</th>\n",
       "      <td>1752</td>\n",
       "      <td>38053</td>\n",
       "      <td>19</td>\n",
       "      <td>0</td>\n",
       "      <td>79.0</td>\n",
       "    </tr>\n",
       "    <tr>\n",
       "      <th>...</th>\n",
       "      <td>...</td>\n",
       "      <td>...</td>\n",
       "      <td>...</td>\n",
       "      <td>...</td>\n",
       "      <td>...</td>\n",
       "    </tr>\n",
       "    <tr>\n",
       "      <th>173907</th>\n",
       "      <td>37443</td>\n",
       "      <td>527538</td>\n",
       "      <td>227</td>\n",
       "      <td>0</td>\n",
       "      <td>60.0</td>\n",
       "    </tr>\n",
       "    <tr>\n",
       "      <th>173908</th>\n",
       "      <td>37443</td>\n",
       "      <td>534672</td>\n",
       "      <td>229</td>\n",
       "      <td>0</td>\n",
       "      <td>100.0</td>\n",
       "    </tr>\n",
       "    <tr>\n",
       "      <th>173909</th>\n",
       "      <td>37443</td>\n",
       "      <td>546286</td>\n",
       "      <td>215</td>\n",
       "      <td>0</td>\n",
       "      <td>80.0</td>\n",
       "    </tr>\n",
       "    <tr>\n",
       "      <th>173910</th>\n",
       "      <td>37443</td>\n",
       "      <td>546724</td>\n",
       "      <td>230</td>\n",
       "      <td>0</td>\n",
       "      <td>100.0</td>\n",
       "    </tr>\n",
       "    <tr>\n",
       "      <th>173911</th>\n",
       "      <td>37443</td>\n",
       "      <td>558486</td>\n",
       "      <td>224</td>\n",
       "      <td>0</td>\n",
       "      <td>80.0</td>\n",
       "    </tr>\n",
       "  </tbody>\n",
       "</table>\n",
       "<p>173912 rows × 5 columns</p>\n",
       "</div>"
      ],
      "text/plain": [
       "        id_assessment  id_student  date_submitted  is_banked  score\n",
       "0                1752       11391              18          0   78.0\n",
       "1                1752       28400              22          0   70.0\n",
       "2                1752       31604              17          0   72.0\n",
       "3                1752       32885              26          0   69.0\n",
       "4                1752       38053              19          0   79.0\n",
       "...               ...         ...             ...        ...    ...\n",
       "173907          37443      527538             227          0   60.0\n",
       "173908          37443      534672             229          0  100.0\n",
       "173909          37443      546286             215          0   80.0\n",
       "173910          37443      546724             230          0  100.0\n",
       "173911          37443      558486             224          0   80.0\n",
       "\n",
       "[173912 rows x 5 columns]"
      ]
     },
     "execution_count": 14,
     "metadata": {},
     "output_type": "execute_result"
    }
   ],
   "source": [
    "studentAssessment"
   ]
  },
  {
   "cell_type": "markdown",
   "metadata": {},
   "source": [
    "Five columns. Is_banked is a boolean value, so the 0s we see there are not the same as null and should be left in. However, the column itself will be pruned as we won't actually use it, so its values don't actually matter for us."
   ]
  },
  {
   "cell_type": "markdown",
   "metadata": {},
   "source": [
    "##### Pruning columns"
   ]
  },
  {
   "cell_type": "markdown",
   "metadata": {},
   "source": [
    "As we just stated, the is_banked column will be dropped. We're only interested in exams. Those are on fixed dates, so date_submitted is also of no concern to us."
   ]
  },
  {
   "cell_type": "code",
   "execution_count": 15,
   "metadata": {},
   "outputs": [
    {
     "data": {
      "text/html": [
       "<div>\n",
       "<style scoped>\n",
       "    .dataframe tbody tr th:only-of-type {\n",
       "        vertical-align: middle;\n",
       "    }\n",
       "\n",
       "    .dataframe tbody tr th {\n",
       "        vertical-align: top;\n",
       "    }\n",
       "\n",
       "    .dataframe thead th {\n",
       "        text-align: right;\n",
       "    }\n",
       "</style>\n",
       "<table border=\"1\" class=\"dataframe\">\n",
       "  <thead>\n",
       "    <tr style=\"text-align: right;\">\n",
       "      <th></th>\n",
       "      <th>id_assessment</th>\n",
       "      <th>id_student</th>\n",
       "      <th>score</th>\n",
       "    </tr>\n",
       "  </thead>\n",
       "  <tbody>\n",
       "    <tr>\n",
       "      <th>0</th>\n",
       "      <td>1752</td>\n",
       "      <td>11391</td>\n",
       "      <td>78.0</td>\n",
       "    </tr>\n",
       "    <tr>\n",
       "      <th>1</th>\n",
       "      <td>1752</td>\n",
       "      <td>28400</td>\n",
       "      <td>70.0</td>\n",
       "    </tr>\n",
       "    <tr>\n",
       "      <th>2</th>\n",
       "      <td>1752</td>\n",
       "      <td>31604</td>\n",
       "      <td>72.0</td>\n",
       "    </tr>\n",
       "    <tr>\n",
       "      <th>3</th>\n",
       "      <td>1752</td>\n",
       "      <td>32885</td>\n",
       "      <td>69.0</td>\n",
       "    </tr>\n",
       "    <tr>\n",
       "      <th>4</th>\n",
       "      <td>1752</td>\n",
       "      <td>38053</td>\n",
       "      <td>79.0</td>\n",
       "    </tr>\n",
       "    <tr>\n",
       "      <th>...</th>\n",
       "      <td>...</td>\n",
       "      <td>...</td>\n",
       "      <td>...</td>\n",
       "    </tr>\n",
       "    <tr>\n",
       "      <th>173907</th>\n",
       "      <td>37443</td>\n",
       "      <td>527538</td>\n",
       "      <td>60.0</td>\n",
       "    </tr>\n",
       "    <tr>\n",
       "      <th>173908</th>\n",
       "      <td>37443</td>\n",
       "      <td>534672</td>\n",
       "      <td>100.0</td>\n",
       "    </tr>\n",
       "    <tr>\n",
       "      <th>173909</th>\n",
       "      <td>37443</td>\n",
       "      <td>546286</td>\n",
       "      <td>80.0</td>\n",
       "    </tr>\n",
       "    <tr>\n",
       "      <th>173910</th>\n",
       "      <td>37443</td>\n",
       "      <td>546724</td>\n",
       "      <td>100.0</td>\n",
       "    </tr>\n",
       "    <tr>\n",
       "      <th>173911</th>\n",
       "      <td>37443</td>\n",
       "      <td>558486</td>\n",
       "      <td>80.0</td>\n",
       "    </tr>\n",
       "  </tbody>\n",
       "</table>\n",
       "<p>173912 rows × 3 columns</p>\n",
       "</div>"
      ],
      "text/plain": [
       "        id_assessment  id_student  score\n",
       "0                1752       11391   78.0\n",
       "1                1752       28400   70.0\n",
       "2                1752       31604   72.0\n",
       "3                1752       32885   69.0\n",
       "4                1752       38053   79.0\n",
       "...               ...         ...    ...\n",
       "173907          37443      527538   60.0\n",
       "173908          37443      534672  100.0\n",
       "173909          37443      546286   80.0\n",
       "173910          37443      546724  100.0\n",
       "173911          37443      558486   80.0\n",
       "\n",
       "[173912 rows x 3 columns]"
      ]
     },
     "execution_count": 15,
     "metadata": {},
     "output_type": "execute_result"
    }
   ],
   "source": [
    "del studentAssessment['is_banked']\n",
    "del studentAssessment['date_submitted']\n",
    "studentAssessment"
   ]
  },
  {
   "cell_type": "markdown",
   "metadata": {},
   "source": [
    "##### Missing values"
   ]
  },
  {
   "cell_type": "markdown",
   "metadata": {},
   "source": [
    "Let's check for any actual null values."
   ]
  },
  {
   "cell_type": "code",
   "execution_count": 16,
   "metadata": {},
   "outputs": [
    {
     "data": {
      "text/plain": [
       "id_assessment    False\n",
       "id_student       False\n",
       "score             True\n",
       "dtype: bool"
      ]
     },
     "execution_count": 16,
     "metadata": {},
     "output_type": "execute_result"
    }
   ],
   "source": [
    "studentAssessment.isnull().any()"
   ]
  },
  {
   "cell_type": "markdown",
   "metadata": {},
   "source": [
    "There are null values for score."
   ]
  },
  {
   "cell_type": "code",
   "execution_count": 17,
   "metadata": {},
   "outputs": [
    {
     "data": {
      "text/html": [
       "<div>\n",
       "<style scoped>\n",
       "    .dataframe tbody tr th:only-of-type {\n",
       "        vertical-align: middle;\n",
       "    }\n",
       "\n",
       "    .dataframe tbody tr th {\n",
       "        vertical-align: top;\n",
       "    }\n",
       "\n",
       "    .dataframe thead th {\n",
       "        text-align: right;\n",
       "    }\n",
       "</style>\n",
       "<table border=\"1\" class=\"dataframe\">\n",
       "  <thead>\n",
       "    <tr style=\"text-align: right;\">\n",
       "      <th></th>\n",
       "      <th>id_assessment</th>\n",
       "      <th>id_student</th>\n",
       "    </tr>\n",
       "    <tr>\n",
       "      <th>score</th>\n",
       "      <th></th>\n",
       "      <th></th>\n",
       "    </tr>\n",
       "  </thead>\n",
       "  <tbody>\n",
       "    <tr>\n",
       "      <th>False</th>\n",
       "      <td>173739</td>\n",
       "      <td>173739</td>\n",
       "    </tr>\n",
       "    <tr>\n",
       "      <th>True</th>\n",
       "      <td>173</td>\n",
       "      <td>173</td>\n",
       "    </tr>\n",
       "  </tbody>\n",
       "</table>\n",
       "</div>"
      ],
      "text/plain": [
       "       id_assessment  id_student\n",
       "score                           \n",
       "False         173739      173739\n",
       "True             173         173"
      ]
     },
     "execution_count": 17,
     "metadata": {},
     "output_type": "execute_result"
    }
   ],
   "source": [
    "studentAssessment.isnull().groupby(['score']).count()"
   ]
  },
  {
   "cell_type": "markdown",
   "metadata": {},
   "source": [
    "There are 173 null scores, out of 173739 scores. That is a very small amount, roughly 0,01% of all assessments. Let's see if we can find out why this is."
   ]
  },
  {
   "cell_type": "markdown",
   "metadata": {},
   "source": [
    "First, let's check if it has to do with the type of assessment. We'll split this in two parts: Checking the type for the null scores, and for the scores that are not null."
   ]
  },
  {
   "cell_type": "markdown",
   "metadata": {},
   "source": [
    "Checking type for null scores:"
   ]
  },
  {
   "cell_type": "code",
   "execution_count": 18,
   "metadata": {},
   "outputs": [
    {
     "data": {
      "text/html": [
       "<div>\n",
       "<style scoped>\n",
       "    .dataframe tbody tr th:only-of-type {\n",
       "        vertical-align: middle;\n",
       "    }\n",
       "\n",
       "    .dataframe tbody tr th {\n",
       "        vertical-align: top;\n",
       "    }\n",
       "\n",
       "    .dataframe thead th {\n",
       "        text-align: right;\n",
       "    }\n",
       "</style>\n",
       "<table border=\"1\" class=\"dataframe\">\n",
       "  <thead>\n",
       "    <tr style=\"text-align: right;\">\n",
       "      <th></th>\n",
       "      <th>id_assessment</th>\n",
       "      <th>id_student</th>\n",
       "      <th>score</th>\n",
       "      <th>code_module</th>\n",
       "      <th>code_presentation</th>\n",
       "    </tr>\n",
       "    <tr>\n",
       "      <th>assessment_type</th>\n",
       "      <th></th>\n",
       "      <th></th>\n",
       "      <th></th>\n",
       "      <th></th>\n",
       "      <th></th>\n",
       "    </tr>\n",
       "  </thead>\n",
       "  <tbody>\n",
       "    <tr>\n",
       "      <th>TMA</th>\n",
       "      <td>173</td>\n",
       "      <td>173</td>\n",
       "      <td>0</td>\n",
       "      <td>173</td>\n",
       "      <td>173</td>\n",
       "    </tr>\n",
       "  </tbody>\n",
       "</table>\n",
       "</div>"
      ],
      "text/plain": [
       "                 id_assessment  id_student  score  code_module  \\\n",
       "assessment_type                                                  \n",
       "TMA                        173         173      0          173   \n",
       "\n",
       "                 code_presentation  \n",
       "assessment_type                     \n",
       "TMA                            173  "
      ]
     },
     "execution_count": 18,
     "metadata": {},
     "output_type": "execute_result"
    }
   ],
   "source": [
    "nullScores = studentAssessment[studentAssessment['score'].isnull()]\n",
    "nullAssessments = pd.merge(left= nullScores,right=assessment, how='inner')\n",
    "nullAssessments.groupby('assessment_type').count()"
   ]
  },
  {
   "cell_type": "markdown",
   "metadata": {},
   "source": [
    "Checking type for scores that are not null:"
   ]
  },
  {
   "cell_type": "code",
   "execution_count": 19,
   "metadata": {},
   "outputs": [
    {
     "data": {
      "text/html": [
       "<div>\n",
       "<style scoped>\n",
       "    .dataframe tbody tr th:only-of-type {\n",
       "        vertical-align: middle;\n",
       "    }\n",
       "\n",
       "    .dataframe tbody tr th {\n",
       "        vertical-align: top;\n",
       "    }\n",
       "\n",
       "    .dataframe thead th {\n",
       "        text-align: right;\n",
       "    }\n",
       "</style>\n",
       "<table border=\"1\" class=\"dataframe\">\n",
       "  <thead>\n",
       "    <tr style=\"text-align: right;\">\n",
       "      <th></th>\n",
       "      <th>id_assessment</th>\n",
       "      <th>id_student</th>\n",
       "      <th>score</th>\n",
       "      <th>code_module</th>\n",
       "      <th>code_presentation</th>\n",
       "    </tr>\n",
       "    <tr>\n",
       "      <th>assessment_type</th>\n",
       "      <th></th>\n",
       "      <th></th>\n",
       "      <th></th>\n",
       "      <th></th>\n",
       "      <th></th>\n",
       "    </tr>\n",
       "  </thead>\n",
       "  <tbody>\n",
       "    <tr>\n",
       "      <th>CMA</th>\n",
       "      <td>70527</td>\n",
       "      <td>70527</td>\n",
       "      <td>70527</td>\n",
       "      <td>70527</td>\n",
       "      <td>70527</td>\n",
       "    </tr>\n",
       "    <tr>\n",
       "      <th>Exam</th>\n",
       "      <td>4959</td>\n",
       "      <td>4959</td>\n",
       "      <td>4959</td>\n",
       "      <td>4959</td>\n",
       "      <td>4959</td>\n",
       "    </tr>\n",
       "    <tr>\n",
       "      <th>TMA</th>\n",
       "      <td>98253</td>\n",
       "      <td>98253</td>\n",
       "      <td>98253</td>\n",
       "      <td>98253</td>\n",
       "      <td>98253</td>\n",
       "    </tr>\n",
       "  </tbody>\n",
       "</table>\n",
       "</div>"
      ],
      "text/plain": [
       "                 id_assessment  id_student  score  code_module  \\\n",
       "assessment_type                                                  \n",
       "CMA                      70527       70527  70527        70527   \n",
       "Exam                      4959        4959   4959         4959   \n",
       "TMA                      98253       98253  98253        98253   \n",
       "\n",
       "                 code_presentation  \n",
       "assessment_type                     \n",
       "CMA                          70527  \n",
       "Exam                          4959  \n",
       "TMA                          98253  "
      ]
     },
     "execution_count": 19,
     "metadata": {},
     "output_type": "execute_result"
    }
   ],
   "source": [
    "notNullScores = studentAssessment[studentAssessment['score'].notnull()]\n",
    "notNullAssessments = pd.merge(left= notNullScores,right=assessment, how='inner')\n",
    "notNullAssessments.groupby('assessment_type').count()"
   ]
  },
  {
   "cell_type": "markdown",
   "metadata": {},
   "source": [
    "We can clearly see that the small amount of assessments not scored, are of type TMA. These are Teacher Marked Assessments. No other type has null scores. As teachers are humans, and humans can make errors, these missing scores can be attributed to human error. The teachers had alot of scores to fill out and over time, one teacher here and another teacher there missed entering one score here or there."
   ]
  },
  {
   "cell_type": "markdown",
   "metadata": {},
   "source": [
    "Luckily for us, we're only interested in exams, though, not TMA or CMA (Computer Marked Assessment). Later on, we'll filter out the assessments of type Exam anyways, so no need to do anything about the null values in score here."
   ]
  },
  {
   "cell_type": "markdown",
   "metadata": {},
   "source": [
    "##### Outliers"
   ]
  },
  {
   "cell_type": "markdown",
   "metadata": {},
   "source": [
    "For StudentAssessment, the only column that has the potential to have outliers, it's score. However, as long as it's between 0 and 100, this data is fine. We'll have to check if there's any score outside that range."
   ]
  },
  {
   "cell_type": "code",
   "execution_count": 20,
   "metadata": {},
   "outputs": [
    {
     "data": {
      "text/plain": [
       "0"
      ]
     },
     "execution_count": 20,
     "metadata": {},
     "output_type": "execute_result"
    }
   ],
   "source": [
    "studentAssessment.loc[(studentAssessment['score'] < 0) | (studentAssessment['score'] > 100)]['id_assessment'].count()"
   ]
  },
  {
   "cell_type": "markdown",
   "metadata": {},
   "source": [
    "There are zero assessments outside the 0 - 100 range. The StudentAssessment dataframe is ready for usage."
   ]
  },
  {
   "cell_type": "markdown",
   "metadata": {},
   "source": [
    "#### StudentInfo"
   ]
  },
  {
   "cell_type": "markdown",
   "metadata": {},
   "source": [
    "The studentInfo dataframe has all the personal information of a student. Aside from the primary and foreign keys, the fields that are of most interest to us, are gender, age_band and final_result."
   ]
  },
  {
   "cell_type": "code",
   "execution_count": 21,
   "metadata": {},
   "outputs": [
    {
     "data": {
      "text/html": [
       "<div>\n",
       "<style scoped>\n",
       "    .dataframe tbody tr th:only-of-type {\n",
       "        vertical-align: middle;\n",
       "    }\n",
       "\n",
       "    .dataframe tbody tr th {\n",
       "        vertical-align: top;\n",
       "    }\n",
       "\n",
       "    .dataframe thead th {\n",
       "        text-align: right;\n",
       "    }\n",
       "</style>\n",
       "<table border=\"1\" class=\"dataframe\">\n",
       "  <thead>\n",
       "    <tr style=\"text-align: right;\">\n",
       "      <th></th>\n",
       "      <th>code_module</th>\n",
       "      <th>code_presentation</th>\n",
       "      <th>id_student</th>\n",
       "      <th>gender</th>\n",
       "      <th>region</th>\n",
       "      <th>highest_education</th>\n",
       "      <th>imd_band</th>\n",
       "      <th>age_band</th>\n",
       "      <th>num_of_prev_attempts</th>\n",
       "      <th>studied_credits</th>\n",
       "      <th>disability</th>\n",
       "      <th>final_result</th>\n",
       "    </tr>\n",
       "  </thead>\n",
       "  <tbody>\n",
       "    <tr>\n",
       "      <th>0</th>\n",
       "      <td>AAA</td>\n",
       "      <td>2013J</td>\n",
       "      <td>11391</td>\n",
       "      <td>M</td>\n",
       "      <td>East Anglian Region</td>\n",
       "      <td>HE Qualification</td>\n",
       "      <td>90-100%</td>\n",
       "      <td>55&lt;=</td>\n",
       "      <td>0</td>\n",
       "      <td>240</td>\n",
       "      <td>N</td>\n",
       "      <td>Pass</td>\n",
       "    </tr>\n",
       "    <tr>\n",
       "      <th>1</th>\n",
       "      <td>NaN</td>\n",
       "      <td>NaN</td>\n",
       "      <td>28400</td>\n",
       "      <td>NaN</td>\n",
       "      <td>Scotland</td>\n",
       "      <td>NaN</td>\n",
       "      <td>20-30%</td>\n",
       "      <td>NaN</td>\n",
       "      <td>0</td>\n",
       "      <td>60</td>\n",
       "      <td>N</td>\n",
       "      <td>Pass</td>\n",
       "    </tr>\n",
       "    <tr>\n",
       "      <th>2</th>\n",
       "      <td>AAA</td>\n",
       "      <td>2013J</td>\n",
       "      <td>30268</td>\n",
       "      <td>F</td>\n",
       "      <td>North Western Region</td>\n",
       "      <td>A Level or Equivalent</td>\n",
       "      <td>30-40%</td>\n",
       "      <td>35-55</td>\n",
       "      <td>0</td>\n",
       "      <td>60</td>\n",
       "      <td>Y</td>\n",
       "      <td>Withdrawn</td>\n",
       "    </tr>\n",
       "    <tr>\n",
       "      <th>3</th>\n",
       "      <td>AAA</td>\n",
       "      <td>2013J</td>\n",
       "      <td>31604</td>\n",
       "      <td>F</td>\n",
       "      <td>South East Region</td>\n",
       "      <td>A Level or Equivalent</td>\n",
       "      <td>50-60%</td>\n",
       "      <td>35-55</td>\n",
       "      <td>0</td>\n",
       "      <td>60</td>\n",
       "      <td>N</td>\n",
       "      <td>Pass</td>\n",
       "    </tr>\n",
       "    <tr>\n",
       "      <th>4</th>\n",
       "      <td>AAA</td>\n",
       "      <td>2013J</td>\n",
       "      <td>32885</td>\n",
       "      <td>F</td>\n",
       "      <td>West Midlands Region</td>\n",
       "      <td>Lower Than A Level</td>\n",
       "      <td>50-60%</td>\n",
       "      <td>0-35</td>\n",
       "      <td>0</td>\n",
       "      <td>60</td>\n",
       "      <td>N</td>\n",
       "      <td>Pass</td>\n",
       "    </tr>\n",
       "    <tr>\n",
       "      <th>...</th>\n",
       "      <td>...</td>\n",
       "      <td>...</td>\n",
       "      <td>...</td>\n",
       "      <td>...</td>\n",
       "      <td>...</td>\n",
       "      <td>...</td>\n",
       "      <td>...</td>\n",
       "      <td>...</td>\n",
       "      <td>...</td>\n",
       "      <td>...</td>\n",
       "      <td>...</td>\n",
       "      <td>...</td>\n",
       "    </tr>\n",
       "    <tr>\n",
       "      <th>32588</th>\n",
       "      <td>GGG</td>\n",
       "      <td>2014J</td>\n",
       "      <td>2640965</td>\n",
       "      <td>F</td>\n",
       "      <td>Wales</td>\n",
       "      <td>Lower Than A Level</td>\n",
       "      <td>10-20</td>\n",
       "      <td>0-35</td>\n",
       "      <td>0</td>\n",
       "      <td>30</td>\n",
       "      <td>N</td>\n",
       "      <td>Fail</td>\n",
       "    </tr>\n",
       "    <tr>\n",
       "      <th>32589</th>\n",
       "      <td>GGG</td>\n",
       "      <td>2014J</td>\n",
       "      <td>2645731</td>\n",
       "      <td>F</td>\n",
       "      <td>East Anglian Region</td>\n",
       "      <td>Lower Than A Level</td>\n",
       "      <td>40-50%</td>\n",
       "      <td>35-55</td>\n",
       "      <td>0</td>\n",
       "      <td>30</td>\n",
       "      <td>N</td>\n",
       "      <td>Distinction</td>\n",
       "    </tr>\n",
       "    <tr>\n",
       "      <th>32590</th>\n",
       "      <td>GGG</td>\n",
       "      <td>2014J</td>\n",
       "      <td>2648187</td>\n",
       "      <td>F</td>\n",
       "      <td>South Region</td>\n",
       "      <td>A Level or Equivalent</td>\n",
       "      <td>20-30%</td>\n",
       "      <td>0-35</td>\n",
       "      <td>0</td>\n",
       "      <td>30</td>\n",
       "      <td>Y</td>\n",
       "      <td>Pass</td>\n",
       "    </tr>\n",
       "    <tr>\n",
       "      <th>32591</th>\n",
       "      <td>GGG</td>\n",
       "      <td>2014J</td>\n",
       "      <td>2679821</td>\n",
       "      <td>F</td>\n",
       "      <td>South East Region</td>\n",
       "      <td>Lower Than A Level</td>\n",
       "      <td>90-100%</td>\n",
       "      <td>35-55</td>\n",
       "      <td>0</td>\n",
       "      <td>30</td>\n",
       "      <td>N</td>\n",
       "      <td>Withdrawn</td>\n",
       "    </tr>\n",
       "    <tr>\n",
       "      <th>32592</th>\n",
       "      <td>GGG</td>\n",
       "      <td>2014J</td>\n",
       "      <td>2684003</td>\n",
       "      <td>F</td>\n",
       "      <td>Yorkshire Region</td>\n",
       "      <td>HE Qualification</td>\n",
       "      <td>50-60%</td>\n",
       "      <td>35-55</td>\n",
       "      <td>0</td>\n",
       "      <td>30</td>\n",
       "      <td>N</td>\n",
       "      <td>Distinction</td>\n",
       "    </tr>\n",
       "  </tbody>\n",
       "</table>\n",
       "<p>32593 rows × 12 columns</p>\n",
       "</div>"
      ],
      "text/plain": [
       "      code_module code_presentation  id_student gender                region  \\\n",
       "0             AAA             2013J       11391      M   East Anglian Region   \n",
       "1             NaN               NaN       28400    NaN              Scotland   \n",
       "2             AAA             2013J       30268      F  North Western Region   \n",
       "3             AAA             2013J       31604      F     South East Region   \n",
       "4             AAA             2013J       32885      F  West Midlands Region   \n",
       "...           ...               ...         ...    ...                   ...   \n",
       "32588         GGG             2014J     2640965      F                 Wales   \n",
       "32589         GGG             2014J     2645731      F   East Anglian Region   \n",
       "32590         GGG             2014J     2648187      F          South Region   \n",
       "32591         GGG             2014J     2679821      F     South East Region   \n",
       "32592         GGG             2014J     2684003      F      Yorkshire Region   \n",
       "\n",
       "           highest_education imd_band age_band  num_of_prev_attempts  \\\n",
       "0           HE Qualification  90-100%     55<=                     0   \n",
       "1                        NaN   20-30%      NaN                     0   \n",
       "2      A Level or Equivalent   30-40%    35-55                     0   \n",
       "3      A Level or Equivalent   50-60%    35-55                     0   \n",
       "4         Lower Than A Level   50-60%     0-35                     0   \n",
       "...                      ...      ...      ...                   ...   \n",
       "32588     Lower Than A Level    10-20     0-35                     0   \n",
       "32589     Lower Than A Level   40-50%    35-55                     0   \n",
       "32590  A Level or Equivalent   20-30%     0-35                     0   \n",
       "32591     Lower Than A Level  90-100%    35-55                     0   \n",
       "32592       HE Qualification   50-60%    35-55                     0   \n",
       "\n",
       "       studied_credits disability final_result  \n",
       "0                  240          N         Pass  \n",
       "1                   60          N         Pass  \n",
       "2                   60          Y    Withdrawn  \n",
       "3                   60          N         Pass  \n",
       "4                   60          N         Pass  \n",
       "...                ...        ...          ...  \n",
       "32588               30          N         Fail  \n",
       "32589               30          N  Distinction  \n",
       "32590               30          Y         Pass  \n",
       "32591               30          N    Withdrawn  \n",
       "32592               30          N  Distinction  \n",
       "\n",
       "[32593 rows x 12 columns]"
      ]
     },
     "execution_count": 21,
     "metadata": {},
     "output_type": "execute_result"
    }
   ],
   "source": [
    "studentInfo"
   ]
  },
  {
   "cell_type": "markdown",
   "metadata": {},
   "source": [
    "##### Pruning columns"
   ]
  },
  {
   "cell_type": "markdown",
   "metadata": {},
   "source": [
    "Let's first drop the fields we're not interested in, as it's a whole lot of clutter."
   ]
  },
  {
   "cell_type": "code",
   "execution_count": 22,
   "metadata": {},
   "outputs": [
    {
     "data": {
      "text/html": [
       "<div>\n",
       "<style scoped>\n",
       "    .dataframe tbody tr th:only-of-type {\n",
       "        vertical-align: middle;\n",
       "    }\n",
       "\n",
       "    .dataframe tbody tr th {\n",
       "        vertical-align: top;\n",
       "    }\n",
       "\n",
       "    .dataframe thead th {\n",
       "        text-align: right;\n",
       "    }\n",
       "</style>\n",
       "<table border=\"1\" class=\"dataframe\">\n",
       "  <thead>\n",
       "    <tr style=\"text-align: right;\">\n",
       "      <th></th>\n",
       "      <th>code_module</th>\n",
       "      <th>code_presentation</th>\n",
       "      <th>id_student</th>\n",
       "      <th>gender</th>\n",
       "      <th>age_band</th>\n",
       "      <th>final_result</th>\n",
       "    </tr>\n",
       "  </thead>\n",
       "  <tbody>\n",
       "    <tr>\n",
       "      <th>0</th>\n",
       "      <td>AAA</td>\n",
       "      <td>2013J</td>\n",
       "      <td>11391</td>\n",
       "      <td>M</td>\n",
       "      <td>55&lt;=</td>\n",
       "      <td>Pass</td>\n",
       "    </tr>\n",
       "    <tr>\n",
       "      <th>1</th>\n",
       "      <td>NaN</td>\n",
       "      <td>NaN</td>\n",
       "      <td>28400</td>\n",
       "      <td>NaN</td>\n",
       "      <td>NaN</td>\n",
       "      <td>Pass</td>\n",
       "    </tr>\n",
       "    <tr>\n",
       "      <th>2</th>\n",
       "      <td>AAA</td>\n",
       "      <td>2013J</td>\n",
       "      <td>30268</td>\n",
       "      <td>F</td>\n",
       "      <td>35-55</td>\n",
       "      <td>Withdrawn</td>\n",
       "    </tr>\n",
       "    <tr>\n",
       "      <th>3</th>\n",
       "      <td>AAA</td>\n",
       "      <td>2013J</td>\n",
       "      <td>31604</td>\n",
       "      <td>F</td>\n",
       "      <td>35-55</td>\n",
       "      <td>Pass</td>\n",
       "    </tr>\n",
       "    <tr>\n",
       "      <th>4</th>\n",
       "      <td>AAA</td>\n",
       "      <td>2013J</td>\n",
       "      <td>32885</td>\n",
       "      <td>F</td>\n",
       "      <td>0-35</td>\n",
       "      <td>Pass</td>\n",
       "    </tr>\n",
       "    <tr>\n",
       "      <th>...</th>\n",
       "      <td>...</td>\n",
       "      <td>...</td>\n",
       "      <td>...</td>\n",
       "      <td>...</td>\n",
       "      <td>...</td>\n",
       "      <td>...</td>\n",
       "    </tr>\n",
       "    <tr>\n",
       "      <th>32588</th>\n",
       "      <td>GGG</td>\n",
       "      <td>2014J</td>\n",
       "      <td>2640965</td>\n",
       "      <td>F</td>\n",
       "      <td>0-35</td>\n",
       "      <td>Fail</td>\n",
       "    </tr>\n",
       "    <tr>\n",
       "      <th>32589</th>\n",
       "      <td>GGG</td>\n",
       "      <td>2014J</td>\n",
       "      <td>2645731</td>\n",
       "      <td>F</td>\n",
       "      <td>35-55</td>\n",
       "      <td>Distinction</td>\n",
       "    </tr>\n",
       "    <tr>\n",
       "      <th>32590</th>\n",
       "      <td>GGG</td>\n",
       "      <td>2014J</td>\n",
       "      <td>2648187</td>\n",
       "      <td>F</td>\n",
       "      <td>0-35</td>\n",
       "      <td>Pass</td>\n",
       "    </tr>\n",
       "    <tr>\n",
       "      <th>32591</th>\n",
       "      <td>GGG</td>\n",
       "      <td>2014J</td>\n",
       "      <td>2679821</td>\n",
       "      <td>F</td>\n",
       "      <td>35-55</td>\n",
       "      <td>Withdrawn</td>\n",
       "    </tr>\n",
       "    <tr>\n",
       "      <th>32592</th>\n",
       "      <td>GGG</td>\n",
       "      <td>2014J</td>\n",
       "      <td>2684003</td>\n",
       "      <td>F</td>\n",
       "      <td>35-55</td>\n",
       "      <td>Distinction</td>\n",
       "    </tr>\n",
       "  </tbody>\n",
       "</table>\n",
       "<p>32593 rows × 6 columns</p>\n",
       "</div>"
      ],
      "text/plain": [
       "      code_module code_presentation  id_student gender age_band final_result\n",
       "0             AAA             2013J       11391      M     55<=         Pass\n",
       "1             NaN               NaN       28400    NaN      NaN         Pass\n",
       "2             AAA             2013J       30268      F    35-55    Withdrawn\n",
       "3             AAA             2013J       31604      F    35-55         Pass\n",
       "4             AAA             2013J       32885      F     0-35         Pass\n",
       "...           ...               ...         ...    ...      ...          ...\n",
       "32588         GGG             2014J     2640965      F     0-35         Fail\n",
       "32589         GGG             2014J     2645731      F    35-55  Distinction\n",
       "32590         GGG             2014J     2648187      F     0-35         Pass\n",
       "32591         GGG             2014J     2679821      F    35-55    Withdrawn\n",
       "32592         GGG             2014J     2684003      F    35-55  Distinction\n",
       "\n",
       "[32593 rows x 6 columns]"
      ]
     },
     "execution_count": 22,
     "metadata": {},
     "output_type": "execute_result"
    }
   ],
   "source": [
    "del studentInfo['region']\n",
    "del studentInfo['highest_education']\n",
    "del studentInfo['imd_band']\n",
    "del studentInfo['num_of_prev_attempts']\n",
    "del studentInfo['studied_credits']\n",
    "del studentInfo['disability']\n",
    "studentInfo"
   ]
  },
  {
   "cell_type": "markdown",
   "metadata": {},
   "source": [
    "As always, we'll need to find the null values, first:"
   ]
  },
  {
   "cell_type": "code",
   "execution_count": 23,
   "metadata": {},
   "outputs": [
    {
     "data": {
      "text/plain": [
       "code_module           True\n",
       "code_presentation     True\n",
       "id_student           False\n",
       "gender                True\n",
       "age_band              True\n",
       "final_result         False\n",
       "dtype: bool"
      ]
     },
     "execution_count": 23,
     "metadata": {},
     "output_type": "execute_result"
    }
   ],
   "source": [
    "studentInfo.isnull().any()"
   ]
  },
  {
   "cell_type": "markdown",
   "metadata": {},
   "source": [
    "Code_module and code_presentation have null values. We can drop these rows, as we're interested in exams scores. If there's no module or presentation linked to the data, there is also no exam linked to it, thus no exam score."
   ]
  },
  {
   "cell_type": "code",
   "execution_count": 24,
   "metadata": {},
   "outputs": [],
   "source": [
    "studentInfo = studentInfo[studentInfo['code_module'].notnull()]\n",
    "studentInfo = studentInfo[studentInfo['code_presentation'].notnull()]"
   ]
  },
  {
   "cell_type": "markdown",
   "metadata": {},
   "source": [
    "Let's see if that cleared out other null values along the way:"
   ]
  },
  {
   "cell_type": "code",
   "execution_count": 25,
   "metadata": {},
   "outputs": [
    {
     "data": {
      "text/plain": [
       "code_module          False\n",
       "code_presentation    False\n",
       "id_student           False\n",
       "gender               False\n",
       "age_band             False\n",
       "final_result         False\n",
       "dtype: bool"
      ]
     },
     "execution_count": 25,
     "metadata": {},
     "output_type": "execute_result"
    }
   ],
   "source": [
    "studentInfo.isnull().any()"
   ]
  },
  {
   "cell_type": "markdown",
   "metadata": {},
   "source": [
    "We now have no more missing values."
   ]
  },
  {
   "cell_type": "markdown",
   "metadata": {},
   "source": [
    "##### Outliers"
   ]
  },
  {
   "cell_type": "markdown",
   "metadata": {},
   "source": [
    "With the StudentInfo, there's alot of potential for outliers. We'll check the following categorical data:\n",
    "* Gender\n",
    "* Age band\n",
    "* Final result"
   ]
  },
  {
   "cell_type": "markdown",
   "metadata": {},
   "source": [
    "**Gender**"
   ]
  },
  {
   "cell_type": "markdown",
   "metadata": {},
   "source": [
    "Gender can have one of two values: M or F. Let's see if there's any value other than that:"
   ]
  },
  {
   "cell_type": "code",
   "execution_count": 26,
   "metadata": {},
   "outputs": [
    {
     "data": {
      "text/plain": [
       "gender\n",
       "F    13311\n",
       "M    15836\n",
       "Name: id_student, dtype: int64"
      ]
     },
     "execution_count": 26,
     "metadata": {},
     "output_type": "execute_result"
    }
   ],
   "source": [
    "studentInfo.groupby(['gender'])['id_student'].count()"
   ]
  },
  {
   "cell_type": "markdown",
   "metadata": {},
   "source": [
    "There's only M and F as values for gender, so no outliers there."
   ]
  },
  {
   "cell_type": "markdown",
   "metadata": {},
   "source": [
    "**Age band**"
   ]
  },
  {
   "cell_type": "markdown",
   "metadata": {},
   "source": [
    "Age band may contain any of the following values:\n",
    "* 0-35\n",
    "* 35-55\n",
    "* 55<="
   ]
  },
  {
   "cell_type": "markdown",
   "metadata": {},
   "source": [
    "Let's check the different values in this column."
   ]
  },
  {
   "cell_type": "code",
   "execution_count": 27,
   "metadata": {},
   "outputs": [
    {
     "data": {
      "text/plain": [
       "age_band\n",
       "0-35     20665\n",
       "35-55     8298\n",
       "55<=       184\n",
       "Name: id_student, dtype: int64"
      ]
     },
     "execution_count": 27,
     "metadata": {},
     "output_type": "execute_result"
    }
   ],
   "source": [
    "studentInfo.groupby(['age_band'])['id_student'].count()"
   ]
  },
  {
   "cell_type": "markdown",
   "metadata": {},
   "source": [
    "All values in the age band column are allowed. This column is clean as well."
   ]
  },
  {
   "cell_type": "markdown",
   "metadata": {},
   "source": [
    "**Final result**"
   ]
  },
  {
   "cell_type": "markdown",
   "metadata": {},
   "source": [
    "The final result values are allowed to be one of the following:\n",
    "* Distinction\n",
    "* Pass\n",
    "* Fail\n",
    "* Withdrawn"
   ]
  },
  {
   "cell_type": "markdown",
   "metadata": {},
   "source": [
    "Students who have withdrawn, are of no interest to us, as there is no score there. We'll filter those out first along with any value that's not allowed in here."
   ]
  },
  {
   "cell_type": "code",
   "execution_count": 28,
   "metadata": {},
   "outputs": [
    {
     "name": "stderr",
     "output_type": "stream",
     "text": [
      "C:\\Users\\robbe\\AppData\\Local\\Temp\\ipykernel_31244\\3346294589.py:1: FutureWarning: Indexing with multiple keys (implicitly converted to a tuple of keys) will be deprecated, use a list instead.\n",
      "  studentInfo.groupby(['final_result'])['code_module', 'code_presentation'].count()\n"
     ]
    },
    {
     "data": {
      "text/html": [
       "<div>\n",
       "<style scoped>\n",
       "    .dataframe tbody tr th:only-of-type {\n",
       "        vertical-align: middle;\n",
       "    }\n",
       "\n",
       "    .dataframe tbody tr th {\n",
       "        vertical-align: top;\n",
       "    }\n",
       "\n",
       "    .dataframe thead th {\n",
       "        text-align: right;\n",
       "    }\n",
       "</style>\n",
       "<table border=\"1\" class=\"dataframe\">\n",
       "  <thead>\n",
       "    <tr style=\"text-align: right;\">\n",
       "      <th></th>\n",
       "      <th>code_module</th>\n",
       "      <th>code_presentation</th>\n",
       "    </tr>\n",
       "    <tr>\n",
       "      <th>final_result</th>\n",
       "      <th></th>\n",
       "      <th></th>\n",
       "    </tr>\n",
       "  </thead>\n",
       "  <tbody>\n",
       "    <tr>\n",
       "      <th>Distinction</th>\n",
       "      <td>2696</td>\n",
       "      <td>2696</td>\n",
       "    </tr>\n",
       "    <tr>\n",
       "      <th>Fail</th>\n",
       "      <td>6200</td>\n",
       "      <td>6200</td>\n",
       "    </tr>\n",
       "    <tr>\n",
       "      <th>Pass</th>\n",
       "      <td>11002</td>\n",
       "      <td>11002</td>\n",
       "    </tr>\n",
       "    <tr>\n",
       "      <th>Withdrawn</th>\n",
       "      <td>9249</td>\n",
       "      <td>9249</td>\n",
       "    </tr>\n",
       "  </tbody>\n",
       "</table>\n",
       "</div>"
      ],
      "text/plain": [
       "              code_module  code_presentation\n",
       "final_result                                \n",
       "Distinction          2696               2696\n",
       "Fail                 6200               6200\n",
       "Pass                11002              11002\n",
       "Withdrawn            9249               9249"
      ]
     },
     "execution_count": 28,
     "metadata": {},
     "output_type": "execute_result"
    }
   ],
   "source": [
    "studentInfo.groupby(['final_result'])['code_module', 'code_presentation'].count()"
   ]
  },
  {
   "cell_type": "markdown",
   "metadata": {},
   "source": [
    "There are no values not allowed in here, so we'll just take the Withdrawn records out and we're good to go!"
   ]
  },
  {
   "cell_type": "code",
   "execution_count": 29,
   "metadata": {},
   "outputs": [
    {
     "name": "stderr",
     "output_type": "stream",
     "text": [
      "C:\\Users\\robbe\\AppData\\Local\\Temp\\ipykernel_31244\\2150289566.py:2: FutureWarning: Indexing with multiple keys (implicitly converted to a tuple of keys) will be deprecated, use a list instead.\n",
      "  studentInfo.groupby(['final_result'])['code_module', 'code_presentation'].count()\n"
     ]
    },
    {
     "data": {
      "text/html": [
       "<div>\n",
       "<style scoped>\n",
       "    .dataframe tbody tr th:only-of-type {\n",
       "        vertical-align: middle;\n",
       "    }\n",
       "\n",
       "    .dataframe tbody tr th {\n",
       "        vertical-align: top;\n",
       "    }\n",
       "\n",
       "    .dataframe thead th {\n",
       "        text-align: right;\n",
       "    }\n",
       "</style>\n",
       "<table border=\"1\" class=\"dataframe\">\n",
       "  <thead>\n",
       "    <tr style=\"text-align: right;\">\n",
       "      <th></th>\n",
       "      <th>code_module</th>\n",
       "      <th>code_presentation</th>\n",
       "    </tr>\n",
       "    <tr>\n",
       "      <th>final_result</th>\n",
       "      <th></th>\n",
       "      <th></th>\n",
       "    </tr>\n",
       "  </thead>\n",
       "  <tbody>\n",
       "    <tr>\n",
       "      <th>Distinction</th>\n",
       "      <td>2696</td>\n",
       "      <td>2696</td>\n",
       "    </tr>\n",
       "    <tr>\n",
       "      <th>Fail</th>\n",
       "      <td>6200</td>\n",
       "      <td>6200</td>\n",
       "    </tr>\n",
       "    <tr>\n",
       "      <th>Pass</th>\n",
       "      <td>11002</td>\n",
       "      <td>11002</td>\n",
       "    </tr>\n",
       "  </tbody>\n",
       "</table>\n",
       "</div>"
      ],
      "text/plain": [
       "              code_module  code_presentation\n",
       "final_result                                \n",
       "Distinction          2696               2696\n",
       "Fail                 6200               6200\n",
       "Pass                11002              11002"
      ]
     },
     "execution_count": 29,
     "metadata": {},
     "output_type": "execute_result"
    }
   ],
   "source": [
    "studentInfo = studentInfo.loc[studentInfo['final_result'] != 'Withdrawn']\n",
    "studentInfo.groupby(['final_result'])['code_module', 'code_presentation'].count()"
   ]
  },
  {
   "cell_type": "markdown",
   "metadata": {},
   "source": [
    "#### StudentVLE"
   ]
  },
  {
   "cell_type": "markdown",
   "metadata": {},
   "source": [
    "The StudentVLE dataframe contains a list of keys linking modules + presentations together with students and course material available in the VLE (Virtual Learning Environment), along with how many times a student clicked on each piece of material."
   ]
  },
  {
   "cell_type": "code",
   "execution_count": 30,
   "metadata": {},
   "outputs": [
    {
     "data": {
      "text/html": [
       "<div>\n",
       "<style scoped>\n",
       "    .dataframe tbody tr th:only-of-type {\n",
       "        vertical-align: middle;\n",
       "    }\n",
       "\n",
       "    .dataframe tbody tr th {\n",
       "        vertical-align: top;\n",
       "    }\n",
       "\n",
       "    .dataframe thead th {\n",
       "        text-align: right;\n",
       "    }\n",
       "</style>\n",
       "<table border=\"1\" class=\"dataframe\">\n",
       "  <thead>\n",
       "    <tr style=\"text-align: right;\">\n",
       "      <th></th>\n",
       "      <th>code_module</th>\n",
       "      <th>code_presentation</th>\n",
       "      <th>id_student</th>\n",
       "      <th>id_site</th>\n",
       "      <th>date</th>\n",
       "      <th>sum_click</th>\n",
       "    </tr>\n",
       "  </thead>\n",
       "  <tbody>\n",
       "    <tr>\n",
       "      <th>0</th>\n",
       "      <td>AAA</td>\n",
       "      <td>2013J</td>\n",
       "      <td>28400</td>\n",
       "      <td>546652</td>\n",
       "      <td>-10</td>\n",
       "      <td>4</td>\n",
       "    </tr>\n",
       "    <tr>\n",
       "      <th>1</th>\n",
       "      <td>AAA</td>\n",
       "      <td>2013J</td>\n",
       "      <td>28400</td>\n",
       "      <td>546652</td>\n",
       "      <td>-10</td>\n",
       "      <td>1</td>\n",
       "    </tr>\n",
       "    <tr>\n",
       "      <th>2</th>\n",
       "      <td>AAA</td>\n",
       "      <td>2013J</td>\n",
       "      <td>28400</td>\n",
       "      <td>546652</td>\n",
       "      <td>-10</td>\n",
       "      <td>1</td>\n",
       "    </tr>\n",
       "    <tr>\n",
       "      <th>3</th>\n",
       "      <td>AAA</td>\n",
       "      <td>2013J</td>\n",
       "      <td>28400</td>\n",
       "      <td>546614</td>\n",
       "      <td>-10</td>\n",
       "      <td>11</td>\n",
       "    </tr>\n",
       "    <tr>\n",
       "      <th>4</th>\n",
       "      <td>AAA</td>\n",
       "      <td>2013J</td>\n",
       "      <td>28400</td>\n",
       "      <td>546714</td>\n",
       "      <td>-10</td>\n",
       "      <td>1</td>\n",
       "    </tr>\n",
       "    <tr>\n",
       "      <th>...</th>\n",
       "      <td>...</td>\n",
       "      <td>...</td>\n",
       "      <td>...</td>\n",
       "      <td>...</td>\n",
       "      <td>...</td>\n",
       "      <td>...</td>\n",
       "    </tr>\n",
       "    <tr>\n",
       "      <th>10655275</th>\n",
       "      <td>GGG</td>\n",
       "      <td>2014J</td>\n",
       "      <td>675811</td>\n",
       "      <td>896943</td>\n",
       "      <td>269</td>\n",
       "      <td>3</td>\n",
       "    </tr>\n",
       "    <tr>\n",
       "      <th>10655276</th>\n",
       "      <td>GGG</td>\n",
       "      <td>2014J</td>\n",
       "      <td>675578</td>\n",
       "      <td>896943</td>\n",
       "      <td>269</td>\n",
       "      <td>1</td>\n",
       "    </tr>\n",
       "    <tr>\n",
       "      <th>10655277</th>\n",
       "      <td>GGG</td>\n",
       "      <td>2014J</td>\n",
       "      <td>654064</td>\n",
       "      <td>896943</td>\n",
       "      <td>269</td>\n",
       "      <td>3</td>\n",
       "    </tr>\n",
       "    <tr>\n",
       "      <th>10655278</th>\n",
       "      <td>GGG</td>\n",
       "      <td>2014J</td>\n",
       "      <td>654064</td>\n",
       "      <td>896939</td>\n",
       "      <td>269</td>\n",
       "      <td>1</td>\n",
       "    </tr>\n",
       "    <tr>\n",
       "      <th>10655279</th>\n",
       "      <td>GGG</td>\n",
       "      <td>2014J</td>\n",
       "      <td>654064</td>\n",
       "      <td>896939</td>\n",
       "      <td>269</td>\n",
       "      <td>1</td>\n",
       "    </tr>\n",
       "  </tbody>\n",
       "</table>\n",
       "<p>10655280 rows × 6 columns</p>\n",
       "</div>"
      ],
      "text/plain": [
       "         code_module code_presentation  id_student  id_site  date  sum_click\n",
       "0                AAA             2013J       28400   546652   -10          4\n",
       "1                AAA             2013J       28400   546652   -10          1\n",
       "2                AAA             2013J       28400   546652   -10          1\n",
       "3                AAA             2013J       28400   546614   -10         11\n",
       "4                AAA             2013J       28400   546714   -10          1\n",
       "...              ...               ...         ...      ...   ...        ...\n",
       "10655275         GGG             2014J      675811   896943   269          3\n",
       "10655276         GGG             2014J      675578   896943   269          1\n",
       "10655277         GGG             2014J      654064   896943   269          3\n",
       "10655278         GGG             2014J      654064   896939   269          1\n",
       "10655279         GGG             2014J      654064   896939   269          1\n",
       "\n",
       "[10655280 rows x 6 columns]"
      ]
     },
     "execution_count": 30,
     "metadata": {},
     "output_type": "execute_result"
    }
   ],
   "source": [
    "studentVle"
   ]
  },
  {
   "cell_type": "markdown",
   "metadata": {},
   "source": [
    "##### Pruning columns"
   ]
  },
  {
   "cell_type": "markdown",
   "metadata": {},
   "source": [
    "We'll need all columns, except date. We care about how often a student has interacted with a piece of module material, not when. As such, we can drop the date column."
   ]
  },
  {
   "cell_type": "code",
   "execution_count": 31,
   "metadata": {},
   "outputs": [
    {
     "data": {
      "text/html": [
       "<div>\n",
       "<style scoped>\n",
       "    .dataframe tbody tr th:only-of-type {\n",
       "        vertical-align: middle;\n",
       "    }\n",
       "\n",
       "    .dataframe tbody tr th {\n",
       "        vertical-align: top;\n",
       "    }\n",
       "\n",
       "    .dataframe thead th {\n",
       "        text-align: right;\n",
       "    }\n",
       "</style>\n",
       "<table border=\"1\" class=\"dataframe\">\n",
       "  <thead>\n",
       "    <tr style=\"text-align: right;\">\n",
       "      <th></th>\n",
       "      <th>code_module</th>\n",
       "      <th>code_presentation</th>\n",
       "      <th>id_student</th>\n",
       "      <th>id_site</th>\n",
       "      <th>sum_click</th>\n",
       "    </tr>\n",
       "  </thead>\n",
       "  <tbody>\n",
       "    <tr>\n",
       "      <th>0</th>\n",
       "      <td>AAA</td>\n",
       "      <td>2013J</td>\n",
       "      <td>28400</td>\n",
       "      <td>546652</td>\n",
       "      <td>4</td>\n",
       "    </tr>\n",
       "    <tr>\n",
       "      <th>1</th>\n",
       "      <td>AAA</td>\n",
       "      <td>2013J</td>\n",
       "      <td>28400</td>\n",
       "      <td>546652</td>\n",
       "      <td>1</td>\n",
       "    </tr>\n",
       "    <tr>\n",
       "      <th>2</th>\n",
       "      <td>AAA</td>\n",
       "      <td>2013J</td>\n",
       "      <td>28400</td>\n",
       "      <td>546652</td>\n",
       "      <td>1</td>\n",
       "    </tr>\n",
       "    <tr>\n",
       "      <th>3</th>\n",
       "      <td>AAA</td>\n",
       "      <td>2013J</td>\n",
       "      <td>28400</td>\n",
       "      <td>546614</td>\n",
       "      <td>11</td>\n",
       "    </tr>\n",
       "    <tr>\n",
       "      <th>4</th>\n",
       "      <td>AAA</td>\n",
       "      <td>2013J</td>\n",
       "      <td>28400</td>\n",
       "      <td>546714</td>\n",
       "      <td>1</td>\n",
       "    </tr>\n",
       "    <tr>\n",
       "      <th>...</th>\n",
       "      <td>...</td>\n",
       "      <td>...</td>\n",
       "      <td>...</td>\n",
       "      <td>...</td>\n",
       "      <td>...</td>\n",
       "    </tr>\n",
       "    <tr>\n",
       "      <th>10655275</th>\n",
       "      <td>GGG</td>\n",
       "      <td>2014J</td>\n",
       "      <td>675811</td>\n",
       "      <td>896943</td>\n",
       "      <td>3</td>\n",
       "    </tr>\n",
       "    <tr>\n",
       "      <th>10655276</th>\n",
       "      <td>GGG</td>\n",
       "      <td>2014J</td>\n",
       "      <td>675578</td>\n",
       "      <td>896943</td>\n",
       "      <td>1</td>\n",
       "    </tr>\n",
       "    <tr>\n",
       "      <th>10655277</th>\n",
       "      <td>GGG</td>\n",
       "      <td>2014J</td>\n",
       "      <td>654064</td>\n",
       "      <td>896943</td>\n",
       "      <td>3</td>\n",
       "    </tr>\n",
       "    <tr>\n",
       "      <th>10655278</th>\n",
       "      <td>GGG</td>\n",
       "      <td>2014J</td>\n",
       "      <td>654064</td>\n",
       "      <td>896939</td>\n",
       "      <td>1</td>\n",
       "    </tr>\n",
       "    <tr>\n",
       "      <th>10655279</th>\n",
       "      <td>GGG</td>\n",
       "      <td>2014J</td>\n",
       "      <td>654064</td>\n",
       "      <td>896939</td>\n",
       "      <td>1</td>\n",
       "    </tr>\n",
       "  </tbody>\n",
       "</table>\n",
       "<p>10655280 rows × 5 columns</p>\n",
       "</div>"
      ],
      "text/plain": [
       "         code_module code_presentation  id_student  id_site  sum_click\n",
       "0                AAA             2013J       28400   546652          4\n",
       "1                AAA             2013J       28400   546652          1\n",
       "2                AAA             2013J       28400   546652          1\n",
       "3                AAA             2013J       28400   546614         11\n",
       "4                AAA             2013J       28400   546714          1\n",
       "...              ...               ...         ...      ...        ...\n",
       "10655275         GGG             2014J      675811   896943          3\n",
       "10655276         GGG             2014J      675578   896943          1\n",
       "10655277         GGG             2014J      654064   896943          3\n",
       "10655278         GGG             2014J      654064   896939          1\n",
       "10655279         GGG             2014J      654064   896939          1\n",
       "\n",
       "[10655280 rows x 5 columns]"
      ]
     },
     "execution_count": 31,
     "metadata": {},
     "output_type": "execute_result"
    }
   ],
   "source": [
    "del studentVle['date']\n",
    "studentVle"
   ]
  },
  {
   "cell_type": "markdown",
   "metadata": {},
   "source": [
    "Let's check the data for missing values"
   ]
  },
  {
   "cell_type": "code",
   "execution_count": 32,
   "metadata": {},
   "outputs": [
    {
     "data": {
      "text/plain": [
       "code_module          False\n",
       "code_presentation    False\n",
       "id_student           False\n",
       "id_site              False\n",
       "sum_click            False\n",
       "dtype: bool"
      ]
     },
     "execution_count": 32,
     "metadata": {},
     "output_type": "execute_result"
    }
   ],
   "source": [
    "studentVle.isnull().any()"
   ]
  },
  {
   "cell_type": "markdown",
   "metadata": {},
   "source": [
    "Lucky us, no missing values!"
   ]
  },
  {
   "cell_type": "markdown",
   "metadata": {},
   "source": [
    "##### Outliers"
   ]
  },
  {
   "cell_type": "markdown",
   "metadata": {},
   "source": [
    "The only column that may have outliers, is the sum_click column. A student may have clicked some study material zero times, or a million. In other words, only negative values would be odd."
   ]
  },
  {
   "cell_type": "code",
   "execution_count": 33,
   "metadata": {},
   "outputs": [
    {
     "data": {
      "text/plain": [
       "0"
      ]
     },
     "execution_count": 33,
     "metadata": {},
     "output_type": "execute_result"
    }
   ],
   "source": [
    "studentVle.loc[studentVle['sum_click'] < 0]['id_site'].count()"
   ]
  },
  {
   "cell_type": "markdown",
   "metadata": {},
   "source": [
    "There's not a single item with a negative amount of clicks, so StudentVLE is clean!"
   ]
  },
  {
   "cell_type": "markdown",
   "metadata": {},
   "source": [
    "#### VLE"
   ]
  },
  {
   "cell_type": "markdown",
   "metadata": {},
   "source": [
    "The VLE dataframe has all the info on study material for each module / presentation."
   ]
  },
  {
   "cell_type": "code",
   "execution_count": 34,
   "metadata": {},
   "outputs": [
    {
     "data": {
      "text/html": [
       "<div>\n",
       "<style scoped>\n",
       "    .dataframe tbody tr th:only-of-type {\n",
       "        vertical-align: middle;\n",
       "    }\n",
       "\n",
       "    .dataframe tbody tr th {\n",
       "        vertical-align: top;\n",
       "    }\n",
       "\n",
       "    .dataframe thead th {\n",
       "        text-align: right;\n",
       "    }\n",
       "</style>\n",
       "<table border=\"1\" class=\"dataframe\">\n",
       "  <thead>\n",
       "    <tr style=\"text-align: right;\">\n",
       "      <th></th>\n",
       "      <th>id_site</th>\n",
       "      <th>code_module</th>\n",
       "      <th>code_presentation</th>\n",
       "      <th>activity_type</th>\n",
       "      <th>week_from</th>\n",
       "      <th>week_to</th>\n",
       "    </tr>\n",
       "  </thead>\n",
       "  <tbody>\n",
       "    <tr>\n",
       "      <th>0</th>\n",
       "      <td>546943</td>\n",
       "      <td>AAA</td>\n",
       "      <td>2013J</td>\n",
       "      <td>resource</td>\n",
       "      <td>NaN</td>\n",
       "      <td>NaN</td>\n",
       "    </tr>\n",
       "    <tr>\n",
       "      <th>1</th>\n",
       "      <td>546712</td>\n",
       "      <td>AAA</td>\n",
       "      <td>2013J</td>\n",
       "      <td>oucontent</td>\n",
       "      <td>NaN</td>\n",
       "      <td>NaN</td>\n",
       "    </tr>\n",
       "    <tr>\n",
       "      <th>2</th>\n",
       "      <td>546998</td>\n",
       "      <td>AAA</td>\n",
       "      <td>2013J</td>\n",
       "      <td>resource</td>\n",
       "      <td>NaN</td>\n",
       "      <td>NaN</td>\n",
       "    </tr>\n",
       "    <tr>\n",
       "      <th>3</th>\n",
       "      <td>546888</td>\n",
       "      <td>AAA</td>\n",
       "      <td>2013J</td>\n",
       "      <td>url</td>\n",
       "      <td>NaN</td>\n",
       "      <td>NaN</td>\n",
       "    </tr>\n",
       "    <tr>\n",
       "      <th>4</th>\n",
       "      <td>547035</td>\n",
       "      <td>AAA</td>\n",
       "      <td>2013J</td>\n",
       "      <td>resource</td>\n",
       "      <td>NaN</td>\n",
       "      <td>NaN</td>\n",
       "    </tr>\n",
       "    <tr>\n",
       "      <th>...</th>\n",
       "      <td>...</td>\n",
       "      <td>...</td>\n",
       "      <td>...</td>\n",
       "      <td>...</td>\n",
       "      <td>...</td>\n",
       "      <td>...</td>\n",
       "    </tr>\n",
       "    <tr>\n",
       "      <th>6359</th>\n",
       "      <td>897063</td>\n",
       "      <td>GGG</td>\n",
       "      <td>2014J</td>\n",
       "      <td>resource</td>\n",
       "      <td>NaN</td>\n",
       "      <td>NaN</td>\n",
       "    </tr>\n",
       "    <tr>\n",
       "      <th>6360</th>\n",
       "      <td>897109</td>\n",
       "      <td>GGG</td>\n",
       "      <td>2014J</td>\n",
       "      <td>resource</td>\n",
       "      <td>NaN</td>\n",
       "      <td>NaN</td>\n",
       "    </tr>\n",
       "    <tr>\n",
       "      <th>6361</th>\n",
       "      <td>896965</td>\n",
       "      <td>GGG</td>\n",
       "      <td>2014J</td>\n",
       "      <td>oucontent</td>\n",
       "      <td>NaN</td>\n",
       "      <td>NaN</td>\n",
       "    </tr>\n",
       "    <tr>\n",
       "      <th>6362</th>\n",
       "      <td>897060</td>\n",
       "      <td>GGG</td>\n",
       "      <td>2014J</td>\n",
       "      <td>resource</td>\n",
       "      <td>NaN</td>\n",
       "      <td>NaN</td>\n",
       "    </tr>\n",
       "    <tr>\n",
       "      <th>6363</th>\n",
       "      <td>897100</td>\n",
       "      <td>GGG</td>\n",
       "      <td>2014J</td>\n",
       "      <td>resource</td>\n",
       "      <td>NaN</td>\n",
       "      <td>NaN</td>\n",
       "    </tr>\n",
       "  </tbody>\n",
       "</table>\n",
       "<p>6364 rows × 6 columns</p>\n",
       "</div>"
      ],
      "text/plain": [
       "      id_site code_module code_presentation activity_type  week_from  week_to\n",
       "0      546943         AAA             2013J      resource        NaN      NaN\n",
       "1      546712         AAA             2013J     oucontent        NaN      NaN\n",
       "2      546998         AAA             2013J      resource        NaN      NaN\n",
       "3      546888         AAA             2013J           url        NaN      NaN\n",
       "4      547035         AAA             2013J      resource        NaN      NaN\n",
       "...       ...         ...               ...           ...        ...      ...\n",
       "6359   897063         GGG             2014J      resource        NaN      NaN\n",
       "6360   897109         GGG             2014J      resource        NaN      NaN\n",
       "6361   896965         GGG             2014J     oucontent        NaN      NaN\n",
       "6362   897060         GGG             2014J      resource        NaN      NaN\n",
       "6363   897100         GGG             2014J      resource        NaN      NaN\n",
       "\n",
       "[6364 rows x 6 columns]"
      ]
     },
     "execution_count": 34,
     "metadata": {},
     "output_type": "execute_result"
    }
   ],
   "source": [
    "vle"
   ]
  },
  {
   "cell_type": "markdown",
   "metadata": {},
   "source": [
    "##### Pruning columns"
   ]
  },
  {
   "cell_type": "markdown",
   "metadata": {},
   "source": [
    "We're not particularly interested in the timeframe a piece of material has been made available. We'll just use this data to figure out how much a student interacted with the course material, what type it is, and whether or not there's an influence on their grades."
   ]
  },
  {
   "cell_type": "markdown",
   "metadata": {},
   "source": [
    "Both week_from and week_to have plenty of null values. As said before, we're not actually interested in this information, so we'll just drop these columns altogether."
   ]
  },
  {
   "cell_type": "code",
   "execution_count": 35,
   "metadata": {},
   "outputs": [
    {
     "data": {
      "text/html": [
       "<div>\n",
       "<style scoped>\n",
       "    .dataframe tbody tr th:only-of-type {\n",
       "        vertical-align: middle;\n",
       "    }\n",
       "\n",
       "    .dataframe tbody tr th {\n",
       "        vertical-align: top;\n",
       "    }\n",
       "\n",
       "    .dataframe thead th {\n",
       "        text-align: right;\n",
       "    }\n",
       "</style>\n",
       "<table border=\"1\" class=\"dataframe\">\n",
       "  <thead>\n",
       "    <tr style=\"text-align: right;\">\n",
       "      <th></th>\n",
       "      <th>id_site</th>\n",
       "      <th>code_module</th>\n",
       "      <th>code_presentation</th>\n",
       "      <th>activity_type</th>\n",
       "    </tr>\n",
       "  </thead>\n",
       "  <tbody>\n",
       "    <tr>\n",
       "      <th>0</th>\n",
       "      <td>546943</td>\n",
       "      <td>AAA</td>\n",
       "      <td>2013J</td>\n",
       "      <td>resource</td>\n",
       "    </tr>\n",
       "    <tr>\n",
       "      <th>1</th>\n",
       "      <td>546712</td>\n",
       "      <td>AAA</td>\n",
       "      <td>2013J</td>\n",
       "      <td>oucontent</td>\n",
       "    </tr>\n",
       "    <tr>\n",
       "      <th>2</th>\n",
       "      <td>546998</td>\n",
       "      <td>AAA</td>\n",
       "      <td>2013J</td>\n",
       "      <td>resource</td>\n",
       "    </tr>\n",
       "    <tr>\n",
       "      <th>3</th>\n",
       "      <td>546888</td>\n",
       "      <td>AAA</td>\n",
       "      <td>2013J</td>\n",
       "      <td>url</td>\n",
       "    </tr>\n",
       "    <tr>\n",
       "      <th>4</th>\n",
       "      <td>547035</td>\n",
       "      <td>AAA</td>\n",
       "      <td>2013J</td>\n",
       "      <td>resource</td>\n",
       "    </tr>\n",
       "    <tr>\n",
       "      <th>...</th>\n",
       "      <td>...</td>\n",
       "      <td>...</td>\n",
       "      <td>...</td>\n",
       "      <td>...</td>\n",
       "    </tr>\n",
       "    <tr>\n",
       "      <th>6359</th>\n",
       "      <td>897063</td>\n",
       "      <td>GGG</td>\n",
       "      <td>2014J</td>\n",
       "      <td>resource</td>\n",
       "    </tr>\n",
       "    <tr>\n",
       "      <th>6360</th>\n",
       "      <td>897109</td>\n",
       "      <td>GGG</td>\n",
       "      <td>2014J</td>\n",
       "      <td>resource</td>\n",
       "    </tr>\n",
       "    <tr>\n",
       "      <th>6361</th>\n",
       "      <td>896965</td>\n",
       "      <td>GGG</td>\n",
       "      <td>2014J</td>\n",
       "      <td>oucontent</td>\n",
       "    </tr>\n",
       "    <tr>\n",
       "      <th>6362</th>\n",
       "      <td>897060</td>\n",
       "      <td>GGG</td>\n",
       "      <td>2014J</td>\n",
       "      <td>resource</td>\n",
       "    </tr>\n",
       "    <tr>\n",
       "      <th>6363</th>\n",
       "      <td>897100</td>\n",
       "      <td>GGG</td>\n",
       "      <td>2014J</td>\n",
       "      <td>resource</td>\n",
       "    </tr>\n",
       "  </tbody>\n",
       "</table>\n",
       "<p>6364 rows × 4 columns</p>\n",
       "</div>"
      ],
      "text/plain": [
       "      id_site code_module code_presentation activity_type\n",
       "0      546943         AAA             2013J      resource\n",
       "1      546712         AAA             2013J     oucontent\n",
       "2      546998         AAA             2013J      resource\n",
       "3      546888         AAA             2013J           url\n",
       "4      547035         AAA             2013J      resource\n",
       "...       ...         ...               ...           ...\n",
       "6359   897063         GGG             2014J      resource\n",
       "6360   897109         GGG             2014J      resource\n",
       "6361   896965         GGG             2014J     oucontent\n",
       "6362   897060         GGG             2014J      resource\n",
       "6363   897100         GGG             2014J      resource\n",
       "\n",
       "[6364 rows x 4 columns]"
      ]
     },
     "execution_count": 35,
     "metadata": {},
     "output_type": "execute_result"
    }
   ],
   "source": [
    "del vle['week_from']\n",
    "del vle['week_to']\n",
    "vle"
   ]
  },
  {
   "cell_type": "markdown",
   "metadata": {},
   "source": [
    "##### Missing values"
   ]
  },
  {
   "cell_type": "markdown",
   "metadata": {},
   "source": [
    "Now let's see if there are still any missing values."
   ]
  },
  {
   "cell_type": "code",
   "execution_count": 36,
   "metadata": {},
   "outputs": [
    {
     "data": {
      "text/plain": [
       "id_site              False\n",
       "code_module          False\n",
       "code_presentation    False\n",
       "activity_type        False\n",
       "dtype: bool"
      ]
     },
     "execution_count": 36,
     "metadata": {},
     "output_type": "execute_result"
    }
   ],
   "source": [
    "vle.isnull().any()"
   ]
  },
  {
   "cell_type": "markdown",
   "metadata": {},
   "source": [
    "No missing values."
   ]
  },
  {
   "cell_type": "markdown",
   "metadata": {},
   "source": [
    "##### Outliers"
   ]
  },
  {
   "cell_type": "markdown",
   "metadata": {},
   "source": [
    "The data in the VLE dataset is mostly primary and foreign keys. The only column that may have outliers, is activity type. For this, we would have to ask ourselves how a value here could be an outlier. There's no fixed set of types possible. It's not a numerical value within a certain range. The only possible way an outlier value may be an issue, is if it's the same as another, but with a typo. Let's check for that."
   ]
  },
  {
   "cell_type": "code",
   "execution_count": 37,
   "metadata": {},
   "outputs": [
    {
     "data": {
      "text/plain": [
       "<AxesSubplot:xlabel='activity_type'>"
      ]
     },
     "execution_count": 37,
     "metadata": {},
     "output_type": "execute_result"
    },
    {
     "data": {
      "image/png": "[encoded data removed]",
      "text/plain": [
       "<Figure size 640x480 with 1 Axes>"
      ]
     },
     "metadata": {},
     "output_type": "display_data"
    }
   ],
   "source": [
    "vle.groupby(['activity_type'])['id_site'].count().plot(kind='bar')"
   ]
  },
  {
   "cell_type": "markdown",
   "metadata": {},
   "source": [
    "Although one could debate there may be overlap in one or more of homepage, htmlactivity, subpage, sharedsubpage and URL, there is no real definition of each. There's no name that's so close to another that it could be considered a typo."
   ]
  },
  {
   "cell_type": "markdown",
   "metadata": {},
   "source": [
    "The amount of items per type are all over the place. The types themselves are also all over the place. There are some very specific types (eg. folder, externalquiz, ...) but also some very general ones (eg. oucontent, resource, ...). There's also simply too many categories, especially ones with barely any items."
   ]
  },
  {
   "cell_type": "markdown",
   "metadata": {},
   "source": [
    "Maybe we can group these into rough categories:\n",
    "* HTML (Homepage, HTMLActivity, Page, Sharedsubpage, subpage, URL)\n",
    "* OU (OUCollaborate, OUContent, OUElluminate, OUWiki)\n",
    "* Misc (Dataplus, Dualpane, Externalquiz, Folder, Forumng, Glossary, Questionnaire, Quiz, Repeatactivity, Resource)"
   ]
  },
  {
   "cell_type": "markdown",
   "metadata": {},
   "source": [
    "Let's see what the numbers give on that:"
   ]
  },
  {
   "cell_type": "code",
   "execution_count": 38,
   "metadata": {},
   "outputs": [
    {
     "data": {
      "text/plain": [
       "<AxesSubplot:xlabel='activity_type'>"
      ]
     },
     "execution_count": 38,
     "metadata": {},
     "output_type": "execute_result"
    },
    {
     "data": {
      "image/png": "[encoded data removed]",
      "text/plain": [
       "<Figure size 640x480 with 1 Axes>"
      ]
     },
     "metadata": {},
     "output_type": "display_data"
    }
   ],
   "source": [
    "# HTML group\n",
    "vle['activity_type'].mask(\n",
    "    (vle['activity_type'] == 'homepage') | \n",
    "    (vle['activity_type'] == 'htmlactivity') | \n",
    "    (vle['activity_type'] == 'page') | \n",
    "    (vle['activity_type'] == 'sharedsubpage') | \n",
    "    (vle['activity_type'] == 'subpage') | \n",
    "    (vle['activity_type'] == 'url'), 'html', inplace=True)\n",
    "\n",
    "# OU group\n",
    "vle['activity_type'].mask(\n",
    "    (vle['activity_type'] == 'oucollaborate') | \n",
    "    (vle['activity_type'] == 'oucontent') | \n",
    "    (vle['activity_type'] == 'ouelluminate') | \n",
    "    (vle['activity_type'] == 'ouwiki'), 'ou', inplace=True)\n",
    "\n",
    "vle['activity_type'].mask(\n",
    "    (vle['activity_type'] == 'dataplus') | \n",
    "    (vle['activity_type'] == 'dualpane') | \n",
    "    (vle['activity_type'] == 'externalquiz') | \n",
    "    (vle['activity_type'] == 'folder') | \n",
    "    (vle['activity_type'] == 'forumng') |\n",
    "    (vle['activity_type'] == 'glossary') | \n",
    "    (vle['activity_type'] == 'questionnaire') |\n",
    "    (vle['activity_type'] == 'quiz') |\n",
    "    (vle['activity_type'] == 'repeatactivity') |\n",
    "    (vle['activity_type'] == 'resource'), 'misc', inplace=True)\n",
    "\n",
    "\n",
    "vle.groupby(['activity_type'])['id_site'].count().plot(kind='bar')"
   ]
  },
  {
   "cell_type": "markdown",
   "metadata": {},
   "source": [
    "That looks far more usable. With that, the VLE dataframe is cleaned up."
   ]
  },
  {
   "cell_type": "markdown",
   "metadata": {},
   "source": [
    "### Derived data sets"
   ]
  },
  {
   "cell_type": "markdown",
   "metadata": {},
   "source": [
    "Some data isn't in the raw data, but can be found using it. Consider it as finding someone's age if you have the year they were born. Here, we will make a few data sets in such a manner, which will be used throughout the rest of our research.\n",
    "\n",
    "We will need the following derived data sets:\n",
    "* Student scores for final exams\n",
    "* Students final score, split by gender\n",
    "* Students final score, split by age\n",
    "* Sets students per final score\n",
    "* Total amount of clicks each student did on a module's study material\n",
    "* Total amount of clicks each student did per study material type"
   ]
  },
  {
   "cell_type": "markdown",
   "metadata": {},
   "source": [
    "#### Student scores for final exams"
   ]
  },
  {
   "cell_type": "markdown",
   "metadata": {},
   "source": [
    "We will first get all the assessments that are of type 'Exam'. We'll need this in order to filter the list of student scores to just the final exam scores."
   ]
  },
  {
   "cell_type": "code",
   "execution_count": 39,
   "metadata": {},
   "outputs": [
    {
     "data": {
      "text/html": [
       "<div>\n",
       "<style scoped>\n",
       "    .dataframe tbody tr th:only-of-type {\n",
       "        vertical-align: middle;\n",
       "    }\n",
       "\n",
       "    .dataframe tbody tr th {\n",
       "        vertical-align: top;\n",
       "    }\n",
       "\n",
       "    .dataframe thead th {\n",
       "        text-align: right;\n",
       "    }\n",
       "</style>\n",
       "<table border=\"1\" class=\"dataframe\">\n",
       "  <thead>\n",
       "    <tr style=\"text-align: right;\">\n",
       "      <th></th>\n",
       "      <th>code_module</th>\n",
       "      <th>code_presentation</th>\n",
       "      <th>id_assessment</th>\n",
       "      <th>assessment_type</th>\n",
       "    </tr>\n",
       "  </thead>\n",
       "  <tbody>\n",
       "    <tr>\n",
       "      <th>5</th>\n",
       "      <td>AAA</td>\n",
       "      <td>2013J</td>\n",
       "      <td>1757</td>\n",
       "      <td>Exam</td>\n",
       "    </tr>\n",
       "    <tr>\n",
       "      <th>11</th>\n",
       "      <td>AAA</td>\n",
       "      <td>2014J</td>\n",
       "      <td>1763</td>\n",
       "      <td>Exam</td>\n",
       "    </tr>\n",
       "    <tr>\n",
       "      <th>23</th>\n",
       "      <td>BBB</td>\n",
       "      <td>2013B</td>\n",
       "      <td>14990</td>\n",
       "      <td>Exam</td>\n",
       "    </tr>\n",
       "    <tr>\n",
       "      <th>35</th>\n",
       "      <td>BBB</td>\n",
       "      <td>2013J</td>\n",
       "      <td>15002</td>\n",
       "      <td>Exam</td>\n",
       "    </tr>\n",
       "    <tr>\n",
       "      <th>47</th>\n",
       "      <td>BBB</td>\n",
       "      <td>2014B</td>\n",
       "      <td>15014</td>\n",
       "      <td>Exam</td>\n",
       "    </tr>\n",
       "    <tr>\n",
       "      <th>53</th>\n",
       "      <td>BBB</td>\n",
       "      <td>2014J</td>\n",
       "      <td>15025</td>\n",
       "      <td>Exam</td>\n",
       "    </tr>\n",
       "    <tr>\n",
       "      <th>62</th>\n",
       "      <td>CCC</td>\n",
       "      <td>2014B</td>\n",
       "      <td>24290</td>\n",
       "      <td>Exam</td>\n",
       "    </tr>\n",
       "    <tr>\n",
       "      <th>63</th>\n",
       "      <td>CCC</td>\n",
       "      <td>2014B</td>\n",
       "      <td>40087</td>\n",
       "      <td>Exam</td>\n",
       "    </tr>\n",
       "    <tr>\n",
       "      <th>72</th>\n",
       "      <td>CCC</td>\n",
       "      <td>2014J</td>\n",
       "      <td>24299</td>\n",
       "      <td>Exam</td>\n",
       "    </tr>\n",
       "    <tr>\n",
       "      <th>73</th>\n",
       "      <td>CCC</td>\n",
       "      <td>2014J</td>\n",
       "      <td>40088</td>\n",
       "      <td>Exam</td>\n",
       "    </tr>\n",
       "    <tr>\n",
       "      <th>87</th>\n",
       "      <td>DDD</td>\n",
       "      <td>2013B</td>\n",
       "      <td>25340</td>\n",
       "      <td>Exam</td>\n",
       "    </tr>\n",
       "    <tr>\n",
       "      <th>94</th>\n",
       "      <td>DDD</td>\n",
       "      <td>2013J</td>\n",
       "      <td>25354</td>\n",
       "      <td>Exam</td>\n",
       "    </tr>\n",
       "    <tr>\n",
       "      <th>101</th>\n",
       "      <td>DDD</td>\n",
       "      <td>2014B</td>\n",
       "      <td>25361</td>\n",
       "      <td>Exam</td>\n",
       "    </tr>\n",
       "    <tr>\n",
       "      <th>108</th>\n",
       "      <td>DDD</td>\n",
       "      <td>2014J</td>\n",
       "      <td>25368</td>\n",
       "      <td>Exam</td>\n",
       "    </tr>\n",
       "    <tr>\n",
       "      <th>113</th>\n",
       "      <td>EEE</td>\n",
       "      <td>2013J</td>\n",
       "      <td>30713</td>\n",
       "      <td>Exam</td>\n",
       "    </tr>\n",
       "    <tr>\n",
       "      <th>118</th>\n",
       "      <td>EEE</td>\n",
       "      <td>2014B</td>\n",
       "      <td>30718</td>\n",
       "      <td>Exam</td>\n",
       "    </tr>\n",
       "    <tr>\n",
       "      <th>123</th>\n",
       "      <td>EEE</td>\n",
       "      <td>2014J</td>\n",
       "      <td>30723</td>\n",
       "      <td>Exam</td>\n",
       "    </tr>\n",
       "    <tr>\n",
       "      <th>136</th>\n",
       "      <td>FFF</td>\n",
       "      <td>2013B</td>\n",
       "      <td>34872</td>\n",
       "      <td>Exam</td>\n",
       "    </tr>\n",
       "    <tr>\n",
       "      <th>149</th>\n",
       "      <td>FFF</td>\n",
       "      <td>2013J</td>\n",
       "      <td>34885</td>\n",
       "      <td>Exam</td>\n",
       "    </tr>\n",
       "    <tr>\n",
       "      <th>162</th>\n",
       "      <td>FFF</td>\n",
       "      <td>2014B</td>\n",
       "      <td>34898</td>\n",
       "      <td>Exam</td>\n",
       "    </tr>\n",
       "    <tr>\n",
       "      <th>175</th>\n",
       "      <td>FFF</td>\n",
       "      <td>2014J</td>\n",
       "      <td>34911</td>\n",
       "      <td>Exam</td>\n",
       "    </tr>\n",
       "    <tr>\n",
       "      <th>185</th>\n",
       "      <td>GGG</td>\n",
       "      <td>2013J</td>\n",
       "      <td>37424</td>\n",
       "      <td>Exam</td>\n",
       "    </tr>\n",
       "    <tr>\n",
       "      <th>195</th>\n",
       "      <td>GGG</td>\n",
       "      <td>2014B</td>\n",
       "      <td>37434</td>\n",
       "      <td>Exam</td>\n",
       "    </tr>\n",
       "    <tr>\n",
       "      <th>205</th>\n",
       "      <td>GGG</td>\n",
       "      <td>2014J</td>\n",
       "      <td>37444</td>\n",
       "      <td>Exam</td>\n",
       "    </tr>\n",
       "  </tbody>\n",
       "</table>\n",
       "</div>"
      ],
      "text/plain": [
       "    code_module code_presentation  id_assessment assessment_type\n",
       "5           AAA             2013J           1757            Exam\n",
       "11          AAA             2014J           1763            Exam\n",
       "23          BBB             2013B          14990            Exam\n",
       "35          BBB             2013J          15002            Exam\n",
       "47          BBB             2014B          15014            Exam\n",
       "53          BBB             2014J          15025            Exam\n",
       "62          CCC             2014B          24290            Exam\n",
       "63          CCC             2014B          40087            Exam\n",
       "72          CCC             2014J          24299            Exam\n",
       "73          CCC             2014J          40088            Exam\n",
       "87          DDD             2013B          25340            Exam\n",
       "94          DDD             2013J          25354            Exam\n",
       "101         DDD             2014B          25361            Exam\n",
       "108         DDD             2014J          25368            Exam\n",
       "113         EEE             2013J          30713            Exam\n",
       "118         EEE             2014B          30718            Exam\n",
       "123         EEE             2014J          30723            Exam\n",
       "136         FFF             2013B          34872            Exam\n",
       "149         FFF             2013J          34885            Exam\n",
       "162         FFF             2014B          34898            Exam\n",
       "175         FFF             2014J          34911            Exam\n",
       "185         GGG             2013J          37424            Exam\n",
       "195         GGG             2014B          37434            Exam\n",
       "205         GGG             2014J          37444            Exam"
      ]
     },
     "execution_count": 39,
     "metadata": {},
     "output_type": "execute_result"
    }
   ],
   "source": [
    "exams = assessment.loc[assessment['assessment_type'] == 'Exam']\n",
    "exams"
   ]
  },
  {
   "cell_type": "markdown",
   "metadata": {},
   "source": [
    "Now we join the newly created list of exams with the list of student scores. This way, we'll have a list of student scores for final exams, but no other assessments."
   ]
  },
  {
   "cell_type": "code",
   "execution_count": 40,
   "metadata": {},
   "outputs": [
    {
     "data": {
      "text/html": [
       "<div>\n",
       "<style scoped>\n",
       "    .dataframe tbody tr th:only-of-type {\n",
       "        vertical-align: middle;\n",
       "    }\n",
       "\n",
       "    .dataframe tbody tr th {\n",
       "        vertical-align: top;\n",
       "    }\n",
       "\n",
       "    .dataframe thead th {\n",
       "        text-align: right;\n",
       "    }\n",
       "</style>\n",
       "<table border=\"1\" class=\"dataframe\">\n",
       "  <thead>\n",
       "    <tr style=\"text-align: right;\">\n",
       "      <th></th>\n",
       "      <th>code_module</th>\n",
       "      <th>code_presentation</th>\n",
       "      <th>id_assessment</th>\n",
       "      <th>assessment_type</th>\n",
       "      <th>id_student</th>\n",
       "      <th>score</th>\n",
       "    </tr>\n",
       "  </thead>\n",
       "  <tbody>\n",
       "    <tr>\n",
       "      <th>0</th>\n",
       "      <td>CCC</td>\n",
       "      <td>2014B</td>\n",
       "      <td>24290</td>\n",
       "      <td>Exam</td>\n",
       "      <td>558914</td>\n",
       "      <td>32.0</td>\n",
       "    </tr>\n",
       "    <tr>\n",
       "      <th>1</th>\n",
       "      <td>CCC</td>\n",
       "      <td>2014B</td>\n",
       "      <td>24290</td>\n",
       "      <td>Exam</td>\n",
       "      <td>559706</td>\n",
       "      <td>78.0</td>\n",
       "    </tr>\n",
       "    <tr>\n",
       "      <th>2</th>\n",
       "      <td>CCC</td>\n",
       "      <td>2014B</td>\n",
       "      <td>24290</td>\n",
       "      <td>Exam</td>\n",
       "      <td>559770</td>\n",
       "      <td>54.0</td>\n",
       "    </tr>\n",
       "    <tr>\n",
       "      <th>3</th>\n",
       "      <td>CCC</td>\n",
       "      <td>2014B</td>\n",
       "      <td>24290</td>\n",
       "      <td>Exam</td>\n",
       "      <td>560114</td>\n",
       "      <td>64.0</td>\n",
       "    </tr>\n",
       "    <tr>\n",
       "      <th>4</th>\n",
       "      <td>CCC</td>\n",
       "      <td>2014B</td>\n",
       "      <td>24290</td>\n",
       "      <td>Exam</td>\n",
       "      <td>560311</td>\n",
       "      <td>100.0</td>\n",
       "    </tr>\n",
       "    <tr>\n",
       "      <th>...</th>\n",
       "      <td>...</td>\n",
       "      <td>...</td>\n",
       "      <td>...</td>\n",
       "      <td>...</td>\n",
       "      <td>...</td>\n",
       "      <td>...</td>\n",
       "    </tr>\n",
       "    <tr>\n",
       "      <th>4954</th>\n",
       "      <td>DDD</td>\n",
       "      <td>2014J</td>\n",
       "      <td>25368</td>\n",
       "      <td>Exam</td>\n",
       "      <td>652680</td>\n",
       "      <td>91.0</td>\n",
       "    </tr>\n",
       "    <tr>\n",
       "      <th>4955</th>\n",
       "      <td>DDD</td>\n",
       "      <td>2014J</td>\n",
       "      <td>25368</td>\n",
       "      <td>Exam</td>\n",
       "      <td>652732</td>\n",
       "      <td>47.0</td>\n",
       "    </tr>\n",
       "    <tr>\n",
       "      <th>4956</th>\n",
       "      <td>DDD</td>\n",
       "      <td>2014J</td>\n",
       "      <td>25368</td>\n",
       "      <td>Exam</td>\n",
       "      <td>652965</td>\n",
       "      <td>87.0</td>\n",
       "    </tr>\n",
       "    <tr>\n",
       "      <th>4957</th>\n",
       "      <td>DDD</td>\n",
       "      <td>2014J</td>\n",
       "      <td>25368</td>\n",
       "      <td>Exam</td>\n",
       "      <td>653051</td>\n",
       "      <td>27.0</td>\n",
       "    </tr>\n",
       "    <tr>\n",
       "      <th>4958</th>\n",
       "      <td>DDD</td>\n",
       "      <td>2014J</td>\n",
       "      <td>25368</td>\n",
       "      <td>Exam</td>\n",
       "      <td>653319</td>\n",
       "      <td>64.0</td>\n",
       "    </tr>\n",
       "  </tbody>\n",
       "</table>\n",
       "<p>4959 rows × 6 columns</p>\n",
       "</div>"
      ],
      "text/plain": [
       "     code_module code_presentation  id_assessment assessment_type  id_student  \\\n",
       "0            CCC             2014B          24290            Exam      558914   \n",
       "1            CCC             2014B          24290            Exam      559706   \n",
       "2            CCC             2014B          24290            Exam      559770   \n",
       "3            CCC             2014B          24290            Exam      560114   \n",
       "4            CCC             2014B          24290            Exam      560311   \n",
       "...          ...               ...            ...             ...         ...   \n",
       "4954         DDD             2014J          25368            Exam      652680   \n",
       "4955         DDD             2014J          25368            Exam      652732   \n",
       "4956         DDD             2014J          25368            Exam      652965   \n",
       "4957         DDD             2014J          25368            Exam      653051   \n",
       "4958         DDD             2014J          25368            Exam      653319   \n",
       "\n",
       "      score  \n",
       "0      32.0  \n",
       "1      78.0  \n",
       "2      54.0  \n",
       "3      64.0  \n",
       "4     100.0  \n",
       "...     ...  \n",
       "4954   91.0  \n",
       "4955   47.0  \n",
       "4956   87.0  \n",
       "4957   27.0  \n",
       "4958   64.0  \n",
       "\n",
       "[4959 rows x 6 columns]"
      ]
     },
     "execution_count": 40,
     "metadata": {},
     "output_type": "execute_result"
    }
   ],
   "source": [
    "studentScoresPerExam = pd.merge(left = exams, right = studentAssessment, how ='inner')\n",
    "studentScoresPerExam"
   ]
  },
  {
   "cell_type": "markdown",
   "metadata": {},
   "source": [
    "Even though it should not be the case, there is a possibility this list contains students who got a score for an exam without having enrolled into any module. To filter these faulty results out, we will join studentInfo with this. That way, the faulty results are filtered out."
   ]
  },
  {
   "cell_type": "code",
   "execution_count": 41,
   "metadata": {},
   "outputs": [
    {
     "data": {
      "text/html": [
       "<div>\n",
       "<style scoped>\n",
       "    .dataframe tbody tr th:only-of-type {\n",
       "        vertical-align: middle;\n",
       "    }\n",
       "\n",
       "    .dataframe tbody tr th {\n",
       "        vertical-align: top;\n",
       "    }\n",
       "\n",
       "    .dataframe thead th {\n",
       "        text-align: right;\n",
       "    }\n",
       "</style>\n",
       "<table border=\"1\" class=\"dataframe\">\n",
       "  <thead>\n",
       "    <tr style=\"text-align: right;\">\n",
       "      <th></th>\n",
       "      <th>code_module</th>\n",
       "      <th>code_presentation</th>\n",
       "      <th>id_student</th>\n",
       "      <th>gender</th>\n",
       "      <th>age_band</th>\n",
       "      <th>final_result</th>\n",
       "      <th>id_assessment</th>\n",
       "      <th>assessment_type</th>\n",
       "      <th>score</th>\n",
       "    </tr>\n",
       "  </thead>\n",
       "  <tbody>\n",
       "    <tr>\n",
       "      <th>0</th>\n",
       "      <td>CCC</td>\n",
       "      <td>2014B</td>\n",
       "      <td>29764</td>\n",
       "      <td>M</td>\n",
       "      <td>0-35</td>\n",
       "      <td>Distinction</td>\n",
       "      <td>24290</td>\n",
       "      <td>Exam</td>\n",
       "      <td>94.0</td>\n",
       "    </tr>\n",
       "    <tr>\n",
       "      <th>1</th>\n",
       "      <td>CCC</td>\n",
       "      <td>2014B</td>\n",
       "      <td>29820</td>\n",
       "      <td>M</td>\n",
       "      <td>0-35</td>\n",
       "      <td>Pass</td>\n",
       "      <td>24290</td>\n",
       "      <td>Exam</td>\n",
       "      <td>76.0</td>\n",
       "    </tr>\n",
       "    <tr>\n",
       "      <th>2</th>\n",
       "      <td>CCC</td>\n",
       "      <td>2014B</td>\n",
       "      <td>40604</td>\n",
       "      <td>M</td>\n",
       "      <td>35-55</td>\n",
       "      <td>Pass</td>\n",
       "      <td>24290</td>\n",
       "      <td>Exam</td>\n",
       "      <td>66.0</td>\n",
       "    </tr>\n",
       "    <tr>\n",
       "      <th>3</th>\n",
       "      <td>CCC</td>\n",
       "      <td>2014B</td>\n",
       "      <td>46605</td>\n",
       "      <td>M</td>\n",
       "      <td>35-55</td>\n",
       "      <td>Distinction</td>\n",
       "      <td>24290</td>\n",
       "      <td>Exam</td>\n",
       "      <td>98.0</td>\n",
       "    </tr>\n",
       "    <tr>\n",
       "      <th>4</th>\n",
       "      <td>CCC</td>\n",
       "      <td>2014B</td>\n",
       "      <td>49119</td>\n",
       "      <td>M</td>\n",
       "      <td>0-35</td>\n",
       "      <td>Distinction</td>\n",
       "      <td>24290</td>\n",
       "      <td>Exam</td>\n",
       "      <td>100.0</td>\n",
       "    </tr>\n",
       "    <tr>\n",
       "      <th>...</th>\n",
       "      <td>...</td>\n",
       "      <td>...</td>\n",
       "      <td>...</td>\n",
       "      <td>...</td>\n",
       "      <td>...</td>\n",
       "      <td>...</td>\n",
       "      <td>...</td>\n",
       "      <td>...</td>\n",
       "      <td>...</td>\n",
       "    </tr>\n",
       "    <tr>\n",
       "      <th>4356</th>\n",
       "      <td>DDD</td>\n",
       "      <td>2014J</td>\n",
       "      <td>2677210</td>\n",
       "      <td>M</td>\n",
       "      <td>0-35</td>\n",
       "      <td>Pass</td>\n",
       "      <td>25368</td>\n",
       "      <td>Exam</td>\n",
       "      <td>71.0</td>\n",
       "    </tr>\n",
       "    <tr>\n",
       "      <th>4357</th>\n",
       "      <td>DDD</td>\n",
       "      <td>2014J</td>\n",
       "      <td>2678380</td>\n",
       "      <td>M</td>\n",
       "      <td>35-55</td>\n",
       "      <td>Pass</td>\n",
       "      <td>25368</td>\n",
       "      <td>Exam</td>\n",
       "      <td>64.0</td>\n",
       "    </tr>\n",
       "    <tr>\n",
       "      <th>4358</th>\n",
       "      <td>DDD</td>\n",
       "      <td>2014J</td>\n",
       "      <td>2684043</td>\n",
       "      <td>M</td>\n",
       "      <td>0-35</td>\n",
       "      <td>Pass</td>\n",
       "      <td>25368</td>\n",
       "      <td>Exam</td>\n",
       "      <td>69.0</td>\n",
       "    </tr>\n",
       "    <tr>\n",
       "      <th>4359</th>\n",
       "      <td>DDD</td>\n",
       "      <td>2014J</td>\n",
       "      <td>2685863</td>\n",
       "      <td>F</td>\n",
       "      <td>35-55</td>\n",
       "      <td>Pass</td>\n",
       "      <td>25368</td>\n",
       "      <td>Exam</td>\n",
       "      <td>49.0</td>\n",
       "    </tr>\n",
       "    <tr>\n",
       "      <th>4360</th>\n",
       "      <td>DDD</td>\n",
       "      <td>2014J</td>\n",
       "      <td>2689863</td>\n",
       "      <td>F</td>\n",
       "      <td>0-35</td>\n",
       "      <td>Pass</td>\n",
       "      <td>25368</td>\n",
       "      <td>Exam</td>\n",
       "      <td>67.0</td>\n",
       "    </tr>\n",
       "  </tbody>\n",
       "</table>\n",
       "<p>4361 rows × 9 columns</p>\n",
       "</div>"
      ],
      "text/plain": [
       "     code_module code_presentation  id_student gender age_band final_result  \\\n",
       "0            CCC             2014B       29764      M     0-35  Distinction   \n",
       "1            CCC             2014B       29820      M     0-35         Pass   \n",
       "2            CCC             2014B       40604      M    35-55         Pass   \n",
       "3            CCC             2014B       46605      M    35-55  Distinction   \n",
       "4            CCC             2014B       49119      M     0-35  Distinction   \n",
       "...          ...               ...         ...    ...      ...          ...   \n",
       "4356         DDD             2014J     2677210      M     0-35         Pass   \n",
       "4357         DDD             2014J     2678380      M    35-55         Pass   \n",
       "4358         DDD             2014J     2684043      M     0-35         Pass   \n",
       "4359         DDD             2014J     2685863      F    35-55         Pass   \n",
       "4360         DDD             2014J     2689863      F     0-35         Pass   \n",
       "\n",
       "      id_assessment assessment_type  score  \n",
       "0             24290            Exam   94.0  \n",
       "1             24290            Exam   76.0  \n",
       "2             24290            Exam   66.0  \n",
       "3             24290            Exam   98.0  \n",
       "4             24290            Exam  100.0  \n",
       "...             ...             ...    ...  \n",
       "4356          25368            Exam   71.0  \n",
       "4357          25368            Exam   64.0  \n",
       "4358          25368            Exam   69.0  \n",
       "4359          25368            Exam   49.0  \n",
       "4360          25368            Exam   67.0  \n",
       "\n",
       "[4361 rows x 9 columns]"
      ]
     },
     "execution_count": 41,
     "metadata": {},
     "output_type": "execute_result"
    }
   ],
   "source": [
    "studentsFinalExams = pd.merge(left= studentInfo,right=studentScoresPerExam, how='inner')\n",
    "studentsFinalExams"
   ]
  },
  {
   "cell_type": "markdown",
   "metadata": {},
   "source": [
    "#### Students final score, split by gender"
   ]
  },
  {
   "cell_type": "markdown",
   "metadata": {},
   "source": [
    "Because one of the major variables we will check, is gender, it pays off to create a set with how many students there are, per gender"
   ]
  },
  {
   "cell_type": "code",
   "execution_count": 42,
   "metadata": {},
   "outputs": [
    {
     "data": {
      "text/plain": [
       "<AxesSubplot:xlabel='gender'>"
      ]
     },
     "execution_count": 42,
     "metadata": {},
     "output_type": "execute_result"
    },
    {
     "data": {
      "image/png": "[encoded data removed]",
      "text/plain": [
       "<Figure size 640x480 with 1 Axes>"
      ]
     },
     "metadata": {},
     "output_type": "display_data"
    }
   ],
   "source": [
    "studentsFinalExamsByGender = studentsFinalExams.groupby(['gender'])['id_student'].count()\n",
    "studentsFinalExamsByGender.plot(kind='bar')"
   ]
  },
  {
   "cell_type": "markdown",
   "metadata": {},
   "source": [
    "#### Students final score, split by age"
   ]
  },
  {
   "cell_type": "markdown",
   "metadata": {},
   "source": [
    "Because one of the major variables we will check, is age, it pays off to create a set with how many students there are, per age range"
   ]
  },
  {
   "cell_type": "code",
   "execution_count": 43,
   "metadata": {},
   "outputs": [
    {
     "data": {
      "text/plain": [
       "<AxesSubplot:xlabel='age_band'>"
      ]
     },
     "execution_count": 43,
     "metadata": {},
     "output_type": "execute_result"
    },
    {
     "data": {
      "image/png": "[encoded data removed]",
      "text/plain": [
       "<Figure size 640x480 with 1 Axes>"
      ]
     },
     "metadata": {},
     "output_type": "display_data"
    }
   ],
   "source": [
    "studentsFinalExamsByAge = studentsFinalExams.groupby(['age_band'])['id_student'].count()\n",
    "studentsFinalExamsByAge.plot(kind='bar')"
   ]
  },
  {
   "cell_type": "markdown",
   "metadata": {},
   "source": [
    "#### Sets students per final score"
   ]
  },
  {
   "cell_type": "markdown",
   "metadata": {},
   "source": [
    "The different ranges we will work with, are defined in the final score column:\n",
    "* Fail\n",
    "* Pass\n",
    "* Distinction"
   ]
  },
  {
   "cell_type": "code",
   "execution_count": 44,
   "metadata": {},
   "outputs": [],
   "source": [
    "failed = studentsFinalExams.loc[studentsFinalExams['final_result'] == 'Fail']\n",
    "passed = studentsFinalExams.loc[studentsFinalExams['final_result'] == 'Pass']\n",
    "distinction = studentsFinalExams.loc[studentsFinalExams['final_result'] == 'Distinction']\n"
   ]
  },
  {
   "cell_type": "markdown",
   "metadata": {},
   "source": [
    "Let's test these ranges: We'll see how many students there are in each range, and if it adds up to the total amount of students"
   ]
  },
  {
   "cell_type": "code",
   "execution_count": 45,
   "metadata": {},
   "outputs": [
    {
     "data": {
      "text/plain": [
       "613"
      ]
     },
     "execution_count": 45,
     "metadata": {},
     "output_type": "execute_result"
    }
   ],
   "source": [
    "failed['id_student'].count()"
   ]
  },
  {
   "cell_type": "code",
   "execution_count": 46,
   "metadata": {},
   "outputs": [
    {
     "data": {
      "text/plain": [
       "2983"
      ]
     },
     "execution_count": 46,
     "metadata": {},
     "output_type": "execute_result"
    }
   ],
   "source": [
    "passed['id_student'].count()"
   ]
  },
  {
   "cell_type": "code",
   "execution_count": 47,
   "metadata": {},
   "outputs": [
    {
     "data": {
      "text/plain": [
       "765"
      ]
     },
     "execution_count": 47,
     "metadata": {},
     "output_type": "execute_result"
    }
   ],
   "source": [
    "distinction['id_student'].count()"
   ]
  },
  {
   "cell_type": "markdown",
   "metadata": {},
   "source": [
    "All added up:"
   ]
  },
  {
   "cell_type": "code",
   "execution_count": 48,
   "metadata": {},
   "outputs": [
    {
     "data": {
      "text/plain": [
       "True"
      ]
     },
     "execution_count": 48,
     "metadata": {},
     "output_type": "execute_result"
    }
   ],
   "source": [
    "totalRanges = failed['id_student'].count() + passed['id_student'].count() + distinction['id_student'].count()\n",
    "totalStudents = studentsFinalExams['id_student'].count()\n",
    "totalRanges == totalStudents"
   ]
  },
  {
   "cell_type": "markdown",
   "metadata": {},
   "source": [
    "The total sum of the students in the ranges is the same as the total sum of students, so these are alright to use."
   ]
  },
  {
   "cell_type": "markdown",
   "metadata": {},
   "source": [
    "#### Total amount of clicks each student did on a module's study material"
   ]
  },
  {
   "cell_type": "markdown",
   "metadata": {},
   "source": [
    "One of the main variables we will check on, is the effect of module material usage on grades. As such, it's a good idea to prepare a dataframe that contains all clicks per student for each module."
   ]
  },
  {
   "cell_type": "code",
   "execution_count": 49,
   "metadata": {},
   "outputs": [
    {
     "data": {
      "text/html": [
       "<div>\n",
       "<style scoped>\n",
       "    .dataframe tbody tr th:only-of-type {\n",
       "        vertical-align: middle;\n",
       "    }\n",
       "\n",
       "    .dataframe tbody tr th {\n",
       "        vertical-align: top;\n",
       "    }\n",
       "\n",
       "    .dataframe thead th {\n",
       "        text-align: right;\n",
       "    }\n",
       "</style>\n",
       "<table border=\"1\" class=\"dataframe\">\n",
       "  <thead>\n",
       "    <tr style=\"text-align: right;\">\n",
       "      <th></th>\n",
       "      <th>id_student</th>\n",
       "      <th>code_module</th>\n",
       "      <th>code_presentation</th>\n",
       "      <th>sum_click</th>\n",
       "    </tr>\n",
       "  </thead>\n",
       "  <tbody>\n",
       "    <tr>\n",
       "      <th>0</th>\n",
       "      <td>6516</td>\n",
       "      <td>AAA</td>\n",
       "      <td>2014J</td>\n",
       "      <td>2791</td>\n",
       "    </tr>\n",
       "    <tr>\n",
       "      <th>1</th>\n",
       "      <td>8462</td>\n",
       "      <td>DDD</td>\n",
       "      <td>2013J</td>\n",
       "      <td>646</td>\n",
       "    </tr>\n",
       "    <tr>\n",
       "      <th>2</th>\n",
       "      <td>8462</td>\n",
       "      <td>DDD</td>\n",
       "      <td>2014J</td>\n",
       "      <td>10</td>\n",
       "    </tr>\n",
       "    <tr>\n",
       "      <th>3</th>\n",
       "      <td>11391</td>\n",
       "      <td>AAA</td>\n",
       "      <td>2013J</td>\n",
       "      <td>934</td>\n",
       "    </tr>\n",
       "    <tr>\n",
       "      <th>4</th>\n",
       "      <td>23629</td>\n",
       "      <td>BBB</td>\n",
       "      <td>2013B</td>\n",
       "      <td>161</td>\n",
       "    </tr>\n",
       "    <tr>\n",
       "      <th>...</th>\n",
       "      <td>...</td>\n",
       "      <td>...</td>\n",
       "      <td>...</td>\n",
       "      <td>...</td>\n",
       "    </tr>\n",
       "    <tr>\n",
       "      <th>29223</th>\n",
       "      <td>2698257</td>\n",
       "      <td>AAA</td>\n",
       "      <td>2013J</td>\n",
       "      <td>758</td>\n",
       "    </tr>\n",
       "    <tr>\n",
       "      <th>29224</th>\n",
       "      <td>2698535</td>\n",
       "      <td>CCC</td>\n",
       "      <td>2014B</td>\n",
       "      <td>786</td>\n",
       "    </tr>\n",
       "    <tr>\n",
       "      <th>29225</th>\n",
       "      <td>2698535</td>\n",
       "      <td>EEE</td>\n",
       "      <td>2013J</td>\n",
       "      <td>3455</td>\n",
       "    </tr>\n",
       "    <tr>\n",
       "      <th>29226</th>\n",
       "      <td>2698577</td>\n",
       "      <td>BBB</td>\n",
       "      <td>2014J</td>\n",
       "      <td>717</td>\n",
       "    </tr>\n",
       "    <tr>\n",
       "      <th>29227</th>\n",
       "      <td>2698588</td>\n",
       "      <td>BBB</td>\n",
       "      <td>2014J</td>\n",
       "      <td>605</td>\n",
       "    </tr>\n",
       "  </tbody>\n",
       "</table>\n",
       "<p>29228 rows × 4 columns</p>\n",
       "</div>"
      ],
      "text/plain": [
       "       id_student code_module code_presentation  sum_click\n",
       "0            6516         AAA             2014J       2791\n",
       "1            8462         DDD             2013J        646\n",
       "2            8462         DDD             2014J         10\n",
       "3           11391         AAA             2013J        934\n",
       "4           23629         BBB             2013B        161\n",
       "...           ...         ...               ...        ...\n",
       "29223     2698257         AAA             2013J        758\n",
       "29224     2698535         CCC             2014B        786\n",
       "29225     2698535         EEE             2013J       3455\n",
       "29226     2698577         BBB             2014J        717\n",
       "29227     2698588         BBB             2014J        605\n",
       "\n",
       "[29228 rows x 4 columns]"
      ]
     },
     "execution_count": 49,
     "metadata": {},
     "output_type": "execute_result"
    }
   ],
   "source": [
    "studentClicks = studentVle.groupby(['id_student','code_module', 'code_presentation'])['sum_click'].sum().reset_index(name ='sum_click')\n",
    "studentClicks"
   ]
  },
  {
   "cell_type": "markdown",
   "metadata": {},
   "source": [
    "If we want to compare the amount of clicks for a course, we need something to compare it to. We will create an extra column with the mean of the sum of clicks. This way, we can compare the total amount of clicks of a student on a specific module's material, and see if it's more or less than the average amount of clicks."
   ]
  },
  {
   "cell_type": "markdown",
   "metadata": {},
   "source": [
    "To do this, we obviously need to know the mean first. Let's calculate this"
   ]
  },
  {
   "cell_type": "code",
   "execution_count": 50,
   "metadata": {},
   "outputs": [
    {
     "data": {
      "text/html": [
       "<div>\n",
       "<style scoped>\n",
       "    .dataframe tbody tr th:only-of-type {\n",
       "        vertical-align: middle;\n",
       "    }\n",
       "\n",
       "    .dataframe tbody tr th {\n",
       "        vertical-align: top;\n",
       "    }\n",
       "\n",
       "    .dataframe thead th {\n",
       "        text-align: right;\n",
       "    }\n",
       "</style>\n",
       "<table border=\"1\" class=\"dataframe\">\n",
       "  <thead>\n",
       "    <tr style=\"text-align: right;\">\n",
       "      <th></th>\n",
       "      <th>code_module</th>\n",
       "      <th>mean_sum_click</th>\n",
       "    </tr>\n",
       "  </thead>\n",
       "  <tbody>\n",
       "    <tr>\n",
       "      <th>0</th>\n",
       "      <td>AAA</td>\n",
       "      <td>1696.125170</td>\n",
       "    </tr>\n",
       "    <tr>\n",
       "      <th>1</th>\n",
       "      <td>BBB</td>\n",
       "      <td>790.422229</td>\n",
       "    </tr>\n",
       "    <tr>\n",
       "      <th>2</th>\n",
       "      <td>CCC</td>\n",
       "      <td>1175.533266</td>\n",
       "    </tr>\n",
       "    <tr>\n",
       "      <th>3</th>\n",
       "      <td>DDD</td>\n",
       "      <td>962.591645</td>\n",
       "    </tr>\n",
       "    <tr>\n",
       "      <th>4</th>\n",
       "      <td>EEE</td>\n",
       "      <td>1483.883426</td>\n",
       "    </tr>\n",
       "    <tr>\n",
       "      <th>5</th>\n",
       "      <td>FFF</td>\n",
       "      <td>2480.812465</td>\n",
       "    </tr>\n",
       "    <tr>\n",
       "      <th>6</th>\n",
       "      <td>GGG</td>\n",
       "      <td>563.771767</td>\n",
       "    </tr>\n",
       "  </tbody>\n",
       "</table>\n",
       "</div>"
      ],
      "text/plain": [
       "  code_module  mean_sum_click\n",
       "0         AAA     1696.125170\n",
       "1         BBB      790.422229\n",
       "2         CCC     1175.533266\n",
       "3         DDD      962.591645\n",
       "4         EEE     1483.883426\n",
       "5         FFF     2480.812465\n",
       "6         GGG      563.771767"
      ]
     },
     "execution_count": 50,
     "metadata": {},
     "output_type": "execute_result"
    }
   ],
   "source": [
    "studentClicksMean = studentClicks.groupby(['code_module'])['sum_click'].mean().reset_index()\n",
    "studentClicksMean.rename(columns={'sum_click':'mean_sum_click'}, inplace = True)\n",
    "studentClicksMean"
   ]
  },
  {
   "cell_type": "markdown",
   "metadata": {},
   "source": [
    "Now that we have the mean per module, we still need to add it to the dataframe of total clicks per student per module. We will join these two dataframes now."
   ]
  },
  {
   "cell_type": "code",
   "execution_count": 51,
   "metadata": {},
   "outputs": [
    {
     "data": {
      "text/html": [
       "<div>\n",
       "<style scoped>\n",
       "    .dataframe tbody tr th:only-of-type {\n",
       "        vertical-align: middle;\n",
       "    }\n",
       "\n",
       "    .dataframe tbody tr th {\n",
       "        vertical-align: top;\n",
       "    }\n",
       "\n",
       "    .dataframe thead th {\n",
       "        text-align: right;\n",
       "    }\n",
       "</style>\n",
       "<table border=\"1\" class=\"dataframe\">\n",
       "  <thead>\n",
       "    <tr style=\"text-align: right;\">\n",
       "      <th></th>\n",
       "      <th>id_student</th>\n",
       "      <th>code_module</th>\n",
       "      <th>code_presentation</th>\n",
       "      <th>sum_click</th>\n",
       "      <th>mean_sum_click</th>\n",
       "    </tr>\n",
       "  </thead>\n",
       "  <tbody>\n",
       "    <tr>\n",
       "      <th>0</th>\n",
       "      <td>6516</td>\n",
       "      <td>AAA</td>\n",
       "      <td>2014J</td>\n",
       "      <td>2791</td>\n",
       "      <td>1696.125170</td>\n",
       "    </tr>\n",
       "    <tr>\n",
       "      <th>1</th>\n",
       "      <td>11391</td>\n",
       "      <td>AAA</td>\n",
       "      <td>2013J</td>\n",
       "      <td>934</td>\n",
       "      <td>1696.125170</td>\n",
       "    </tr>\n",
       "    <tr>\n",
       "      <th>2</th>\n",
       "      <td>24734</td>\n",
       "      <td>AAA</td>\n",
       "      <td>2014J</td>\n",
       "      <td>499</td>\n",
       "      <td>1696.125170</td>\n",
       "    </tr>\n",
       "    <tr>\n",
       "      <th>3</th>\n",
       "      <td>26192</td>\n",
       "      <td>AAA</td>\n",
       "      <td>2014J</td>\n",
       "      <td>2223</td>\n",
       "      <td>1696.125170</td>\n",
       "    </tr>\n",
       "    <tr>\n",
       "      <th>4</th>\n",
       "      <td>28061</td>\n",
       "      <td>AAA</td>\n",
       "      <td>2014J</td>\n",
       "      <td>1590</td>\n",
       "      <td>1696.125170</td>\n",
       "    </tr>\n",
       "    <tr>\n",
       "      <th>...</th>\n",
       "      <td>...</td>\n",
       "      <td>...</td>\n",
       "      <td>...</td>\n",
       "      <td>...</td>\n",
       "      <td>...</td>\n",
       "    </tr>\n",
       "    <tr>\n",
       "      <th>29223</th>\n",
       "      <td>2697630</td>\n",
       "      <td>FFF</td>\n",
       "      <td>2014B</td>\n",
       "      <td>1109</td>\n",
       "      <td>2480.812465</td>\n",
       "    </tr>\n",
       "    <tr>\n",
       "      <th>29224</th>\n",
       "      <td>2697885</td>\n",
       "      <td>FFF</td>\n",
       "      <td>2014B</td>\n",
       "      <td>1986</td>\n",
       "      <td>2480.812465</td>\n",
       "    </tr>\n",
       "    <tr>\n",
       "      <th>29225</th>\n",
       "      <td>2697921</td>\n",
       "      <td>FFF</td>\n",
       "      <td>2013J</td>\n",
       "      <td>2319</td>\n",
       "      <td>2480.812465</td>\n",
       "    </tr>\n",
       "    <tr>\n",
       "      <th>29226</th>\n",
       "      <td>2697921</td>\n",
       "      <td>FFF</td>\n",
       "      <td>2014J</td>\n",
       "      <td>1767</td>\n",
       "      <td>2480.812465</td>\n",
       "    </tr>\n",
       "    <tr>\n",
       "      <th>29227</th>\n",
       "      <td>2698125</td>\n",
       "      <td>FFF</td>\n",
       "      <td>2013J</td>\n",
       "      <td>1243</td>\n",
       "      <td>2480.812465</td>\n",
       "    </tr>\n",
       "  </tbody>\n",
       "</table>\n",
       "<p>29228 rows × 5 columns</p>\n",
       "</div>"
      ],
      "text/plain": [
       "       id_student code_module code_presentation  sum_click  mean_sum_click\n",
       "0            6516         AAA             2014J       2791     1696.125170\n",
       "1           11391         AAA             2013J        934     1696.125170\n",
       "2           24734         AAA             2014J        499     1696.125170\n",
       "3           26192         AAA             2014J       2223     1696.125170\n",
       "4           28061         AAA             2014J       1590     1696.125170\n",
       "...           ...         ...               ...        ...             ...\n",
       "29223     2697630         FFF             2014B       1109     2480.812465\n",
       "29224     2697885         FFF             2014B       1986     2480.812465\n",
       "29225     2697921         FFF             2013J       2319     2480.812465\n",
       "29226     2697921         FFF             2014J       1767     2480.812465\n",
       "29227     2698125         FFF             2013J       1243     2480.812465\n",
       "\n",
       "[29228 rows x 5 columns]"
      ]
     },
     "execution_count": 51,
     "metadata": {},
     "output_type": "execute_result"
    }
   ],
   "source": [
    "studentClicks = pd.merge(left= studentClicks, right= studentClicksMean,how='inner')\n",
    "studentClicks"
   ]
  },
  {
   "cell_type": "markdown",
   "metadata": {},
   "source": [
    "#### Total amount of clicks each student did per study material type per module / presentation"
   ]
  },
  {
   "cell_type": "markdown",
   "metadata": {},
   "source": [
    "It may also be interesting to know what type of material is the most helpful for a student. For this, we'll make a new dataframe similar to the previous one, but for each type of study material"
   ]
  },
  {
   "cell_type": "markdown",
   "metadata": {},
   "source": [
    "First, we'll need to merge the studentVLE dataframe with the VLE one, so we have clicks and types together."
   ]
  },
  {
   "cell_type": "code",
   "execution_count": 52,
   "metadata": {},
   "outputs": [
    {
     "data": {
      "text/html": [
       "<div>\n",
       "<style scoped>\n",
       "    .dataframe tbody tr th:only-of-type {\n",
       "        vertical-align: middle;\n",
       "    }\n",
       "\n",
       "    .dataframe tbody tr th {\n",
       "        vertical-align: top;\n",
       "    }\n",
       "\n",
       "    .dataframe thead th {\n",
       "        text-align: right;\n",
       "    }\n",
       "</style>\n",
       "<table border=\"1\" class=\"dataframe\">\n",
       "  <thead>\n",
       "    <tr style=\"text-align: right;\">\n",
       "      <th></th>\n",
       "      <th>code_module</th>\n",
       "      <th>code_presentation</th>\n",
       "      <th>id_student</th>\n",
       "      <th>id_site</th>\n",
       "      <th>sum_click</th>\n",
       "      <th>activity_type</th>\n",
       "    </tr>\n",
       "  </thead>\n",
       "  <tbody>\n",
       "    <tr>\n",
       "      <th>0</th>\n",
       "      <td>AAA</td>\n",
       "      <td>2013J</td>\n",
       "      <td>28400</td>\n",
       "      <td>546652</td>\n",
       "      <td>4</td>\n",
       "      <td>misc</td>\n",
       "    </tr>\n",
       "    <tr>\n",
       "      <th>1</th>\n",
       "      <td>AAA</td>\n",
       "      <td>2013J</td>\n",
       "      <td>28400</td>\n",
       "      <td>546652</td>\n",
       "      <td>1</td>\n",
       "      <td>misc</td>\n",
       "    </tr>\n",
       "    <tr>\n",
       "      <th>2</th>\n",
       "      <td>AAA</td>\n",
       "      <td>2013J</td>\n",
       "      <td>28400</td>\n",
       "      <td>546652</td>\n",
       "      <td>1</td>\n",
       "      <td>misc</td>\n",
       "    </tr>\n",
       "    <tr>\n",
       "      <th>3</th>\n",
       "      <td>AAA</td>\n",
       "      <td>2013J</td>\n",
       "      <td>28400</td>\n",
       "      <td>546652</td>\n",
       "      <td>8</td>\n",
       "      <td>misc</td>\n",
       "    </tr>\n",
       "    <tr>\n",
       "      <th>4</th>\n",
       "      <td>AAA</td>\n",
       "      <td>2013J</td>\n",
       "      <td>30268</td>\n",
       "      <td>546652</td>\n",
       "      <td>3</td>\n",
       "      <td>misc</td>\n",
       "    </tr>\n",
       "    <tr>\n",
       "      <th>...</th>\n",
       "      <td>...</td>\n",
       "      <td>...</td>\n",
       "      <td>...</td>\n",
       "      <td>...</td>\n",
       "      <td>...</td>\n",
       "      <td>...</td>\n",
       "    </tr>\n",
       "    <tr>\n",
       "      <th>10655275</th>\n",
       "      <td>GGG</td>\n",
       "      <td>2014J</td>\n",
       "      <td>647054</td>\n",
       "      <td>896969</td>\n",
       "      <td>8</td>\n",
       "      <td>ou</td>\n",
       "    </tr>\n",
       "    <tr>\n",
       "      <th>10655276</th>\n",
       "      <td>GGG</td>\n",
       "      <td>2014J</td>\n",
       "      <td>499187</td>\n",
       "      <td>896969</td>\n",
       "      <td>8</td>\n",
       "      <td>ou</td>\n",
       "    </tr>\n",
       "    <tr>\n",
       "      <th>10655277</th>\n",
       "      <td>GGG</td>\n",
       "      <td>2014J</td>\n",
       "      <td>629258</td>\n",
       "      <td>896969</td>\n",
       "      <td>23</td>\n",
       "      <td>ou</td>\n",
       "    </tr>\n",
       "    <tr>\n",
       "      <th>10655278</th>\n",
       "      <td>GGG</td>\n",
       "      <td>2014J</td>\n",
       "      <td>534672</td>\n",
       "      <td>896969</td>\n",
       "      <td>1</td>\n",
       "      <td>ou</td>\n",
       "    </tr>\n",
       "    <tr>\n",
       "      <th>10655279</th>\n",
       "      <td>GGG</td>\n",
       "      <td>2014J</td>\n",
       "      <td>637476</td>\n",
       "      <td>896969</td>\n",
       "      <td>1</td>\n",
       "      <td>ou</td>\n",
       "    </tr>\n",
       "  </tbody>\n",
       "</table>\n",
       "<p>10655280 rows × 6 columns</p>\n",
       "</div>"
      ],
      "text/plain": [
       "         code_module code_presentation  id_student  id_site  sum_click  \\\n",
       "0                AAA             2013J       28400   546652          4   \n",
       "1                AAA             2013J       28400   546652          1   \n",
       "2                AAA             2013J       28400   546652          1   \n",
       "3                AAA             2013J       28400   546652          8   \n",
       "4                AAA             2013J       30268   546652          3   \n",
       "...              ...               ...         ...      ...        ...   \n",
       "10655275         GGG             2014J      647054   896969          8   \n",
       "10655276         GGG             2014J      499187   896969          8   \n",
       "10655277         GGG             2014J      629258   896969         23   \n",
       "10655278         GGG             2014J      534672   896969          1   \n",
       "10655279         GGG             2014J      637476   896969          1   \n",
       "\n",
       "         activity_type  \n",
       "0                 misc  \n",
       "1                 misc  \n",
       "2                 misc  \n",
       "3                 misc  \n",
       "4                 misc  \n",
       "...                ...  \n",
       "10655275            ou  \n",
       "10655276            ou  \n",
       "10655277            ou  \n",
       "10655278            ou  \n",
       "10655279            ou  \n",
       "\n",
       "[10655280 rows x 6 columns]"
      ]
     },
     "execution_count": 52,
     "metadata": {},
     "output_type": "execute_result"
    }
   ],
   "source": [
    "studentVleTypes = pd.merge(left = studentVle, right = vle, how='inner')\n",
    "studentVleTypes"
   ]
  },
  {
   "cell_type": "markdown",
   "metadata": {},
   "source": [
    "Now we need to group them together by type and get the sum of the clicks."
   ]
  },
  {
   "cell_type": "code",
   "execution_count": 53,
   "metadata": {},
   "outputs": [
    {
     "data": {
      "text/html": [
       "<div>\n",
       "<style scoped>\n",
       "    .dataframe tbody tr th:only-of-type {\n",
       "        vertical-align: middle;\n",
       "    }\n",
       "\n",
       "    .dataframe tbody tr th {\n",
       "        vertical-align: top;\n",
       "    }\n",
       "\n",
       "    .dataframe thead th {\n",
       "        text-align: right;\n",
       "    }\n",
       "</style>\n",
       "<table border=\"1\" class=\"dataframe\">\n",
       "  <thead>\n",
       "    <tr style=\"text-align: right;\">\n",
       "      <th></th>\n",
       "      <th>id_student</th>\n",
       "      <th>code_module</th>\n",
       "      <th>code_presentation</th>\n",
       "      <th>activity_type</th>\n",
       "      <th>type_sum_click</th>\n",
       "    </tr>\n",
       "  </thead>\n",
       "  <tbody>\n",
       "    <tr>\n",
       "      <th>0</th>\n",
       "      <td>6516</td>\n",
       "      <td>AAA</td>\n",
       "      <td>2014J</td>\n",
       "      <td>html</td>\n",
       "      <td>783</td>\n",
       "    </tr>\n",
       "    <tr>\n",
       "      <th>1</th>\n",
       "      <td>6516</td>\n",
       "      <td>AAA</td>\n",
       "      <td>2014J</td>\n",
       "      <td>misc</td>\n",
       "      <td>503</td>\n",
       "    </tr>\n",
       "    <tr>\n",
       "      <th>2</th>\n",
       "      <td>6516</td>\n",
       "      <td>AAA</td>\n",
       "      <td>2014J</td>\n",
       "      <td>ou</td>\n",
       "      <td>1505</td>\n",
       "    </tr>\n",
       "    <tr>\n",
       "      <th>3</th>\n",
       "      <td>8462</td>\n",
       "      <td>DDD</td>\n",
       "      <td>2013J</td>\n",
       "      <td>html</td>\n",
       "      <td>434</td>\n",
       "    </tr>\n",
       "    <tr>\n",
       "      <th>4</th>\n",
       "      <td>8462</td>\n",
       "      <td>DDD</td>\n",
       "      <td>2013J</td>\n",
       "      <td>misc</td>\n",
       "      <td>118</td>\n",
       "    </tr>\n",
       "    <tr>\n",
       "      <th>...</th>\n",
       "      <td>...</td>\n",
       "      <td>...</td>\n",
       "      <td>...</td>\n",
       "      <td>...</td>\n",
       "      <td>...</td>\n",
       "    </tr>\n",
       "    <tr>\n",
       "      <th>84937</th>\n",
       "      <td>2698577</td>\n",
       "      <td>BBB</td>\n",
       "      <td>2014J</td>\n",
       "      <td>misc</td>\n",
       "      <td>213</td>\n",
       "    </tr>\n",
       "    <tr>\n",
       "      <th>84938</th>\n",
       "      <td>2698577</td>\n",
       "      <td>BBB</td>\n",
       "      <td>2014J</td>\n",
       "      <td>ou</td>\n",
       "      <td>258</td>\n",
       "    </tr>\n",
       "    <tr>\n",
       "      <th>84939</th>\n",
       "      <td>2698588</td>\n",
       "      <td>BBB</td>\n",
       "      <td>2014J</td>\n",
       "      <td>html</td>\n",
       "      <td>249</td>\n",
       "    </tr>\n",
       "    <tr>\n",
       "      <th>84940</th>\n",
       "      <td>2698588</td>\n",
       "      <td>BBB</td>\n",
       "      <td>2014J</td>\n",
       "      <td>misc</td>\n",
       "      <td>116</td>\n",
       "    </tr>\n",
       "    <tr>\n",
       "      <th>84941</th>\n",
       "      <td>2698588</td>\n",
       "      <td>BBB</td>\n",
       "      <td>2014J</td>\n",
       "      <td>ou</td>\n",
       "      <td>240</td>\n",
       "    </tr>\n",
       "  </tbody>\n",
       "</table>\n",
       "<p>84942 rows × 5 columns</p>\n",
       "</div>"
      ],
      "text/plain": [
       "       id_student code_module code_presentation activity_type  type_sum_click\n",
       "0            6516         AAA             2014J          html             783\n",
       "1            6516         AAA             2014J          misc             503\n",
       "2            6516         AAA             2014J            ou            1505\n",
       "3            8462         DDD             2013J          html             434\n",
       "4            8462         DDD             2013J          misc             118\n",
       "...           ...         ...               ...           ...             ...\n",
       "84937     2698577         BBB             2014J          misc             213\n",
       "84938     2698577         BBB             2014J            ou             258\n",
       "84939     2698588         BBB             2014J          html             249\n",
       "84940     2698588         BBB             2014J          misc             116\n",
       "84941     2698588         BBB             2014J            ou             240\n",
       "\n",
       "[84942 rows x 5 columns]"
      ]
     },
     "execution_count": 53,
     "metadata": {},
     "output_type": "execute_result"
    }
   ],
   "source": [
    "studentVleTypes = studentVleTypes.groupby(['id_student', 'code_module', 'code_presentation', 'activity_type'])['sum_click'].sum().reset_index(name ='sum_click')\n",
    "studentVleTypes.rename(columns={'sum_click':'type_sum_click'}, inplace = True)\n",
    "studentVleTypes"
   ]
  },
  {
   "cell_type": "markdown",
   "metadata": {},
   "source": [
    "As before, we will need something to compare the sum of the clicks to. We'll get the average amount of clicks again, to compare against."
   ]
  },
  {
   "cell_type": "code",
   "execution_count": 54,
   "metadata": {},
   "outputs": [
    {
     "data": {
      "text/html": [
       "<div>\n",
       "<style scoped>\n",
       "    .dataframe tbody tr th:only-of-type {\n",
       "        vertical-align: middle;\n",
       "    }\n",
       "\n",
       "    .dataframe tbody tr th {\n",
       "        vertical-align: top;\n",
       "    }\n",
       "\n",
       "    .dataframe thead th {\n",
       "        text-align: right;\n",
       "    }\n",
       "</style>\n",
       "<table border=\"1\" class=\"dataframe\">\n",
       "  <thead>\n",
       "    <tr style=\"text-align: right;\">\n",
       "      <th></th>\n",
       "      <th>activity_type</th>\n",
       "      <th>code_module</th>\n",
       "      <th>code_presentation</th>\n",
       "      <th>type_mean_sum_click</th>\n",
       "    </tr>\n",
       "  </thead>\n",
       "  <tbody>\n",
       "    <tr>\n",
       "      <th>0</th>\n",
       "      <td>html</td>\n",
       "      <td>AAA</td>\n",
       "      <td>2013J</td>\n",
       "      <td>517.785714</td>\n",
       "    </tr>\n",
       "    <tr>\n",
       "      <th>1</th>\n",
       "      <td>html</td>\n",
       "      <td>AAA</td>\n",
       "      <td>2014J</td>\n",
       "      <td>478.868347</td>\n",
       "    </tr>\n",
       "    <tr>\n",
       "      <th>2</th>\n",
       "      <td>html</td>\n",
       "      <td>BBB</td>\n",
       "      <td>2013B</td>\n",
       "      <td>255.034505</td>\n",
       "    </tr>\n",
       "    <tr>\n",
       "      <th>3</th>\n",
       "      <td>html</td>\n",
       "      <td>BBB</td>\n",
       "      <td>2013J</td>\n",
       "      <td>248.711230</td>\n",
       "    </tr>\n",
       "    <tr>\n",
       "      <th>4</th>\n",
       "      <td>html</td>\n",
       "      <td>BBB</td>\n",
       "      <td>2014B</td>\n",
       "      <td>214.600464</td>\n",
       "    </tr>\n",
       "    <tr>\n",
       "      <th>...</th>\n",
       "      <td>...</td>\n",
       "      <td>...</td>\n",
       "      <td>...</td>\n",
       "      <td>...</td>\n",
       "    </tr>\n",
       "    <tr>\n",
       "      <th>61</th>\n",
       "      <td>ou</td>\n",
       "      <td>FFF</td>\n",
       "      <td>2014B</td>\n",
       "      <td>865.497768</td>\n",
       "    </tr>\n",
       "    <tr>\n",
       "      <th>62</th>\n",
       "      <td>ou</td>\n",
       "      <td>FFF</td>\n",
       "      <td>2014J</td>\n",
       "      <td>1010.422384</td>\n",
       "    </tr>\n",
       "    <tr>\n",
       "      <th>63</th>\n",
       "      <td>ou</td>\n",
       "      <td>GGG</td>\n",
       "      <td>2013J</td>\n",
       "      <td>207.020833</td>\n",
       "    </tr>\n",
       "    <tr>\n",
       "      <th>64</th>\n",
       "      <td>ou</td>\n",
       "      <td>GGG</td>\n",
       "      <td>2014B</td>\n",
       "      <td>191.224161</td>\n",
       "    </tr>\n",
       "    <tr>\n",
       "      <th>65</th>\n",
       "      <td>ou</td>\n",
       "      <td>GGG</td>\n",
       "      <td>2014J</td>\n",
       "      <td>233.600299</td>\n",
       "    </tr>\n",
       "  </tbody>\n",
       "</table>\n",
       "<p>66 rows × 4 columns</p>\n",
       "</div>"
      ],
      "text/plain": [
       "   activity_type code_module code_presentation  type_mean_sum_click\n",
       "0           html         AAA             2013J           517.785714\n",
       "1           html         AAA             2014J           478.868347\n",
       "2           html         BBB             2013B           255.034505\n",
       "3           html         BBB             2013J           248.711230\n",
       "4           html         BBB             2014B           214.600464\n",
       "..           ...         ...               ...                  ...\n",
       "61            ou         FFF             2014B           865.497768\n",
       "62            ou         FFF             2014J          1010.422384\n",
       "63            ou         GGG             2013J           207.020833\n",
       "64            ou         GGG             2014B           191.224161\n",
       "65            ou         GGG             2014J           233.600299\n",
       "\n",
       "[66 rows x 4 columns]"
      ]
     },
     "execution_count": 54,
     "metadata": {},
     "output_type": "execute_result"
    }
   ],
   "source": [
    "studentVleTypesMean = studentVleTypes.groupby(['activity_type', 'code_module', 'code_presentation'])['type_sum_click'].mean().reset_index()\n",
    "studentVleTypesMean.rename(columns={'type_sum_click':'type_mean_sum_click'}, inplace = True)\n",
    "studentVleTypesMean"
   ]
  },
  {
   "cell_type": "markdown",
   "metadata": {},
   "source": [
    "Now that we have the mean per type, we still need to add it to the dataframe of clicks per student per type. We will join these two dataframes now."
   ]
  },
  {
   "cell_type": "code",
   "execution_count": 55,
   "metadata": {},
   "outputs": [
    {
     "data": {
      "text/html": [
       "<div>\n",
       "<style scoped>\n",
       "    .dataframe tbody tr th:only-of-type {\n",
       "        vertical-align: middle;\n",
       "    }\n",
       "\n",
       "    .dataframe tbody tr th {\n",
       "        vertical-align: top;\n",
       "    }\n",
       "\n",
       "    .dataframe thead th {\n",
       "        text-align: right;\n",
       "    }\n",
       "</style>\n",
       "<table border=\"1\" class=\"dataframe\">\n",
       "  <thead>\n",
       "    <tr style=\"text-align: right;\">\n",
       "      <th></th>\n",
       "      <th>id_student</th>\n",
       "      <th>code_module</th>\n",
       "      <th>code_presentation</th>\n",
       "      <th>activity_type</th>\n",
       "      <th>type_sum_click</th>\n",
       "      <th>type_mean_sum_click</th>\n",
       "    </tr>\n",
       "  </thead>\n",
       "  <tbody>\n",
       "    <tr>\n",
       "      <th>0</th>\n",
       "      <td>6516</td>\n",
       "      <td>AAA</td>\n",
       "      <td>2014J</td>\n",
       "      <td>html</td>\n",
       "      <td>783</td>\n",
       "      <td>478.868347</td>\n",
       "    </tr>\n",
       "    <tr>\n",
       "      <th>1</th>\n",
       "      <td>24734</td>\n",
       "      <td>AAA</td>\n",
       "      <td>2014J</td>\n",
       "      <td>html</td>\n",
       "      <td>174</td>\n",
       "      <td>478.868347</td>\n",
       "    </tr>\n",
       "    <tr>\n",
       "      <th>2</th>\n",
       "      <td>26192</td>\n",
       "      <td>AAA</td>\n",
       "      <td>2014J</td>\n",
       "      <td>html</td>\n",
       "      <td>937</td>\n",
       "      <td>478.868347</td>\n",
       "    </tr>\n",
       "    <tr>\n",
       "      <th>3</th>\n",
       "      <td>28061</td>\n",
       "      <td>AAA</td>\n",
       "      <td>2014J</td>\n",
       "      <td>html</td>\n",
       "      <td>675</td>\n",
       "      <td>478.868347</td>\n",
       "    </tr>\n",
       "    <tr>\n",
       "      <th>4</th>\n",
       "      <td>31600</td>\n",
       "      <td>AAA</td>\n",
       "      <td>2014J</td>\n",
       "      <td>html</td>\n",
       "      <td>96</td>\n",
       "      <td>478.868347</td>\n",
       "    </tr>\n",
       "    <tr>\n",
       "      <th>...</th>\n",
       "      <td>...</td>\n",
       "      <td>...</td>\n",
       "      <td>...</td>\n",
       "      <td>...</td>\n",
       "      <td>...</td>\n",
       "      <td>...</td>\n",
       "    </tr>\n",
       "    <tr>\n",
       "      <th>84937</th>\n",
       "      <td>2659042</td>\n",
       "      <td>BBB</td>\n",
       "      <td>2014B</td>\n",
       "      <td>ou</td>\n",
       "      <td>36</td>\n",
       "      <td>25.789282</td>\n",
       "    </tr>\n",
       "    <tr>\n",
       "      <th>84938</th>\n",
       "      <td>2677541</td>\n",
       "      <td>BBB</td>\n",
       "      <td>2014B</td>\n",
       "      <td>ou</td>\n",
       "      <td>38</td>\n",
       "      <td>25.789282</td>\n",
       "    </tr>\n",
       "    <tr>\n",
       "      <th>84939</th>\n",
       "      <td>2681783</td>\n",
       "      <td>BBB</td>\n",
       "      <td>2014B</td>\n",
       "      <td>ou</td>\n",
       "      <td>11</td>\n",
       "      <td>25.789282</td>\n",
       "    </tr>\n",
       "    <tr>\n",
       "      <th>84940</th>\n",
       "      <td>2683697</td>\n",
       "      <td>BBB</td>\n",
       "      <td>2014B</td>\n",
       "      <td>ou</td>\n",
       "      <td>1</td>\n",
       "      <td>25.789282</td>\n",
       "    </tr>\n",
       "    <tr>\n",
       "      <th>84941</th>\n",
       "      <td>2687378</td>\n",
       "      <td>BBB</td>\n",
       "      <td>2014B</td>\n",
       "      <td>ou</td>\n",
       "      <td>19</td>\n",
       "      <td>25.789282</td>\n",
       "    </tr>\n",
       "  </tbody>\n",
       "</table>\n",
       "<p>84942 rows × 6 columns</p>\n",
       "</div>"
      ],
      "text/plain": [
       "       id_student code_module code_presentation activity_type  type_sum_click  \\\n",
       "0            6516         AAA             2014J          html             783   \n",
       "1           24734         AAA             2014J          html             174   \n",
       "2           26192         AAA             2014J          html             937   \n",
       "3           28061         AAA             2014J          html             675   \n",
       "4           31600         AAA             2014J          html              96   \n",
       "...           ...         ...               ...           ...             ...   \n",
       "84937     2659042         BBB             2014B            ou              36   \n",
       "84938     2677541         BBB             2014B            ou              38   \n",
       "84939     2681783         BBB             2014B            ou              11   \n",
       "84940     2683697         BBB             2014B            ou               1   \n",
       "84941     2687378         BBB             2014B            ou              19   \n",
       "\n",
       "       type_mean_sum_click  \n",
       "0               478.868347  \n",
       "1               478.868347  \n",
       "2               478.868347  \n",
       "3               478.868347  \n",
       "4               478.868347  \n",
       "...                    ...  \n",
       "84937            25.789282  \n",
       "84938            25.789282  \n",
       "84939            25.789282  \n",
       "84940            25.789282  \n",
       "84941            25.789282  \n",
       "\n",
       "[84942 rows x 6 columns]"
      ]
     },
     "execution_count": 55,
     "metadata": {},
     "output_type": "execute_result"
    }
   ],
   "source": [
    "studentVleTypes = pd.merge(left = studentVleTypes, right = studentVleTypesMean, on=['activity_type', 'code_module', 'code_presentation'], how='inner')\n",
    "studentVleTypes"
   ]
  },
  {
   "cell_type": "markdown",
   "metadata": {},
   "source": [
    "## What role does gender play on the grades?\n"
   ]
  },
  {
   "cell_type": "markdown",
   "metadata": {},
   "source": [
    "We will now see if there are any differences between the genders within each score range."
   ]
  },
  {
   "cell_type": "markdown",
   "metadata": {},
   "source": [
    "### Failed"
   ]
  },
  {
   "cell_type": "markdown",
   "metadata": {},
   "source": [
    "#### Absolute numbers"
   ]
  },
  {
   "cell_type": "code",
   "execution_count": 56,
   "metadata": {},
   "outputs": [
    {
     "data": {
      "text/plain": [
       "<AxesSubplot:xlabel='gender'>"
      ]
     },
     "execution_count": 56,
     "metadata": {},
     "output_type": "execute_result"
    },
    {
     "data": {
      "image/png": "[encoded data removed]",
      "text/plain": [
       "<Figure size 640x480 with 1 Axes>"
      ]
     },
     "metadata": {},
     "output_type": "display_data"
    }
   ],
   "source": [
    "failedByGender = failed.groupby(['gender'])['id_student'].count()\n",
    "failedByGender.plot(kind='bar')"
   ]
  },
  {
   "cell_type": "markdown",
   "metadata": {},
   "source": [
    "In absolute numbers, less female students failed than male students: 233 female students vs 380 male students."
   ]
  },
  {
   "cell_type": "markdown",
   "metadata": {},
   "source": [
    "#### Percentage"
   ]
  },
  {
   "cell_type": "code",
   "execution_count": 57,
   "metadata": {},
   "outputs": [
    {
     "data": {
      "text/plain": [
       "13.314646110721796"
      ]
     },
     "execution_count": 57,
     "metadata": {},
     "output_type": "execute_result"
    }
   ],
   "source": [
    "failedByGender['M'] / studentsFinalExamsByGender['M'] * 100"
   ]
  },
  {
   "cell_type": "code",
   "execution_count": 58,
   "metadata": {},
   "outputs": [
    {
     "data": {
      "text/plain": [
       "15.461181154611811"
      ]
     },
     "execution_count": 58,
     "metadata": {},
     "output_type": "execute_result"
    }
   ],
   "source": [
    "failedByGender['F'] / studentsFinalExamsByGender['F'] * 100"
   ]
  },
  {
   "cell_type": "markdown",
   "metadata": {},
   "source": [
    "Procentually speaking, 13% of the male students failed, while 15% of the female students failed. While that's more female students than male, the difference is too small to state gender plays a role in failing an exam."
   ]
  },
  {
   "cell_type": "markdown",
   "metadata": {},
   "source": [
    "### Passed"
   ]
  },
  {
   "cell_type": "markdown",
   "metadata": {},
   "source": [
    "#### Absolute numbers"
   ]
  },
  {
   "cell_type": "code",
   "execution_count": 59,
   "metadata": {},
   "outputs": [
    {
     "data": {
      "text/plain": [
       "<AxesSubplot:xlabel='gender'>"
      ]
     },
     "execution_count": 59,
     "metadata": {},
     "output_type": "execute_result"
    },
    {
     "data": {
      "image/png": "[encoded data removed]",
      "text/plain": [
       "<Figure size 640x480 with 1 Axes>"
      ]
     },
     "metadata": {},
     "output_type": "display_data"
    }
   ],
   "source": [
    "passedByGender = passed.groupby(['gender'])['id_student'].count()\n",
    "passedByGender.plot(kind='bar')"
   ]
  },
  {
   "cell_type": "markdown",
   "metadata": {},
   "source": [
    "In absolute numbers, less female students passed than male students: 1049 female students vs 1934 male students."
   ]
  },
  {
   "cell_type": "markdown",
   "metadata": {},
   "source": [
    "#### Percentage"
   ]
  },
  {
   "cell_type": "code",
   "execution_count": 60,
   "metadata": {},
   "outputs": [
    {
     "data": {
      "text/plain": [
       "67.7645409950946"
      ]
     },
     "execution_count": 60,
     "metadata": {},
     "output_type": "execute_result"
    }
   ],
   "source": [
    "passedByGender['M'] / studentsFinalExamsByGender['M'] * 100"
   ]
  },
  {
   "cell_type": "code",
   "execution_count": 61,
   "metadata": {},
   "outputs": [
    {
     "data": {
      "text/plain": [
       "69.60849369608493"
      ]
     },
     "execution_count": 61,
     "metadata": {},
     "output_type": "execute_result"
    }
   ],
   "source": [
    "passedByGender['F'] / studentsFinalExamsByGender['F'] * 100"
   ]
  },
  {
   "cell_type": "markdown",
   "metadata": {},
   "source": [
    "Procentually speaking, 68% of the male students passed, compared to 70% of the female students. Again, there seems to be no difference in gender when it comes to just passing a final exam."
   ]
  },
  {
   "cell_type": "markdown",
   "metadata": {},
   "source": [
    "### Distinction"
   ]
  },
  {
   "cell_type": "markdown",
   "metadata": {},
   "source": [
    "#### Absolute numbers"
   ]
  },
  {
   "cell_type": "code",
   "execution_count": 62,
   "metadata": {},
   "outputs": [
    {
     "data": {
      "text/plain": [
       "<AxesSubplot:xlabel='gender'>"
      ]
     },
     "execution_count": 62,
     "metadata": {},
     "output_type": "execute_result"
    },
    {
     "data": {
      "image/png": "[encoded data removed]",
      "text/plain": [
       "<Figure size 640x480 with 1 Axes>"
      ]
     },
     "metadata": {},
     "output_type": "display_data"
    }
   ],
   "source": [
    "distinctionByGender = distinction.groupby(['gender'])['id_student'].count()\n",
    "distinctionByGender.plot(kind='bar')"
   ]
  },
  {
   "cell_type": "markdown",
   "metadata": {},
   "source": [
    "In absolute numbers, less female students barely passed than male students: 225 female students vs 540 male students."
   ]
  },
  {
   "cell_type": "markdown",
   "metadata": {},
   "source": [
    "#### Percentage"
   ]
  },
  {
   "cell_type": "code",
   "execution_count": 63,
   "metadata": {},
   "outputs": [
    {
     "data": {
      "text/plain": [
       "18.9208128941836"
      ]
     },
     "execution_count": 63,
     "metadata": {},
     "output_type": "execute_result"
    }
   ],
   "source": [
    "distinctionByGender['M'] / studentsFinalExamsByGender['M'] * 100"
   ]
  },
  {
   "cell_type": "code",
   "execution_count": 64,
   "metadata": {},
   "outputs": [
    {
     "data": {
      "text/plain": [
       "14.93032514930325"
      ]
     },
     "execution_count": 64,
     "metadata": {},
     "output_type": "execute_result"
    }
   ],
   "source": [
    "distinctionByGender['F'] / studentsFinalExamsByGender['F'] * 100"
   ]
  },
  {
   "cell_type": "markdown",
   "metadata": {},
   "source": [
    "Procentually speaking, 19% of the male students passed with exceptional grades, compared to 15% of the female students. Again, there seems to be no difference in gender when it comes to just passing a final exam."
   ]
  },
  {
   "cell_type": "markdown",
   "metadata": {},
   "source": [
    "### Conclusion"
   ]
  },
  {
   "cell_type": "markdown",
   "metadata": {},
   "source": [
    "There is no significant difference between the genders in any score range. We can safely conclude that gender has no influence on the final exam scores."
   ]
  },
  {
   "cell_type": "markdown",
   "metadata": {},
   "source": [
    "## How does usage of module material affect the grades of a student?"
   ]
  },
  {
   "cell_type": "markdown",
   "metadata": {},
   "source": [
    "Maybe how much a student interacted with the provided course material has an influence on their grade."
   ]
  },
  {
   "cell_type": "markdown",
   "metadata": {},
   "source": [
    "We will check the amount of interactions per module, per student in each range"
   ]
  },
  {
   "cell_type": "markdown",
   "metadata": {},
   "source": [
    "There are alot of columns, most of which are not relevant for this specific check. We will limit the dataframes to show only the relevant columns."
   ]
  },
  {
   "cell_type": "markdown",
   "metadata": {},
   "source": [
    "### Failed"
   ]
  },
  {
   "cell_type": "markdown",
   "metadata": {},
   "source": [
    "#### Total amount of clicks"
   ]
  },
  {
   "cell_type": "markdown",
   "metadata": {},
   "source": [
    "Let's first check the amount of clicks per failed student"
   ]
  },
  {
   "cell_type": "code",
   "execution_count": 65,
   "metadata": {},
   "outputs": [
    {
     "data": {
      "text/html": [
       "<div>\n",
       "<style scoped>\n",
       "    .dataframe tbody tr th:only-of-type {\n",
       "        vertical-align: middle;\n",
       "    }\n",
       "\n",
       "    .dataframe tbody tr th {\n",
       "        vertical-align: top;\n",
       "    }\n",
       "\n",
       "    .dataframe thead th {\n",
       "        text-align: right;\n",
       "    }\n",
       "</style>\n",
       "<table border=\"1\" class=\"dataframe\">\n",
       "  <thead>\n",
       "    <tr style=\"text-align: right;\">\n",
       "      <th></th>\n",
       "      <th>id_student</th>\n",
       "      <th>code_module</th>\n",
       "      <th>code_presentation</th>\n",
       "      <th>sum_click</th>\n",
       "      <th>mean_sum_click</th>\n",
       "    </tr>\n",
       "  </thead>\n",
       "  <tbody>\n",
       "    <tr>\n",
       "      <th>0</th>\n",
       "      <td>28046</td>\n",
       "      <td>DDD</td>\n",
       "      <td>2013J</td>\n",
       "      <td>661</td>\n",
       "      <td>962.591645</td>\n",
       "    </tr>\n",
       "    <tr>\n",
       "      <th>1</th>\n",
       "      <td>31173</td>\n",
       "      <td>DDD</td>\n",
       "      <td>2013J</td>\n",
       "      <td>858</td>\n",
       "      <td>962.591645</td>\n",
       "    </tr>\n",
       "    <tr>\n",
       "      <th>2</th>\n",
       "      <td>52014</td>\n",
       "      <td>DDD</td>\n",
       "      <td>2013B</td>\n",
       "      <td>349</td>\n",
       "      <td>962.591645</td>\n",
       "    </tr>\n",
       "    <tr>\n",
       "      <th>3</th>\n",
       "      <td>63015</td>\n",
       "      <td>DDD</td>\n",
       "      <td>2014J</td>\n",
       "      <td>694</td>\n",
       "      <td>962.591645</td>\n",
       "    </tr>\n",
       "    <tr>\n",
       "      <th>4</th>\n",
       "      <td>63566</td>\n",
       "      <td>DDD</td>\n",
       "      <td>2013J</td>\n",
       "      <td>1232</td>\n",
       "      <td>962.591645</td>\n",
       "    </tr>\n",
       "    <tr>\n",
       "      <th>...</th>\n",
       "      <td>...</td>\n",
       "      <td>...</td>\n",
       "      <td>...</td>\n",
       "      <td>...</td>\n",
       "      <td>...</td>\n",
       "    </tr>\n",
       "    <tr>\n",
       "      <th>607</th>\n",
       "      <td>2405934</td>\n",
       "      <td>CCC</td>\n",
       "      <td>2014J</td>\n",
       "      <td>3013</td>\n",
       "      <td>1175.533266</td>\n",
       "    </tr>\n",
       "    <tr>\n",
       "      <th>608</th>\n",
       "      <td>2458925</td>\n",
       "      <td>CCC</td>\n",
       "      <td>2014J</td>\n",
       "      <td>4433</td>\n",
       "      <td>1175.533266</td>\n",
       "    </tr>\n",
       "    <tr>\n",
       "      <th>609</th>\n",
       "      <td>2499779</td>\n",
       "      <td>CCC</td>\n",
       "      <td>2014J</td>\n",
       "      <td>1156</td>\n",
       "      <td>1175.533266</td>\n",
       "    </tr>\n",
       "    <tr>\n",
       "      <th>610</th>\n",
       "      <td>2552412</td>\n",
       "      <td>CCC</td>\n",
       "      <td>2014J</td>\n",
       "      <td>3768</td>\n",
       "      <td>1175.533266</td>\n",
       "    </tr>\n",
       "    <tr>\n",
       "      <th>611</th>\n",
       "      <td>2691861</td>\n",
       "      <td>CCC</td>\n",
       "      <td>2014J</td>\n",
       "      <td>964</td>\n",
       "      <td>1175.533266</td>\n",
       "    </tr>\n",
       "  </tbody>\n",
       "</table>\n",
       "<p>612 rows × 5 columns</p>\n",
       "</div>"
      ],
      "text/plain": [
       "     id_student code_module code_presentation  sum_click  mean_sum_click\n",
       "0         28046         DDD             2013J        661      962.591645\n",
       "1         31173         DDD             2013J        858      962.591645\n",
       "2         52014         DDD             2013B        349      962.591645\n",
       "3         63015         DDD             2014J        694      962.591645\n",
       "4         63566         DDD             2013J       1232      962.591645\n",
       "..          ...         ...               ...        ...             ...\n",
       "607     2405934         CCC             2014J       3013     1175.533266\n",
       "608     2458925         CCC             2014J       4433     1175.533266\n",
       "609     2499779         CCC             2014J       1156     1175.533266\n",
       "610     2552412         CCC             2014J       3768     1175.533266\n",
       "611     2691861         CCC             2014J        964     1175.533266\n",
       "\n",
       "[612 rows x 5 columns]"
      ]
     },
     "execution_count": 65,
     "metadata": {},
     "output_type": "execute_result"
    }
   ],
   "source": [
    "clicksFailed = pd.merge(left=studentClicks, right=failed, on=['code_module', 'code_presentation', 'id_student'], how='inner')\n",
    "clicksFailed = clicksFailed[['id_student', 'code_module', 'code_presentation', 'sum_click', 'mean_sum_click']].copy()\n",
    "clicksFailed"
   ]
  },
  {
   "cell_type": "markdown",
   "metadata": {},
   "source": [
    "We now have a list of failed students and the amount of interactions they had with the failed module's material, as well as an average of interactions for that module. We would like to know how many of these students interacted more than the average, and how many interacted less than the average."
   ]
  },
  {
   "cell_type": "markdown",
   "metadata": {},
   "source": [
    "#### Average or up amount of clicks"
   ]
  },
  {
   "cell_type": "markdown",
   "metadata": {},
   "source": [
    "First, let's see how many students had an amount of interactions equal to or above the average."
   ]
  },
  {
   "cell_type": "code",
   "execution_count": 66,
   "metadata": {},
   "outputs": [
    {
     "data": {
      "text/plain": [
       "258"
      ]
     },
     "execution_count": 66,
     "metadata": {},
     "output_type": "execute_result"
    }
   ],
   "source": [
    "clicksMoreFailed = clicksFailed.where((clicksFailed['sum_click'] >= clicksFailed['mean_sum_click']))\n",
    "clicksMoreFailed = clicksMoreFailed.dropna(how='all')\n",
    "clicksMoreFailed['id_student'].count()"
   ]
  },
  {
   "cell_type": "markdown",
   "metadata": {},
   "source": [
    "What percentage of the failed students is this?"
   ]
  },
  {
   "cell_type": "code",
   "execution_count": 67,
   "metadata": {},
   "outputs": [
    {
     "data": {
      "text/plain": [
       "42.15686274509804"
      ]
     },
     "execution_count": 67,
     "metadata": {},
     "output_type": "execute_result"
    }
   ],
   "source": [
    "clicksMoreFailed['id_student'].count() / clicksFailed['id_student'].count() * 100"
   ]
  },
  {
   "cell_type": "markdown",
   "metadata": {},
   "source": [
    "#### Below average amount of clicks"
   ]
  },
  {
   "cell_type": "markdown",
   "metadata": {},
   "source": [
    "Now let's see how many students had a below average amount of interactions"
   ]
  },
  {
   "cell_type": "code",
   "execution_count": 68,
   "metadata": {},
   "outputs": [
    {
     "data": {
      "text/plain": [
       "354"
      ]
     },
     "execution_count": 68,
     "metadata": {},
     "output_type": "execute_result"
    }
   ],
   "source": [
    "clicksLessFailed = clicksFailed.where((clicksFailed['sum_click'] < clicksFailed['mean_sum_click']))\n",
    "clicksLessFailed = clicksLessFailed.dropna(how='all')\n",
    "clicksLessFailed['id_student'].count()"
   ]
  },
  {
   "cell_type": "markdown",
   "metadata": {},
   "source": [
    "What percentage of the failed students is this?"
   ]
  },
  {
   "cell_type": "code",
   "execution_count": 69,
   "metadata": {},
   "outputs": [
    {
     "data": {
      "text/plain": [
       "57.84313725490197"
      ]
     },
     "execution_count": 69,
     "metadata": {},
     "output_type": "execute_result"
    }
   ],
   "source": [
    "clicksLessFailed['id_student'].count() / clicksFailed['id_student'].count() * 100"
   ]
  },
  {
   "cell_type": "markdown",
   "metadata": {},
   "source": [
    "#### Conclusion"
   ]
  },
  {
   "cell_type": "markdown",
   "metadata": {},
   "source": [
    "42% of the failed students interacted the average amount or more with the module material, compared to 58% of the failed students who interacted less."
   ]
  },
  {
   "cell_type": "markdown",
   "metadata": {},
   "source": [
    "### Passed"
   ]
  },
  {
   "cell_type": "markdown",
   "metadata": {},
   "source": [
    "#### Total amount of clicks"
   ]
  },
  {
   "cell_type": "markdown",
   "metadata": {},
   "source": [
    "Let's first check the amount of clicks per student who passed."
   ]
  },
  {
   "cell_type": "code",
   "execution_count": 70,
   "metadata": {},
   "outputs": [
    {
     "data": {
      "text/html": [
       "<div>\n",
       "<style scoped>\n",
       "    .dataframe tbody tr th:only-of-type {\n",
       "        vertical-align: middle;\n",
       "    }\n",
       "\n",
       "    .dataframe tbody tr th {\n",
       "        vertical-align: top;\n",
       "    }\n",
       "\n",
       "    .dataframe thead th {\n",
       "        text-align: right;\n",
       "    }\n",
       "</style>\n",
       "<table border=\"1\" class=\"dataframe\">\n",
       "  <thead>\n",
       "    <tr style=\"text-align: right;\">\n",
       "      <th></th>\n",
       "      <th>id_student</th>\n",
       "      <th>code_module</th>\n",
       "      <th>code_presentation</th>\n",
       "      <th>sum_click</th>\n",
       "      <th>mean_sum_click</th>\n",
       "    </tr>\n",
       "  </thead>\n",
       "  <tbody>\n",
       "    <tr>\n",
       "      <th>0</th>\n",
       "      <td>24213</td>\n",
       "      <td>DDD</td>\n",
       "      <td>2014B</td>\n",
       "      <td>1992</td>\n",
       "      <td>962.591645</td>\n",
       "    </tr>\n",
       "    <tr>\n",
       "      <th>1</th>\n",
       "      <td>29411</td>\n",
       "      <td>DDD</td>\n",
       "      <td>2013J</td>\n",
       "      <td>841</td>\n",
       "      <td>962.591645</td>\n",
       "    </tr>\n",
       "    <tr>\n",
       "      <th>2</th>\n",
       "      <td>33796</td>\n",
       "      <td>DDD</td>\n",
       "      <td>2014J</td>\n",
       "      <td>351</td>\n",
       "      <td>962.591645</td>\n",
       "    </tr>\n",
       "    <tr>\n",
       "      <th>3</th>\n",
       "      <td>33930</td>\n",
       "      <td>DDD</td>\n",
       "      <td>2013J</td>\n",
       "      <td>544</td>\n",
       "      <td>962.591645</td>\n",
       "    </tr>\n",
       "    <tr>\n",
       "      <th>4</th>\n",
       "      <td>40419</td>\n",
       "      <td>DDD</td>\n",
       "      <td>2013J</td>\n",
       "      <td>560</td>\n",
       "      <td>962.591645</td>\n",
       "    </tr>\n",
       "    <tr>\n",
       "      <th>...</th>\n",
       "      <td>...</td>\n",
       "      <td>...</td>\n",
       "      <td>...</td>\n",
       "      <td>...</td>\n",
       "      <td>...</td>\n",
       "    </tr>\n",
       "    <tr>\n",
       "      <th>2978</th>\n",
       "      <td>2622441</td>\n",
       "      <td>CCC</td>\n",
       "      <td>2014J</td>\n",
       "      <td>1017</td>\n",
       "      <td>1175.533266</td>\n",
       "    </tr>\n",
       "    <tr>\n",
       "      <th>2979</th>\n",
       "      <td>2639310</td>\n",
       "      <td>CCC</td>\n",
       "      <td>2014B</td>\n",
       "      <td>1923</td>\n",
       "      <td>1175.533266</td>\n",
       "    </tr>\n",
       "    <tr>\n",
       "      <th>2980</th>\n",
       "      <td>2641486</td>\n",
       "      <td>CCC</td>\n",
       "      <td>2014B</td>\n",
       "      <td>440</td>\n",
       "      <td>1175.533266</td>\n",
       "    </tr>\n",
       "    <tr>\n",
       "      <th>2981</th>\n",
       "      <td>2658314</td>\n",
       "      <td>CCC</td>\n",
       "      <td>2014J</td>\n",
       "      <td>2910</td>\n",
       "      <td>1175.533266</td>\n",
       "    </tr>\n",
       "    <tr>\n",
       "      <th>2982</th>\n",
       "      <td>2691267</td>\n",
       "      <td>CCC</td>\n",
       "      <td>2014J</td>\n",
       "      <td>2294</td>\n",
       "      <td>1175.533266</td>\n",
       "    </tr>\n",
       "  </tbody>\n",
       "</table>\n",
       "<p>2983 rows × 5 columns</p>\n",
       "</div>"
      ],
      "text/plain": [
       "      id_student code_module code_presentation  sum_click  mean_sum_click\n",
       "0          24213         DDD             2014B       1992      962.591645\n",
       "1          29411         DDD             2013J        841      962.591645\n",
       "2          33796         DDD             2014J        351      962.591645\n",
       "3          33930         DDD             2013J        544      962.591645\n",
       "4          40419         DDD             2013J        560      962.591645\n",
       "...          ...         ...               ...        ...             ...\n",
       "2978     2622441         CCC             2014J       1017     1175.533266\n",
       "2979     2639310         CCC             2014B       1923     1175.533266\n",
       "2980     2641486         CCC             2014B        440     1175.533266\n",
       "2981     2658314         CCC             2014J       2910     1175.533266\n",
       "2982     2691267         CCC             2014J       2294     1175.533266\n",
       "\n",
       "[2983 rows x 5 columns]"
      ]
     },
     "execution_count": 70,
     "metadata": {},
     "output_type": "execute_result"
    }
   ],
   "source": [
    "clicksPassed = pd.merge(left=studentClicks, right=passed, how='inner')\n",
    "clicksPassed = clicksPassed[['id_student', 'code_module', 'code_presentation', 'sum_click', 'mean_sum_click']].copy()\n",
    "clicksPassed"
   ]
  },
  {
   "cell_type": "markdown",
   "metadata": {},
   "source": [
    "We now have a list of students who passed, and the amount of interactions they had with the module's material, as well as an average of interactions for that module. We would like to know how many of these students interacted more than the average, and how many interacted less than the average."
   ]
  },
  {
   "cell_type": "markdown",
   "metadata": {},
   "source": [
    "#### Average or up amount of clicks"
   ]
  },
  {
   "cell_type": "markdown",
   "metadata": {},
   "source": [
    "First, let's see how many students had an amount of interactions equal to or above the average."
   ]
  },
  {
   "cell_type": "code",
   "execution_count": 71,
   "metadata": {},
   "outputs": [
    {
     "data": {
      "text/plain": [
       "1770"
      ]
     },
     "execution_count": 71,
     "metadata": {},
     "output_type": "execute_result"
    }
   ],
   "source": [
    "clicksMorePassed = clicksPassed.where((clicksPassed['sum_click'] >= clicksPassed['mean_sum_click']))\n",
    "clicksMorePassed = clicksMorePassed.dropna(how='all')\n",
    "clicksMorePassed['id_student'].count()"
   ]
  },
  {
   "cell_type": "markdown",
   "metadata": {},
   "source": [
    "What percentage of the students who passed is this?"
   ]
  },
  {
   "cell_type": "code",
   "execution_count": 72,
   "metadata": {},
   "outputs": [
    {
     "data": {
      "text/plain": [
       "59.33623868588669"
      ]
     },
     "execution_count": 72,
     "metadata": {},
     "output_type": "execute_result"
    }
   ],
   "source": [
    "clicksMorePassed['id_student'].count() / clicksPassed['id_student'].count() * 100"
   ]
  },
  {
   "cell_type": "markdown",
   "metadata": {},
   "source": [
    "#### Below average amount of clicks"
   ]
  },
  {
   "cell_type": "markdown",
   "metadata": {},
   "source": [
    "Now let's see how many students had a below average amount of interactions"
   ]
  },
  {
   "cell_type": "code",
   "execution_count": 73,
   "metadata": {},
   "outputs": [
    {
     "data": {
      "text/plain": [
       "1213"
      ]
     },
     "execution_count": 73,
     "metadata": {},
     "output_type": "execute_result"
    }
   ],
   "source": [
    "clicksLessPassed = clicksPassed.where((clicksPassed['sum_click'] < clicksPassed['mean_sum_click']))\n",
    "clicksLessPassed = clicksLessPassed.dropna(how='all')\n",
    "clicksLessPassed['id_student'].count()"
   ]
  },
  {
   "cell_type": "markdown",
   "metadata": {},
   "source": [
    "What percentage of the students who passed is this?"
   ]
  },
  {
   "cell_type": "code",
   "execution_count": 74,
   "metadata": {},
   "outputs": [
    {
     "data": {
      "text/plain": [
       "40.66376131411331"
      ]
     },
     "execution_count": 74,
     "metadata": {},
     "output_type": "execute_result"
    }
   ],
   "source": [
    "clicksLessPassed['id_student'].count() / clicksPassed['id_student'].count() * 100"
   ]
  },
  {
   "cell_type": "markdown",
   "metadata": {},
   "source": [
    "#### Conclusion"
   ]
  },
  {
   "cell_type": "markdown",
   "metadata": {},
   "source": [
    "59% of the students who passed interacted the average amount or more with the module material, compared to 41% of the students who passed who interacted less."
   ]
  },
  {
   "cell_type": "markdown",
   "metadata": {},
   "source": [
    "### Distinction"
   ]
  },
  {
   "cell_type": "markdown",
   "metadata": {},
   "source": [
    "#### Total amount of clicks"
   ]
  },
  {
   "cell_type": "markdown",
   "metadata": {},
   "source": [
    "Let's first check the amount of clicks per student who passed with distinction"
   ]
  },
  {
   "cell_type": "code",
   "execution_count": 75,
   "metadata": {},
   "outputs": [
    {
     "data": {
      "text/html": [
       "<div>\n",
       "<style scoped>\n",
       "    .dataframe tbody tr th:only-of-type {\n",
       "        vertical-align: middle;\n",
       "    }\n",
       "\n",
       "    .dataframe tbody tr th {\n",
       "        vertical-align: top;\n",
       "    }\n",
       "\n",
       "    .dataframe thead th {\n",
       "        text-align: right;\n",
       "    }\n",
       "</style>\n",
       "<table border=\"1\" class=\"dataframe\">\n",
       "  <thead>\n",
       "    <tr style=\"text-align: right;\">\n",
       "      <th></th>\n",
       "      <th>id_student</th>\n",
       "      <th>code_module</th>\n",
       "      <th>code_presentation</th>\n",
       "      <th>sum_click</th>\n",
       "      <th>mean_sum_click</th>\n",
       "    </tr>\n",
       "  </thead>\n",
       "  <tbody>\n",
       "    <tr>\n",
       "      <th>0</th>\n",
       "      <td>40184</td>\n",
       "      <td>DDD</td>\n",
       "      <td>2013J</td>\n",
       "      <td>1876</td>\n",
       "      <td>962.591645</td>\n",
       "    </tr>\n",
       "    <tr>\n",
       "      <th>1</th>\n",
       "      <td>50476</td>\n",
       "      <td>DDD</td>\n",
       "      <td>2014B</td>\n",
       "      <td>568</td>\n",
       "      <td>962.591645</td>\n",
       "    </tr>\n",
       "    <tr>\n",
       "      <th>2</th>\n",
       "      <td>67781</td>\n",
       "      <td>DDD</td>\n",
       "      <td>2014B</td>\n",
       "      <td>1771</td>\n",
       "      <td>962.591645</td>\n",
       "    </tr>\n",
       "    <tr>\n",
       "      <th>3</th>\n",
       "      <td>84576</td>\n",
       "      <td>DDD</td>\n",
       "      <td>2014B</td>\n",
       "      <td>2126</td>\n",
       "      <td>962.591645</td>\n",
       "    </tr>\n",
       "    <tr>\n",
       "      <th>4</th>\n",
       "      <td>103904</td>\n",
       "      <td>DDD</td>\n",
       "      <td>2013B</td>\n",
       "      <td>1579</td>\n",
       "      <td>962.591645</td>\n",
       "    </tr>\n",
       "    <tr>\n",
       "      <th>...</th>\n",
       "      <td>...</td>\n",
       "      <td>...</td>\n",
       "      <td>...</td>\n",
       "      <td>...</td>\n",
       "      <td>...</td>\n",
       "    </tr>\n",
       "    <tr>\n",
       "      <th>760</th>\n",
       "      <td>2631703</td>\n",
       "      <td>CCC</td>\n",
       "      <td>2014B</td>\n",
       "      <td>731</td>\n",
       "      <td>1175.533266</td>\n",
       "    </tr>\n",
       "    <tr>\n",
       "      <th>761</th>\n",
       "      <td>2647893</td>\n",
       "      <td>CCC</td>\n",
       "      <td>2014J</td>\n",
       "      <td>1067</td>\n",
       "      <td>1175.533266</td>\n",
       "    </tr>\n",
       "    <tr>\n",
       "      <th>762</th>\n",
       "      <td>2665399</td>\n",
       "      <td>CCC</td>\n",
       "      <td>2014B</td>\n",
       "      <td>2298</td>\n",
       "      <td>1175.533266</td>\n",
       "    </tr>\n",
       "    <tr>\n",
       "      <th>763</th>\n",
       "      <td>2668106</td>\n",
       "      <td>CCC</td>\n",
       "      <td>2014J</td>\n",
       "      <td>1714</td>\n",
       "      <td>1175.533266</td>\n",
       "    </tr>\n",
       "    <tr>\n",
       "      <th>764</th>\n",
       "      <td>2692327</td>\n",
       "      <td>CCC</td>\n",
       "      <td>2014B</td>\n",
       "      <td>2408</td>\n",
       "      <td>1175.533266</td>\n",
       "    </tr>\n",
       "  </tbody>\n",
       "</table>\n",
       "<p>765 rows × 5 columns</p>\n",
       "</div>"
      ],
      "text/plain": [
       "     id_student code_module code_presentation  sum_click  mean_sum_click\n",
       "0         40184         DDD             2013J       1876      962.591645\n",
       "1         50476         DDD             2014B        568      962.591645\n",
       "2         67781         DDD             2014B       1771      962.591645\n",
       "3         84576         DDD             2014B       2126      962.591645\n",
       "4        103904         DDD             2013B       1579      962.591645\n",
       "..          ...         ...               ...        ...             ...\n",
       "760     2631703         CCC             2014B        731     1175.533266\n",
       "761     2647893         CCC             2014J       1067     1175.533266\n",
       "762     2665399         CCC             2014B       2298     1175.533266\n",
       "763     2668106         CCC             2014J       1714     1175.533266\n",
       "764     2692327         CCC             2014B       2408     1175.533266\n",
       "\n",
       "[765 rows x 5 columns]"
      ]
     },
     "execution_count": 75,
     "metadata": {},
     "output_type": "execute_result"
    }
   ],
   "source": [
    "clicksDistinction = pd.merge(left=studentClicks, right=distinction, how='inner')\n",
    "clicksDistinction = clicksDistinction[['id_student', 'code_module', 'code_presentation', 'sum_click', 'mean_sum_click']].copy()\n",
    "clicksDistinction"
   ]
  },
  {
   "cell_type": "markdown",
   "metadata": {},
   "source": [
    "We now have a list of students who passed with distinction, and the amount of interactions they had with the module's material, as well as an average of interactions for that module. We would like to know how many of these students interacted more than the average, and how many interacted less than the average."
   ]
  },
  {
   "cell_type": "markdown",
   "metadata": {},
   "source": [
    "#### Average or up amount of clicks"
   ]
  },
  {
   "cell_type": "markdown",
   "metadata": {},
   "source": [
    "First, let's see how many students had an amount of interactions equal to or above the average."
   ]
  },
  {
   "cell_type": "code",
   "execution_count": 76,
   "metadata": {},
   "outputs": [
    {
     "data": {
      "text/plain": [
       "590"
      ]
     },
     "execution_count": 76,
     "metadata": {},
     "output_type": "execute_result"
    }
   ],
   "source": [
    "clicksMoreDistinction = clicksDistinction.where((clicksDistinction['sum_click'] >= clicksDistinction['mean_sum_click']))\n",
    "clicksMoreDistinction = clicksMoreDistinction.dropna(how='all')\n",
    "clicksMoreDistinction['id_student'].count()"
   ]
  },
  {
   "cell_type": "markdown",
   "metadata": {},
   "source": [
    "What percentage of the students who passed with distinction is this?"
   ]
  },
  {
   "cell_type": "code",
   "execution_count": 77,
   "metadata": {},
   "outputs": [
    {
     "data": {
      "text/plain": [
       "77.12418300653596"
      ]
     },
     "execution_count": 77,
     "metadata": {},
     "output_type": "execute_result"
    }
   ],
   "source": [
    "clicksMoreDistinction['id_student'].count() / clicksDistinction['id_student'].count() * 100"
   ]
  },
  {
   "cell_type": "markdown",
   "metadata": {},
   "source": [
    "#### Below average amount of clicks"
   ]
  },
  {
   "cell_type": "markdown",
   "metadata": {},
   "source": [
    "Now let's see how many students had a below average amount of interactions"
   ]
  },
  {
   "cell_type": "code",
   "execution_count": 78,
   "metadata": {},
   "outputs": [
    {
     "data": {
      "text/plain": [
       "175"
      ]
     },
     "execution_count": 78,
     "metadata": {},
     "output_type": "execute_result"
    }
   ],
   "source": [
    "clicksLessDistinction = clicksDistinction.where((clicksDistinction['sum_click'] < clicksDistinction['mean_sum_click']))\n",
    "clicksLessDistinction = clicksLessDistinction.dropna(how='all')\n",
    "clicksLessDistinction['id_student'].count()"
   ]
  },
  {
   "cell_type": "markdown",
   "metadata": {},
   "source": [
    "What percentage of the students who passed with distinction is this?"
   ]
  },
  {
   "cell_type": "code",
   "execution_count": 79,
   "metadata": {},
   "outputs": [
    {
     "data": {
      "text/plain": [
       "22.875816993464053"
      ]
     },
     "execution_count": 79,
     "metadata": {},
     "output_type": "execute_result"
    }
   ],
   "source": [
    "clicksLessDistinction['id_student'].count() / clicksDistinction['id_student'].count() * 100"
   ]
  },
  {
   "cell_type": "markdown",
   "metadata": {},
   "source": [
    "#### Conclusion"
   ]
  },
  {
   "cell_type": "markdown",
   "metadata": {},
   "source": [
    "77% of the students who passed with distinction interacted the average amount or more with the module material, compared to 23% of the students who passed with distinction who interacted less. The difference is overwhelming here."
   ]
  },
  {
   "cell_type": "markdown",
   "metadata": {},
   "source": [
    "### Conclusion"
   ]
  },
  {
   "cell_type": "markdown",
   "metadata": {},
   "source": [
    "It seems the better the score, the more a student has interacted with the module material. This gets more and more visible as the score goes up. As such, there seems a clear corelation between module material interaction and the score. The more a student interacts with the provided material, the more likely they are to get a high score."
   ]
  },
  {
   "cell_type": "markdown",
   "metadata": {},
   "source": [
    "## Does the age play a role on the grades?"
   ]
  },
  {
   "cell_type": "markdown",
   "metadata": {},
   "source": [
    "Another big difference between students, aside from gender and amount of interactions with course material, is their age. Let's see if there's a corelation between age and grade."
   ]
  },
  {
   "cell_type": "markdown",
   "metadata": {},
   "source": [
    "### Failed"
   ]
  },
  {
   "cell_type": "markdown",
   "metadata": {},
   "source": [
    "As usual, we start with the students who failed. What age are they in?"
   ]
  },
  {
   "cell_type": "markdown",
   "metadata": {},
   "source": [
    "We have all of this data in a dataframe already. All we need to do, is group and count."
   ]
  },
  {
   "cell_type": "code",
   "execution_count": 80,
   "metadata": {},
   "outputs": [
    {
     "data": {
      "text/plain": [
       "<AxesSubplot:xlabel='age_band'>"
      ]
     },
     "execution_count": 80,
     "metadata": {},
     "output_type": "execute_result"
    },
    {
     "data": {
      "image/png": "[encoded data removed]",
      "text/plain": [
       "<Figure size 640x480 with 1 Axes>"
      ]
     },
     "metadata": {},
     "output_type": "display_data"
    }
   ],
   "source": [
    "failedByAge = failed.groupby(['age_band'])['id_student'].count()\n",
    "failedByAge.plot(kind='bar')"
   ]
  },
  {
   "cell_type": "markdown",
   "metadata": {},
   "source": [
    "In absolute numbers, the students under 35 fail the most. That is not surprising, considering most students are under 35 anyways. As usual, the percentage will tell us more."
   ]
  },
  {
   "cell_type": "code",
   "execution_count": 81,
   "metadata": {},
   "outputs": [
    {
     "data": {
      "text/plain": [
       "14.871794871794872"
      ]
     },
     "execution_count": 81,
     "metadata": {},
     "output_type": "execute_result"
    }
   ],
   "source": [
    "failedByAge['0-35'] / studentsFinalExamsByAge['0-35'] * 100"
   ]
  },
  {
   "cell_type": "code",
   "execution_count": 82,
   "metadata": {},
   "outputs": [
    {
     "data": {
      "text/plain": [
       "12.351945854483926"
      ]
     },
     "execution_count": 82,
     "metadata": {},
     "output_type": "execute_result"
    }
   ],
   "source": [
    "failedByAge['35-55'] / studentsFinalExamsByAge['35-55'] * 100"
   ]
  },
  {
   "cell_type": "code",
   "execution_count": 83,
   "metadata": {},
   "outputs": [
    {
     "data": {
      "text/plain": [
       "5.084745762711865"
      ]
     },
     "execution_count": 83,
     "metadata": {},
     "output_type": "execute_result"
    }
   ],
   "source": [
    "failedByAge['55<='] / studentsFinalExamsByAge['55<='] * 100"
   ]
  },
  {
   "cell_type": "markdown",
   "metadata": {},
   "source": [
    "15% of the students under 35 failed their modules. 12% of the students between 35 and 55 did, and 5% of the students above 55 failed. One would say the older one is, the more likely they are to not fail a module. However, the population of students above 55 is so small, it may equal out closer to the other two if there were more students in this age range. Let's see what the other score ranges say before we make any conclusions."
   ]
  },
  {
   "cell_type": "markdown",
   "metadata": {},
   "source": [
    "### Passed"
   ]
  },
  {
   "cell_type": "markdown",
   "metadata": {},
   "source": [
    "Now for the students who comfortably passed. Let's see if the age range there is similar as with the fails and barely passed students."
   ]
  },
  {
   "cell_type": "markdown",
   "metadata": {},
   "source": [
    "As before, we first group by age."
   ]
  },
  {
   "cell_type": "code",
   "execution_count": 84,
   "metadata": {},
   "outputs": [
    {
     "data": {
      "text/plain": [
       "<AxesSubplot:xlabel='age_band'>"
      ]
     },
     "execution_count": 84,
     "metadata": {},
     "output_type": "execute_result"
    },
    {
     "data": {
      "image/png": "[encoded data removed]",
      "text/plain": [
       "<Figure size 640x480 with 1 Axes>"
      ]
     },
     "metadata": {},
     "output_type": "display_data"
    }
   ],
   "source": [
    "passedByAge = passed.groupby(['age_band'])['id_student'].count()\n",
    "passedByAge.plot(kind='bar')"
   ]
  },
  {
   "cell_type": "markdown",
   "metadata": {},
   "source": [
    "Again, it's the procentual values that tell us more, so we'll calculate them once again."
   ]
  },
  {
   "cell_type": "code",
   "execution_count": 85,
   "metadata": {},
   "outputs": [
    {
     "data": {
      "text/plain": [
       "69.42307692307692"
      ]
     },
     "execution_count": 85,
     "metadata": {},
     "output_type": "execute_result"
    }
   ],
   "source": [
    "passedByAge['0-35'] / studentsFinalExamsByAge['0-35'] * 100"
   ]
  },
  {
   "cell_type": "code",
   "execution_count": 86,
   "metadata": {},
   "outputs": [
    {
     "data": {
      "text/plain": [
       "66.32825719120136"
      ]
     },
     "execution_count": 86,
     "metadata": {},
     "output_type": "execute_result"
    }
   ],
   "source": [
    "passedByAge['35-55'] / studentsFinalExamsByAge['35-55'] * 100"
   ]
  },
  {
   "cell_type": "code",
   "execution_count": 87,
   "metadata": {},
   "outputs": [
    {
     "data": {
      "text/plain": [
       "55.932203389830505"
      ]
     },
     "execution_count": 87,
     "metadata": {},
     "output_type": "execute_result"
    }
   ],
   "source": [
    "passedByAge['55<='] / studentsFinalExamsByAge['55<='] * 100"
   ]
  },
  {
   "cell_type": "markdown",
   "metadata": {},
   "source": [
    "69% of the young students passed. 66% of the students between 35 and 55 did as well, and with 56% of the students older than 55 did, they catch up noticably. Here, we see a big difference."
   ]
  },
  {
   "cell_type": "markdown",
   "metadata": {},
   "source": [
    "### Distinction"
   ]
  },
  {
   "cell_type": "markdown",
   "metadata": {},
   "source": [
    "One more time, we divide by age group."
   ]
  },
  {
   "cell_type": "code",
   "execution_count": 88,
   "metadata": {},
   "outputs": [
    {
     "data": {
      "text/plain": [
       "<AxesSubplot:xlabel='age_band'>"
      ]
     },
     "execution_count": 88,
     "metadata": {},
     "output_type": "execute_result"
    },
    {
     "data": {
      "image/png": "[encoded data removed]",
      "text/plain": [
       "<Figure size 640x480 with 1 Axes>"
      ]
     },
     "metadata": {},
     "output_type": "display_data"
    }
   ],
   "source": [
    "distinctionByAge = distinction.groupby(['age_band'])['id_student'].count()\n",
    "distinctionByAge.plot(kind='bar')"
   ]
  },
  {
   "cell_type": "markdown",
   "metadata": {},
   "source": [
    "The percentages will tell us more again."
   ]
  },
  {
   "cell_type": "code",
   "execution_count": 89,
   "metadata": {},
   "outputs": [
    {
     "data": {
      "text/plain": [
       "15.705128205128204"
      ]
     },
     "execution_count": 89,
     "metadata": {},
     "output_type": "execute_result"
    }
   ],
   "source": [
    "distinctionByAge['0-35'] / studentsFinalExamsByAge['0-35'] * 100"
   ]
  },
  {
   "cell_type": "code",
   "execution_count": 90,
   "metadata": {},
   "outputs": [
    {
     "data": {
      "text/plain": [
       "21.31979695431472"
      ]
     },
     "execution_count": 90,
     "metadata": {},
     "output_type": "execute_result"
    }
   ],
   "source": [
    "distinctionByAge['35-55'] / studentsFinalExamsByAge['35-55'] * 100"
   ]
  },
  {
   "cell_type": "code",
   "execution_count": 91,
   "metadata": {},
   "outputs": [
    {
     "data": {
      "text/plain": [
       "38.983050847457626"
      ]
     },
     "execution_count": 91,
     "metadata": {},
     "output_type": "execute_result"
    }
   ],
   "source": [
    "distinctionByAge['55<='] / studentsFinalExamsByAge['55<='] * 100"
   ]
  },
  {
   "cell_type": "markdown",
   "metadata": {},
   "source": [
    "16% of the students younger than 35 pass with distinction. 21% of the students between 35 and 55 do so, and a whopping 39% of students older than 55 pass with glowing grades. Let's put all these findings together and see if any conclusions can be made."
   ]
  },
  {
   "cell_type": "markdown",
   "metadata": {},
   "source": [
    "### Conclusion"
   ]
  },
  {
   "cell_type": "markdown",
   "metadata": {},
   "source": [
    "* Age 0 - 35\n",
    "    * Failed: 15%\n",
    "    * Passed: 69%\n",
    "    * Distinction: 16%\n",
    "* Age 35 - 55\n",
    "    * Failed: 12%\n",
    "    * Passed: 66%\n",
    "    * Distinction: 21%\n",
    "* Age 55<=\n",
    "    * Failed: 5%\n",
    "    * Passed: 56%\n",
    "    * Distinction: 39%"
   ]
  },
  {
   "cell_type": "markdown",
   "metadata": {},
   "source": [
    "If we look at the percentages per age group, it would seem age has an influence on a student's grades. The older a student is, the higher their grades. We do need to be careful with this conclusion, considering the small amount of students in the highest age bracket compared to the lowest age bracket."
   ]
  },
  {
   "cell_type": "markdown",
   "metadata": {},
   "source": [
    "## Does module material type play a role on the grades?"
   ]
  },
  {
   "cell_type": "markdown",
   "metadata": {},
   "source": [
    "### Failed"
   ]
  },
  {
   "cell_type": "markdown",
   "metadata": {},
   "source": [
    "#### Total amount of clicks"
   ]
  },
  {
   "cell_type": "markdown",
   "metadata": {},
   "source": [
    "Let's first check the amount of clicks per failed student"
   ]
  },
  {
   "cell_type": "code",
   "execution_count": 92,
   "metadata": {},
   "outputs": [
    {
     "data": {
      "text/html": [
       "<div>\n",
       "<style scoped>\n",
       "    .dataframe tbody tr th:only-of-type {\n",
       "        vertical-align: middle;\n",
       "    }\n",
       "\n",
       "    .dataframe tbody tr th {\n",
       "        vertical-align: top;\n",
       "    }\n",
       "\n",
       "    .dataframe thead th {\n",
       "        text-align: right;\n",
       "    }\n",
       "</style>\n",
       "<table border=\"1\" class=\"dataframe\">\n",
       "  <thead>\n",
       "    <tr style=\"text-align: right;\">\n",
       "      <th></th>\n",
       "      <th>activity_type</th>\n",
       "      <th>id_student</th>\n",
       "      <th>code_module</th>\n",
       "      <th>code_presentation</th>\n",
       "      <th>type_sum_click</th>\n",
       "      <th>type_mean_sum_click</th>\n",
       "    </tr>\n",
       "  </thead>\n",
       "  <tbody>\n",
       "    <tr>\n",
       "      <th>0</th>\n",
       "      <td>html</td>\n",
       "      <td>28046</td>\n",
       "      <td>DDD</td>\n",
       "      <td>2013J</td>\n",
       "      <td>352</td>\n",
       "      <td>470.548953</td>\n",
       "    </tr>\n",
       "    <tr>\n",
       "      <th>1</th>\n",
       "      <td>html</td>\n",
       "      <td>31173</td>\n",
       "      <td>DDD</td>\n",
       "      <td>2013J</td>\n",
       "      <td>301</td>\n",
       "      <td>470.548953</td>\n",
       "    </tr>\n",
       "    <tr>\n",
       "      <th>2</th>\n",
       "      <td>html</td>\n",
       "      <td>52014</td>\n",
       "      <td>DDD</td>\n",
       "      <td>2013B</td>\n",
       "      <td>136</td>\n",
       "      <td>578.055281</td>\n",
       "    </tr>\n",
       "    <tr>\n",
       "      <th>3</th>\n",
       "      <td>html</td>\n",
       "      <td>63015</td>\n",
       "      <td>DDD</td>\n",
       "      <td>2014J</td>\n",
       "      <td>360</td>\n",
       "      <td>362.210814</td>\n",
       "    </tr>\n",
       "    <tr>\n",
       "      <th>4</th>\n",
       "      <td>html</td>\n",
       "      <td>63566</td>\n",
       "      <td>DDD</td>\n",
       "      <td>2013J</td>\n",
       "      <td>767</td>\n",
       "      <td>470.548953</td>\n",
       "    </tr>\n",
       "    <tr>\n",
       "      <th>...</th>\n",
       "      <td>...</td>\n",
       "      <td>...</td>\n",
       "      <td>...</td>\n",
       "      <td>...</td>\n",
       "      <td>...</td>\n",
       "      <td>...</td>\n",
       "    </tr>\n",
       "    <tr>\n",
       "      <th>1811</th>\n",
       "      <td>ou</td>\n",
       "      <td>2615956</td>\n",
       "      <td>DDD</td>\n",
       "      <td>2014J</td>\n",
       "      <td>189</td>\n",
       "      <td>130.428302</td>\n",
       "    </tr>\n",
       "    <tr>\n",
       "      <th>1812</th>\n",
       "      <td>ou</td>\n",
       "      <td>2646737</td>\n",
       "      <td>DDD</td>\n",
       "      <td>2014J</td>\n",
       "      <td>107</td>\n",
       "      <td>130.428302</td>\n",
       "    </tr>\n",
       "    <tr>\n",
       "      <th>1813</th>\n",
       "      <td>ou</td>\n",
       "      <td>2655683</td>\n",
       "      <td>DDD</td>\n",
       "      <td>2013B</td>\n",
       "      <td>258</td>\n",
       "      <td>226.741026</td>\n",
       "    </tr>\n",
       "    <tr>\n",
       "      <th>1814</th>\n",
       "      <td>ou</td>\n",
       "      <td>2691861</td>\n",
       "      <td>CCC</td>\n",
       "      <td>2014J</td>\n",
       "      <td>2</td>\n",
       "      <td>160.037898</td>\n",
       "    </tr>\n",
       "    <tr>\n",
       "      <th>1815</th>\n",
       "      <td>ou</td>\n",
       "      <td>2698251</td>\n",
       "      <td>DDD</td>\n",
       "      <td>2014B</td>\n",
       "      <td>447</td>\n",
       "      <td>185.096981</td>\n",
       "    </tr>\n",
       "  </tbody>\n",
       "</table>\n",
       "<p>1816 rows × 6 columns</p>\n",
       "</div>"
      ],
      "text/plain": [
       "     activity_type  id_student code_module code_presentation  type_sum_click  \\\n",
       "0             html       28046         DDD             2013J             352   \n",
       "1             html       31173         DDD             2013J             301   \n",
       "2             html       52014         DDD             2013B             136   \n",
       "3             html       63015         DDD             2014J             360   \n",
       "4             html       63566         DDD             2013J             767   \n",
       "...            ...         ...         ...               ...             ...   \n",
       "1811            ou     2615956         DDD             2014J             189   \n",
       "1812            ou     2646737         DDD             2014J             107   \n",
       "1813            ou     2655683         DDD             2013B             258   \n",
       "1814            ou     2691861         CCC             2014J               2   \n",
       "1815            ou     2698251         DDD             2014B             447   \n",
       "\n",
       "      type_mean_sum_click  \n",
       "0              470.548953  \n",
       "1              470.548953  \n",
       "2              578.055281  \n",
       "3              362.210814  \n",
       "4              470.548953  \n",
       "...                   ...  \n",
       "1811           130.428302  \n",
       "1812           130.428302  \n",
       "1813           226.741026  \n",
       "1814           160.037898  \n",
       "1815           185.096981  \n",
       "\n",
       "[1816 rows x 6 columns]"
      ]
     },
     "execution_count": 92,
     "metadata": {},
     "output_type": "execute_result"
    }
   ],
   "source": [
    "clicksTypesFailed = pd.merge(left=studentVleTypes, right=failed, how='inner')\n",
    "clicksTypesFailed = clicksTypesFailed[['id_student', 'code_module', 'code_presentation', 'activity_type', 'type_sum_click', 'type_mean_sum_click']].copy()\n",
    "clicksTypesFailed = clicksTypesFailed.groupby(['activity_type', 'id_student', 'code_module', 'code_presentation', 'type_sum_click', 'type_mean_sum_click']).count().reset_index()\n",
    "clicksTypesFailed"
   ]
  },
  {
   "cell_type": "markdown",
   "metadata": {},
   "source": [
    "We now have a list of failed students and the amount of interactions they had with the failed module's material type per module and presentation, as well as an average of interactions for that type. This will be used for filtering out the more and less interactions."
   ]
  },
  {
   "cell_type": "markdown",
   "metadata": {},
   "source": [
    "Since we want to know percentages, we'll  also need the total amount of students who failed, grouped by the type of material"
   ]
  },
  {
   "cell_type": "code",
   "execution_count": 93,
   "metadata": {},
   "outputs": [
    {
     "data": {
      "text/plain": [
       "activity_type\n",
       "html    612\n",
       "misc    612\n",
       "ou      592\n",
       "Name: id_student, dtype: int64"
      ]
     },
     "execution_count": 93,
     "metadata": {},
     "output_type": "execute_result"
    }
   ],
   "source": [
    "clicksTypesFailedCount = clicksTypesFailed.groupby(['activity_type'])['id_student'].count()\n",
    "clicksTypesFailedCount"
   ]
  },
  {
   "cell_type": "markdown",
   "metadata": {},
   "source": [
    "The 612 for HTML and 612 for MISC seem slightly suspicious. Let's compare this to the total number of students who failed, to see if this is correct:"
   ]
  },
  {
   "cell_type": "code",
   "execution_count": 94,
   "metadata": {},
   "outputs": [
    {
     "data": {
      "text/plain": [
       "True"
      ]
     },
     "execution_count": 94,
     "metadata": {},
     "output_type": "execute_result"
    }
   ],
   "source": [
    "clicksTypesFailedCount['html'] + clicksTypesFailedCount['misc'] + clicksTypesFailedCount['ou'] == clicksTypesFailed['id_student'].count()"
   ]
  },
  {
   "cell_type": "markdown",
   "metadata": {},
   "source": [
    "This is the same amount of students, so nothing suspicious going on here."
   ]
  },
  {
   "cell_type": "markdown",
   "metadata": {},
   "source": [
    "We would like to know how many of these students interacted more than the average, and how many interacted less than the average."
   ]
  },
  {
   "cell_type": "markdown",
   "metadata": {},
   "source": [
    "#### Average or up amount of clicks"
   ]
  },
  {
   "cell_type": "markdown",
   "metadata": {},
   "source": [
    "First, let's see how many students had an amount of interactions equal to or above the average."
   ]
  },
  {
   "cell_type": "code",
   "execution_count": 95,
   "metadata": {},
   "outputs": [
    {
     "data": {
      "text/plain": [
       "activity_type\n",
       "html    275\n",
       "misc    206\n",
       "ou      314\n",
       "Name: id_student, dtype: int64"
      ]
     },
     "execution_count": 95,
     "metadata": {},
     "output_type": "execute_result"
    }
   ],
   "source": [
    "clicksTypesMoreFailed = clicksTypesFailed.where((clicksTypesFailed['type_sum_click'] >= clicksTypesFailed['type_mean_sum_click']))\n",
    "clicksTypesMoreFailed = clicksTypesMoreFailed.dropna(how='all')\n",
    "clicksTypesMoreFailed = clicksTypesMoreFailed.groupby(['activity_type'])['id_student'].count()\n",
    "clicksTypesMoreFailed"
   ]
  },
  {
   "cell_type": "markdown",
   "metadata": {},
   "source": [
    "What percentage of the failed students is this?"
   ]
  },
  {
   "cell_type": "code",
   "execution_count": 96,
   "metadata": {},
   "outputs": [
    {
     "data": {
      "text/plain": [
       "44.93464052287582"
      ]
     },
     "execution_count": 96,
     "metadata": {},
     "output_type": "execute_result"
    }
   ],
   "source": [
    "clicksTypesMoreFailed['html'] / clicksTypesFailedCount['html'] * 100"
   ]
  },
  {
   "cell_type": "code",
   "execution_count": 97,
   "metadata": {},
   "outputs": [
    {
     "data": {
      "text/plain": [
       "33.66013071895425"
      ]
     },
     "execution_count": 97,
     "metadata": {},
     "output_type": "execute_result"
    }
   ],
   "source": [
    "clicksTypesMoreFailed['misc'] / clicksTypesFailedCount['misc'] * 100"
   ]
  },
  {
   "cell_type": "code",
   "execution_count": 98,
   "metadata": {},
   "outputs": [
    {
     "data": {
      "text/plain": [
       "53.04054054054054"
      ]
     },
     "execution_count": 98,
     "metadata": {},
     "output_type": "execute_result"
    }
   ],
   "source": [
    "clicksTypesMoreFailed['ou'] / clicksTypesFailedCount['ou'] * 100"
   ]
  },
  {
   "cell_type": "markdown",
   "metadata": {},
   "source": [
    "#### Below average amount of clicks"
   ]
  },
  {
   "cell_type": "markdown",
   "metadata": {},
   "source": [
    "Now let's see how many students had a below average amount of interactions"
   ]
  },
  {
   "cell_type": "code",
   "execution_count": 99,
   "metadata": {},
   "outputs": [
    {
     "data": {
      "text/plain": [
       "activity_type\n",
       "html    337\n",
       "misc    406\n",
       "ou      278\n",
       "Name: id_student, dtype: int64"
      ]
     },
     "execution_count": 99,
     "metadata": {},
     "output_type": "execute_result"
    }
   ],
   "source": [
    "clicksTypesLessFailed = clicksTypesFailed.where((clicksTypesFailed['type_sum_click'] < clicksTypesFailed['type_mean_sum_click']))\n",
    "clicksTypesLessFailed = clicksTypesLessFailed.dropna(how='all')\n",
    "clicksTypesLessFailed = clicksTypesLessFailed.groupby(['activity_type'])['id_student'].count()\n",
    "clicksTypesLessFailed"
   ]
  },
  {
   "cell_type": "markdown",
   "metadata": {},
   "source": [
    "What percentage of the failed students is this?"
   ]
  },
  {
   "cell_type": "code",
   "execution_count": 100,
   "metadata": {},
   "outputs": [
    {
     "data": {
      "text/plain": [
       "55.06535947712419"
      ]
     },
     "execution_count": 100,
     "metadata": {},
     "output_type": "execute_result"
    }
   ],
   "source": [
    "clicksTypesLessFailed['html'] / clicksTypesFailedCount['html'] * 100"
   ]
  },
  {
   "cell_type": "code",
   "execution_count": 101,
   "metadata": {},
   "outputs": [
    {
     "data": {
      "text/plain": [
       "66.33986928104575"
      ]
     },
     "execution_count": 101,
     "metadata": {},
     "output_type": "execute_result"
    }
   ],
   "source": [
    "clicksTypesLessFailed['misc'] / clicksTypesFailedCount['misc'] * 100"
   ]
  },
  {
   "cell_type": "code",
   "execution_count": 102,
   "metadata": {},
   "outputs": [
    {
     "data": {
      "text/plain": [
       "46.95945945945946"
      ]
     },
     "execution_count": 102,
     "metadata": {},
     "output_type": "execute_result"
    }
   ],
   "source": [
    "clicksTypesLessFailed['ou'] / clicksTypesFailedCount['ou'] * 100"
   ]
  },
  {
   "cell_type": "markdown",
   "metadata": {},
   "source": [
    "#### Conclusion"
   ]
  },
  {
   "cell_type": "markdown",
   "metadata": {},
   "source": [
    "* HTML\n",
    "\t* More: 45%\n",
    "\t* Less: 55%\t\n",
    "* MISC\n",
    "\t* More: 34%\n",
    "\t* Less: 66%\n",
    "* OU\n",
    "\t* More: 53%\n",
    "\t* Less: 47%"
   ]
  },
  {
   "cell_type": "markdown",
   "metadata": {},
   "source": [
    "For both HTML and OU, the percentages of students who failed and interacted more than average is in the same ballpark as the percentages of students who failed and interacted less than average."
   ]
  },
  {
   "cell_type": "markdown",
   "metadata": {},
   "source": [
    "For MISC, there's a significant amount of students who interacted less with this material."
   ]
  },
  {
   "cell_type": "markdown",
   "metadata": {},
   "source": [
    "### Passed"
   ]
  },
  {
   "cell_type": "markdown",
   "metadata": {},
   "source": [
    "#### Total amount of clicks"
   ]
  },
  {
   "cell_type": "code",
   "execution_count": 103,
   "metadata": {},
   "outputs": [
    {
     "data": {
      "text/html": [
       "<div>\n",
       "<style scoped>\n",
       "    .dataframe tbody tr th:only-of-type {\n",
       "        vertical-align: middle;\n",
       "    }\n",
       "\n",
       "    .dataframe tbody tr th {\n",
       "        vertical-align: top;\n",
       "    }\n",
       "\n",
       "    .dataframe thead th {\n",
       "        text-align: right;\n",
       "    }\n",
       "</style>\n",
       "<table border=\"1\" class=\"dataframe\">\n",
       "  <thead>\n",
       "    <tr style=\"text-align: right;\">\n",
       "      <th></th>\n",
       "      <th>activity_type</th>\n",
       "      <th>id_student</th>\n",
       "      <th>code_module</th>\n",
       "      <th>code_presentation</th>\n",
       "      <th>type_sum_click</th>\n",
       "      <th>type_mean_sum_click</th>\n",
       "    </tr>\n",
       "  </thead>\n",
       "  <tbody>\n",
       "    <tr>\n",
       "      <th>0</th>\n",
       "      <td>html</td>\n",
       "      <td>23698</td>\n",
       "      <td>CCC</td>\n",
       "      <td>2014J</td>\n",
       "      <td>225</td>\n",
       "      <td>282.634072</td>\n",
       "    </tr>\n",
       "    <tr>\n",
       "      <th>1</th>\n",
       "      <td>html</td>\n",
       "      <td>24213</td>\n",
       "      <td>DDD</td>\n",
       "      <td>2014B</td>\n",
       "      <td>778</td>\n",
       "      <td>403.611659</td>\n",
       "    </tr>\n",
       "    <tr>\n",
       "      <th>2</th>\n",
       "      <td>html</td>\n",
       "      <td>28787</td>\n",
       "      <td>CCC</td>\n",
       "      <td>2014J</td>\n",
       "      <td>233</td>\n",
       "      <td>282.634072</td>\n",
       "    </tr>\n",
       "    <tr>\n",
       "      <th>3</th>\n",
       "      <td>html</td>\n",
       "      <td>29411</td>\n",
       "      <td>DDD</td>\n",
       "      <td>2013J</td>\n",
       "      <td>428</td>\n",
       "      <td>470.548953</td>\n",
       "    </tr>\n",
       "    <tr>\n",
       "      <th>4</th>\n",
       "      <td>html</td>\n",
       "      <td>29420</td>\n",
       "      <td>CCC</td>\n",
       "      <td>2014J</td>\n",
       "      <td>269</td>\n",
       "      <td>282.634072</td>\n",
       "    </tr>\n",
       "    <tr>\n",
       "      <th>...</th>\n",
       "      <td>...</td>\n",
       "      <td>...</td>\n",
       "      <td>...</td>\n",
       "      <td>...</td>\n",
       "      <td>...</td>\n",
       "      <td>...</td>\n",
       "    </tr>\n",
       "    <tr>\n",
       "      <th>8890</th>\n",
       "      <td>ou</td>\n",
       "      <td>2692186</td>\n",
       "      <td>DDD</td>\n",
       "      <td>2013J</td>\n",
       "      <td>196</td>\n",
       "      <td>204.606586</td>\n",
       "    </tr>\n",
       "    <tr>\n",
       "      <th>8891</th>\n",
       "      <td>ou</td>\n",
       "      <td>2692948</td>\n",
       "      <td>DDD</td>\n",
       "      <td>2014B</td>\n",
       "      <td>205</td>\n",
       "      <td>185.096981</td>\n",
       "    </tr>\n",
       "    <tr>\n",
       "      <th>8892</th>\n",
       "      <td>ou</td>\n",
       "      <td>2694886</td>\n",
       "      <td>DDD</td>\n",
       "      <td>2014B</td>\n",
       "      <td>100</td>\n",
       "      <td>185.096981</td>\n",
       "    </tr>\n",
       "    <tr>\n",
       "      <th>8893</th>\n",
       "      <td>ou</td>\n",
       "      <td>2694933</td>\n",
       "      <td>DDD</td>\n",
       "      <td>2013B</td>\n",
       "      <td>153</td>\n",
       "      <td>226.741026</td>\n",
       "    </tr>\n",
       "    <tr>\n",
       "      <th>8894</th>\n",
       "      <td>ou</td>\n",
       "      <td>2695608</td>\n",
       "      <td>DDD</td>\n",
       "      <td>2013J</td>\n",
       "      <td>321</td>\n",
       "      <td>204.606586</td>\n",
       "    </tr>\n",
       "  </tbody>\n",
       "</table>\n",
       "<p>8895 rows × 6 columns</p>\n",
       "</div>"
      ],
      "text/plain": [
       "     activity_type  id_student code_module code_presentation  type_sum_click  \\\n",
       "0             html       23698         CCC             2014J             225   \n",
       "1             html       24213         DDD             2014B             778   \n",
       "2             html       28787         CCC             2014J             233   \n",
       "3             html       29411         DDD             2013J             428   \n",
       "4             html       29420         CCC             2014J             269   \n",
       "...            ...         ...         ...               ...             ...   \n",
       "8890            ou     2692186         DDD             2013J             196   \n",
       "8891            ou     2692948         DDD             2014B             205   \n",
       "8892            ou     2694886         DDD             2014B             100   \n",
       "8893            ou     2694933         DDD             2013B             153   \n",
       "8894            ou     2695608         DDD             2013J             321   \n",
       "\n",
       "      type_mean_sum_click  \n",
       "0              282.634072  \n",
       "1              403.611659  \n",
       "2              282.634072  \n",
       "3              470.548953  \n",
       "4              282.634072  \n",
       "...                   ...  \n",
       "8890           204.606586  \n",
       "8891           185.096981  \n",
       "8892           185.096981  \n",
       "8893           226.741026  \n",
       "8894           204.606586  \n",
       "\n",
       "[8895 rows x 6 columns]"
      ]
     },
     "execution_count": 103,
     "metadata": {},
     "output_type": "execute_result"
    }
   ],
   "source": [
    "clicksTypesPassed = pd.merge(left=studentVleTypes, right=passed, how='inner')\n",
    "clicksTypesPassed = clicksTypesPassed[['id_student', 'code_module', 'code_presentation', 'activity_type', 'type_sum_click', 'type_mean_sum_click']].copy()\n",
    "clicksTypesPassed = clicksTypesPassed.groupby(['activity_type', 'id_student', 'code_module', 'code_presentation', 'type_sum_click', 'type_mean_sum_click']).count().reset_index()\n",
    "clicksTypesPassed"
   ]
  },
  {
   "cell_type": "markdown",
   "metadata": {},
   "source": [
    "The total numbers, per type"
   ]
  },
  {
   "cell_type": "code",
   "execution_count": 104,
   "metadata": {},
   "outputs": [
    {
     "data": {
      "text/plain": [
       "activity_type\n",
       "html    2983\n",
       "misc    2981\n",
       "ou      2931\n",
       "Name: id_student, dtype: int64"
      ]
     },
     "execution_count": 104,
     "metadata": {},
     "output_type": "execute_result"
    }
   ],
   "source": [
    "clicksTypesPassedCount = clicksTypesPassed.groupby(['activity_type'])['id_student'].count()\n",
    "clicksTypesPassedCount"
   ]
  },
  {
   "cell_type": "markdown",
   "metadata": {},
   "source": [
    "Verification"
   ]
  },
  {
   "cell_type": "code",
   "execution_count": 105,
   "metadata": {},
   "outputs": [
    {
     "data": {
      "text/plain": [
       "True"
      ]
     },
     "execution_count": 105,
     "metadata": {},
     "output_type": "execute_result"
    }
   ],
   "source": [
    "clicksTypesPassedCount['html'] + clicksTypesPassedCount['misc'] + clicksTypesPassedCount['ou'] == clicksTypesPassed['id_student'].count()"
   ]
  },
  {
   "cell_type": "markdown",
   "metadata": {},
   "source": [
    "#### Average or up amount of clicks"
   ]
  },
  {
   "cell_type": "markdown",
   "metadata": {},
   "source": [
    "First, let's see how many students had an amount of interactions equal to or above the average."
   ]
  },
  {
   "cell_type": "code",
   "execution_count": 106,
   "metadata": {},
   "outputs": [
    {
     "data": {
      "text/plain": [
       "activity_type\n",
       "html    1807\n",
       "misc    1546\n",
       "ou      1595\n",
       "Name: id_student, dtype: int64"
      ]
     },
     "execution_count": 106,
     "metadata": {},
     "output_type": "execute_result"
    }
   ],
   "source": [
    "clicksTypesMorePassed = clicksTypesPassed.where((clicksTypesPassed['type_sum_click'] >= clicksTypesPassed['type_mean_sum_click']))\n",
    "clicksTypesMorePassed = clicksTypesMorePassed.dropna(how='all')\n",
    "clicksTypesMorePassed = clicksTypesMorePassed.groupby(['activity_type'])['id_student'].count()\n",
    "clicksTypesMorePassed"
   ]
  },
  {
   "cell_type": "markdown",
   "metadata": {},
   "source": [
    "What percentage of the failed students is this?"
   ]
  },
  {
   "cell_type": "code",
   "execution_count": 107,
   "metadata": {},
   "outputs": [
    {
     "data": {
      "text/plain": [
       "60.57660073751258"
      ]
     },
     "execution_count": 107,
     "metadata": {},
     "output_type": "execute_result"
    }
   ],
   "source": [
    "clicksTypesMorePassed['html'] / clicksTypesPassedCount['html'] * 100"
   ]
  },
  {
   "cell_type": "code",
   "execution_count": 108,
   "metadata": {},
   "outputs": [
    {
     "data": {
      "text/plain": [
       "51.861791345186184"
      ]
     },
     "execution_count": 108,
     "metadata": {},
     "output_type": "execute_result"
    }
   ],
   "source": [
    "clicksTypesMorePassed['misc'] / clicksTypesPassedCount['misc'] * 100"
   ]
  },
  {
   "cell_type": "code",
   "execution_count": 109,
   "metadata": {},
   "outputs": [
    {
     "data": {
      "text/plain": [
       "54.41828727396793"
      ]
     },
     "execution_count": 109,
     "metadata": {},
     "output_type": "execute_result"
    }
   ],
   "source": [
    "clicksTypesMorePassed['ou'] / clicksTypesPassedCount['ou'] * 100"
   ]
  },
  {
   "cell_type": "markdown",
   "metadata": {},
   "source": [
    "#### Below average amount of clicks"
   ]
  },
  {
   "cell_type": "markdown",
   "metadata": {},
   "source": [
    "Now let's see how many students had a below average amount of interactions"
   ]
  },
  {
   "cell_type": "code",
   "execution_count": 110,
   "metadata": {},
   "outputs": [
    {
     "data": {
      "text/plain": [
       "activity_type\n",
       "html    1176\n",
       "misc    1435\n",
       "ou      1336\n",
       "Name: id_student, dtype: int64"
      ]
     },
     "execution_count": 110,
     "metadata": {},
     "output_type": "execute_result"
    }
   ],
   "source": [
    "clicksTypesLessPassed = clicksTypesPassed.where((clicksTypesPassed['type_sum_click'] < clicksTypesPassed['type_mean_sum_click']))\n",
    "clicksTypesLessPassed = clicksTypesLessPassed.dropna(how='all')\n",
    "clicksTypesLessPassed = clicksTypesLessPassed.groupby(['activity_type'])['id_student'].count()\n",
    "clicksTypesLessPassed"
   ]
  },
  {
   "cell_type": "markdown",
   "metadata": {},
   "source": [
    "What percentage of the students who passed is this?"
   ]
  },
  {
   "cell_type": "code",
   "execution_count": 111,
   "metadata": {},
   "outputs": [
    {
     "data": {
      "text/plain": [
       "39.42339926248743"
      ]
     },
     "execution_count": 111,
     "metadata": {},
     "output_type": "execute_result"
    }
   ],
   "source": [
    "clicksTypesLessPassed['html'] / clicksTypesPassedCount['html'] * 100"
   ]
  },
  {
   "cell_type": "code",
   "execution_count": 112,
   "metadata": {},
   "outputs": [
    {
     "data": {
      "text/plain": [
       "48.138208654813816"
      ]
     },
     "execution_count": 112,
     "metadata": {},
     "output_type": "execute_result"
    }
   ],
   "source": [
    "clicksTypesLessPassed['misc'] / clicksTypesPassedCount['misc'] * 100"
   ]
  },
  {
   "cell_type": "code",
   "execution_count": 113,
   "metadata": {},
   "outputs": [
    {
     "data": {
      "text/plain": [
       "45.58171272603207"
      ]
     },
     "execution_count": 113,
     "metadata": {},
     "output_type": "execute_result"
    }
   ],
   "source": [
    "clicksTypesLessPassed['ou'] / clicksTypesPassedCount['ou'] * 100"
   ]
  },
  {
   "cell_type": "markdown",
   "metadata": {},
   "source": [
    "#### Conclusion"
   ]
  },
  {
   "cell_type": "markdown",
   "metadata": {},
   "source": [
    "* HTML\n",
    "\t* More: 61%\n",
    "\t* Less: 39%\t\n",
    "* MISC\n",
    "\t* More: 52%\n",
    "\t* Less: 48%\n",
    "* OU\n",
    "\t* More: 54%\n",
    "\t* Less: 46%"
   ]
  },
  {
   "cell_type": "markdown",
   "metadata": {},
   "source": [
    "For students who passed, only interaction with material of type HTML seems to have some impact."
   ]
  },
  {
   "cell_type": "markdown",
   "metadata": {},
   "source": [
    "### Distinction"
   ]
  },
  {
   "cell_type": "markdown",
   "metadata": {},
   "source": [
    "#### Total amount of clicks"
   ]
  },
  {
   "cell_type": "code",
   "execution_count": 114,
   "metadata": {},
   "outputs": [
    {
     "data": {
      "text/html": [
       "<div>\n",
       "<style scoped>\n",
       "    .dataframe tbody tr th:only-of-type {\n",
       "        vertical-align: middle;\n",
       "    }\n",
       "\n",
       "    .dataframe tbody tr th {\n",
       "        vertical-align: top;\n",
       "    }\n",
       "\n",
       "    .dataframe thead th {\n",
       "        text-align: right;\n",
       "    }\n",
       "</style>\n",
       "<table border=\"1\" class=\"dataframe\">\n",
       "  <thead>\n",
       "    <tr style=\"text-align: right;\">\n",
       "      <th></th>\n",
       "      <th>activity_type</th>\n",
       "      <th>id_student</th>\n",
       "      <th>code_module</th>\n",
       "      <th>code_presentation</th>\n",
       "      <th>type_sum_click</th>\n",
       "      <th>type_mean_sum_click</th>\n",
       "    </tr>\n",
       "  </thead>\n",
       "  <tbody>\n",
       "    <tr>\n",
       "      <th>0</th>\n",
       "      <td>html</td>\n",
       "      <td>27116</td>\n",
       "      <td>CCC</td>\n",
       "      <td>2014J</td>\n",
       "      <td>567</td>\n",
       "      <td>282.634072</td>\n",
       "    </tr>\n",
       "    <tr>\n",
       "      <th>1</th>\n",
       "      <td>html</td>\n",
       "      <td>29764</td>\n",
       "      <td>CCC</td>\n",
       "      <td>2014B</td>\n",
       "      <td>531</td>\n",
       "      <td>285.972619</td>\n",
       "    </tr>\n",
       "    <tr>\n",
       "      <th>2</th>\n",
       "      <td>html</td>\n",
       "      <td>30096</td>\n",
       "      <td>CCC</td>\n",
       "      <td>2014J</td>\n",
       "      <td>192</td>\n",
       "      <td>282.634072</td>\n",
       "    </tr>\n",
       "    <tr>\n",
       "      <th>3</th>\n",
       "      <td>html</td>\n",
       "      <td>31161</td>\n",
       "      <td>CCC</td>\n",
       "      <td>2014J</td>\n",
       "      <td>1337</td>\n",
       "      <td>282.634072</td>\n",
       "    </tr>\n",
       "    <tr>\n",
       "      <th>4</th>\n",
       "      <td>html</td>\n",
       "      <td>37652</td>\n",
       "      <td>CCC</td>\n",
       "      <td>2014J</td>\n",
       "      <td>300</td>\n",
       "      <td>282.634072</td>\n",
       "    </tr>\n",
       "    <tr>\n",
       "      <th>...</th>\n",
       "      <td>...</td>\n",
       "      <td>...</td>\n",
       "      <td>...</td>\n",
       "      <td>...</td>\n",
       "      <td>...</td>\n",
       "      <td>...</td>\n",
       "    </tr>\n",
       "    <tr>\n",
       "      <th>2273</th>\n",
       "      <td>ou</td>\n",
       "      <td>2668106</td>\n",
       "      <td>CCC</td>\n",
       "      <td>2014J</td>\n",
       "      <td>4</td>\n",
       "      <td>160.037898</td>\n",
       "    </tr>\n",
       "    <tr>\n",
       "      <th>2274</th>\n",
       "      <td>ou</td>\n",
       "      <td>2672686</td>\n",
       "      <td>DDD</td>\n",
       "      <td>2013B</td>\n",
       "      <td>1108</td>\n",
       "      <td>226.741026</td>\n",
       "    </tr>\n",
       "    <tr>\n",
       "      <th>2275</th>\n",
       "      <td>ou</td>\n",
       "      <td>2692327</td>\n",
       "      <td>CCC</td>\n",
       "      <td>2014B</td>\n",
       "      <td>250</td>\n",
       "      <td>145.158587</td>\n",
       "    </tr>\n",
       "    <tr>\n",
       "      <th>2276</th>\n",
       "      <td>ou</td>\n",
       "      <td>2692577</td>\n",
       "      <td>DDD</td>\n",
       "      <td>2014B</td>\n",
       "      <td>245</td>\n",
       "      <td>185.096981</td>\n",
       "    </tr>\n",
       "    <tr>\n",
       "      <th>2277</th>\n",
       "      <td>ou</td>\n",
       "      <td>2693243</td>\n",
       "      <td>DDD</td>\n",
       "      <td>2013B</td>\n",
       "      <td>213</td>\n",
       "      <td>226.741026</td>\n",
       "    </tr>\n",
       "  </tbody>\n",
       "</table>\n",
       "<p>2278 rows × 6 columns</p>\n",
       "</div>"
      ],
      "text/plain": [
       "     activity_type  id_student code_module code_presentation  type_sum_click  \\\n",
       "0             html       27116         CCC             2014J             567   \n",
       "1             html       29764         CCC             2014B             531   \n",
       "2             html       30096         CCC             2014J             192   \n",
       "3             html       31161         CCC             2014J            1337   \n",
       "4             html       37652         CCC             2014J             300   \n",
       "...            ...         ...         ...               ...             ...   \n",
       "2273            ou     2668106         CCC             2014J               4   \n",
       "2274            ou     2672686         DDD             2013B            1108   \n",
       "2275            ou     2692327         CCC             2014B             250   \n",
       "2276            ou     2692577         DDD             2014B             245   \n",
       "2277            ou     2693243         DDD             2013B             213   \n",
       "\n",
       "      type_mean_sum_click  \n",
       "0              282.634072  \n",
       "1              285.972619  \n",
       "2              282.634072  \n",
       "3              282.634072  \n",
       "4              282.634072  \n",
       "...                   ...  \n",
       "2273           160.037898  \n",
       "2274           226.741026  \n",
       "2275           145.158587  \n",
       "2276           185.096981  \n",
       "2277           226.741026  \n",
       "\n",
       "[2278 rows x 6 columns]"
      ]
     },
     "execution_count": 114,
     "metadata": {},
     "output_type": "execute_result"
    }
   ],
   "source": [
    "clicksTypesDistinction = pd.merge(left=studentVleTypes, right=distinction, how='inner')\n",
    "clicksTypesDistinction = clicksTypesDistinction[['id_student', 'code_module', 'code_presentation', 'activity_type', 'type_sum_click', 'type_mean_sum_click']].copy()\n",
    "clicksTypesDistinction = clicksTypesDistinction.groupby(['activity_type', 'id_student', 'code_module', 'code_presentation', 'type_sum_click', 'type_mean_sum_click']).count().reset_index()\n",
    "clicksTypesDistinction"
   ]
  },
  {
   "cell_type": "markdown",
   "metadata": {},
   "source": [
    "The total numbers, per type:"
   ]
  },
  {
   "cell_type": "code",
   "execution_count": 115,
   "metadata": {},
   "outputs": [
    {
     "data": {
      "text/plain": [
       "activity_type\n",
       "html    765\n",
       "misc    765\n",
       "ou      748\n",
       "Name: id_student, dtype: int64"
      ]
     },
     "execution_count": 115,
     "metadata": {},
     "output_type": "execute_result"
    }
   ],
   "source": [
    "clicksTypesDistinctionCount = clicksTypesDistinction.groupby(['activity_type'])['id_student'].count()\n",
    "clicksTypesDistinctionCount"
   ]
  },
  {
   "cell_type": "markdown",
   "metadata": {},
   "source": [
    "Verification:"
   ]
  },
  {
   "cell_type": "code",
   "execution_count": 116,
   "metadata": {},
   "outputs": [
    {
     "data": {
      "text/plain": [
       "True"
      ]
     },
     "execution_count": 116,
     "metadata": {},
     "output_type": "execute_result"
    }
   ],
   "source": [
    "clicksTypesDistinctionCount['html'] + clicksTypesDistinctionCount['misc'] + clicksTypesDistinctionCount['ou'] == clicksTypesDistinction['id_student'].count()"
   ]
  },
  {
   "cell_type": "markdown",
   "metadata": {},
   "source": [
    "#### Average or up amount of clicks"
   ]
  },
  {
   "cell_type": "markdown",
   "metadata": {},
   "source": [
    "First, let's see how many students had an amount of interactions equal to or above the average."
   ]
  },
  {
   "cell_type": "code",
   "execution_count": 117,
   "metadata": {},
   "outputs": [
    {
     "data": {
      "text/plain": [
       "activity_type\n",
       "html    608\n",
       "misc    561\n",
       "ou      352\n",
       "Name: id_student, dtype: int64"
      ]
     },
     "execution_count": 117,
     "metadata": {},
     "output_type": "execute_result"
    }
   ],
   "source": [
    "clicksTypesMoreDistinction = clicksTypesDistinction.where((clicksTypesDistinction['type_sum_click'] >= clicksTypesDistinction['type_mean_sum_click']))\n",
    "clicksTypesMoreDistinction = clicksTypesMoreDistinction.dropna(how='all')\n",
    "clicksTypesMoreDistinction = clicksTypesMoreDistinction.groupby(['activity_type'])['id_student'].count()\n",
    "clicksTypesMoreDistinction"
   ]
  },
  {
   "cell_type": "markdown",
   "metadata": {},
   "source": [
    "What percentage of the failed students is this?"
   ]
  },
  {
   "cell_type": "code",
   "execution_count": 118,
   "metadata": {},
   "outputs": [
    {
     "data": {
      "text/plain": [
       "79.47712418300654"
      ]
     },
     "execution_count": 118,
     "metadata": {},
     "output_type": "execute_result"
    }
   ],
   "source": [
    "clicksTypesMoreDistinction['html'] / clicksTypesDistinctionCount['html'] * 100"
   ]
  },
  {
   "cell_type": "code",
   "execution_count": 119,
   "metadata": {},
   "outputs": [
    {
     "data": {
      "text/plain": [
       "73.33333333333333"
      ]
     },
     "execution_count": 119,
     "metadata": {},
     "output_type": "execute_result"
    }
   ],
   "source": [
    "clicksTypesMoreDistinction['misc'] / clicksTypesDistinctionCount['misc'] * 100"
   ]
  },
  {
   "cell_type": "code",
   "execution_count": 120,
   "metadata": {},
   "outputs": [
    {
     "data": {
      "text/plain": [
       "47.05882352941176"
      ]
     },
     "execution_count": 120,
     "metadata": {},
     "output_type": "execute_result"
    }
   ],
   "source": [
    "clicksTypesMoreDistinction['ou'] / clicksTypesDistinctionCount['ou'] * 100"
   ]
  },
  {
   "cell_type": "markdown",
   "metadata": {},
   "source": [
    "#### Below average amount of clicks"
   ]
  },
  {
   "cell_type": "markdown",
   "metadata": {},
   "source": [
    "Now let's see how many students had a below average amount of interactions"
   ]
  },
  {
   "cell_type": "code",
   "execution_count": 121,
   "metadata": {},
   "outputs": [
    {
     "data": {
      "text/plain": [
       "activity_type\n",
       "html    157\n",
       "misc    204\n",
       "ou      396\n",
       "Name: id_student, dtype: int64"
      ]
     },
     "execution_count": 121,
     "metadata": {},
     "output_type": "execute_result"
    }
   ],
   "source": [
    "clicksTypesLessDistinction = clicksTypesDistinction.where((clicksTypesDistinction['type_sum_click'] < clicksTypesDistinction['type_mean_sum_click']))\n",
    "clicksTypesLessDistinction = clicksTypesLessDistinction.dropna(how='all')\n",
    "clicksTypesLessDistinction = clicksTypesLessDistinction.groupby(['activity_type'])['id_student'].count()\n",
    "clicksTypesLessDistinction"
   ]
  },
  {
   "cell_type": "markdown",
   "metadata": {},
   "source": [
    "What percentage of the students who passed with distinction is this?"
   ]
  },
  {
   "cell_type": "code",
   "execution_count": 122,
   "metadata": {},
   "outputs": [
    {
     "data": {
      "text/plain": [
       "20.522875816993462"
      ]
     },
     "execution_count": 122,
     "metadata": {},
     "output_type": "execute_result"
    }
   ],
   "source": [
    "clicksTypesLessDistinction['html'] / clicksTypesDistinctionCount['html'] * 100"
   ]
  },
  {
   "cell_type": "code",
   "execution_count": 123,
   "metadata": {},
   "outputs": [
    {
     "data": {
      "text/plain": [
       "26.666666666666668"
      ]
     },
     "execution_count": 123,
     "metadata": {},
     "output_type": "execute_result"
    }
   ],
   "source": [
    "clicksTypesLessDistinction['misc'] / clicksTypesDistinctionCount['misc'] * 100"
   ]
  },
  {
   "cell_type": "code",
   "execution_count": 124,
   "metadata": {},
   "outputs": [
    {
     "data": {
      "text/plain": [
       "52.94117647058824"
      ]
     },
     "execution_count": 124,
     "metadata": {},
     "output_type": "execute_result"
    }
   ],
   "source": [
    "clicksTypesLessDistinction['ou'] / clicksTypesDistinctionCount['ou'] * 100"
   ]
  },
  {
   "cell_type": "markdown",
   "metadata": {},
   "source": [
    "#### Conclusion"
   ]
  },
  {
   "cell_type": "markdown",
   "metadata": {},
   "source": [
    "* HTML\n",
    "\t* More: 79%\n",
    "\t* Less: 21%\t\n",
    "* MISC\n",
    "\t* More: 73%\n",
    "\t* Less: 27%\n",
    "* OU\n",
    "\t* More: 47%\n",
    "\t* Less: 53%"
   ]
  },
  {
   "cell_type": "markdown",
   "metadata": {},
   "source": [
    "Here we see a significant difference with students who interacted more with HTML and MISC who passed with distinction. Only material of type OU is roughly 50-50."
   ]
  },
  {
   "cell_type": "markdown",
   "metadata": {},
   "source": [
    "### Conclusion"
   ]
  },
  {
   "cell_type": "markdown",
   "metadata": {},
   "source": [
    "Mediocre interactions with HTML and OU but not interacting with type MISC will have an influence on a student failing\n",
    "Mediocre interactions with type MISC and a focus on type HTML will have a student pass\n",
    "Focusing on both MISC and HTML will increase chances of a student passing with distinction."
   ]
  },
  {
   "cell_type": "markdown",
   "metadata": {},
   "source": [
    "OU does not seem to have any influence on grades whatsoever."
   ]
  },
  {
   "cell_type": "markdown",
   "metadata": {},
   "source": [
    "In other words: We can say material of type HTML and MISC have an impact on a student's grades. Material of type OU is irrelevant."
   ]
  },
  {
   "cell_type": "markdown",
   "metadata": {},
   "source": [
    "## Final conclusion"
   ]
  },
  {
   "cell_type": "markdown",
   "metadata": {},
   "source": [
    "It seems the biggest factor in succeeding, from those we checked, is interaction with the provided module material. From this course material, those of type HTML and MISC have influence in a student's grades, while type OU has no real impact. Age potentially has an impact as well, and gender makes no difference on a student's score."
   ]
  },
  {
   "attachments": {},
   "cell_type": "markdown",
   "metadata": {},
   "source": [
    "# Data Mining goals\n",
    "q: what are the most important factors in determining a student's grade?\n",
    "\n",
    "a: \n",
    "Supervised learning (because we know what to predict)\n",
    "- Knn\n",
    "- naive bayes\n",
    "- decision tree\n",
    "- linear regression\n",
    "- logistic regression\n",
    "- AI?\n",
    "\n",
    "q: what colums are most important to predict a student's grade? <br>\n",
    "q: what type of supervised learning is best for this data set?<br>\n",
    "    q: how to determine the best supervised learning method? <br>\n",
    "    q: fold cross validation?<br>\n",
    "    q: grid search? <br>\n",
    "\n",
    "\n",
    "\n",
    "\n",
    "a: compare the results of the different methods (test all methods)\n",
    "\n",
    "\n",
    "\n"
   ]
  },
  {
   "cell_type": "markdown",
   "metadata": {},
   "source": [
    "Maybe we should making a data variable that we can use for all our models. \n",
    "If we use the same data for each model, we can compare the results of the different models."
   ]
  },
  {
   "cell_type": "code",
   "execution_count": 135,
   "metadata": {},
   "outputs": [
    {
     "data": {
      "text/html": [
       "<div>\n",
       "<style scoped>\n",
       "    .dataframe tbody tr th:only-of-type {\n",
       "        vertical-align: middle;\n",
       "    }\n",
       "\n",
       "    .dataframe tbody tr th {\n",
       "        vertical-align: top;\n",
       "    }\n",
       "\n",
       "    .dataframe thead th {\n",
       "        text-align: right;\n",
       "    }\n",
       "</style>\n",
       "<table border=\"1\" class=\"dataframe\">\n",
       "  <thead>\n",
       "    <tr style=\"text-align: right;\">\n",
       "      <th></th>\n",
       "      <th>code_module</th>\n",
       "      <th>code_presentation</th>\n",
       "      <th>total_weight</th>\n",
       "      <th>assessments_count</th>\n",
       "      <th>id_student</th>\n",
       "      <th>sum_click</th>\n",
       "      <th>gender</th>\n",
       "      <th>region</th>\n",
       "      <th>highest_education</th>\n",
       "      <th>imd_band</th>\n",
       "      <th>age_band</th>\n",
       "      <th>num_of_prev_attempts</th>\n",
       "      <th>studied_credits</th>\n",
       "      <th>disability</th>\n",
       "      <th>final_result</th>\n",
       "    </tr>\n",
       "  </thead>\n",
       "  <tbody>\n",
       "    <tr>\n",
       "      <th>0</th>\n",
       "      <td>AAA</td>\n",
       "      <td>2013J</td>\n",
       "      <td>200.0</td>\n",
       "      <td>6.0</td>\n",
       "      <td>11391.0</td>\n",
       "      <td>934.0</td>\n",
       "      <td>M</td>\n",
       "      <td>East Anglian Region</td>\n",
       "      <td>HE Qualification</td>\n",
       "      <td>90-100%</td>\n",
       "      <td>55&lt;=</td>\n",
       "      <td>0.0</td>\n",
       "      <td>240.0</td>\n",
       "      <td>N</td>\n",
       "      <td>1</td>\n",
       "    </tr>\n",
       "    <tr>\n",
       "      <th>2</th>\n",
       "      <td>AAA</td>\n",
       "      <td>2013J</td>\n",
       "      <td>200.0</td>\n",
       "      <td>6.0</td>\n",
       "      <td>31604.0</td>\n",
       "      <td>2158.0</td>\n",
       "      <td>F</td>\n",
       "      <td>South East Region</td>\n",
       "      <td>A Level or Equivalent</td>\n",
       "      <td>50-60%</td>\n",
       "      <td>35-55</td>\n",
       "      <td>0.0</td>\n",
       "      <td>60.0</td>\n",
       "      <td>N</td>\n",
       "      <td>1</td>\n",
       "    </tr>\n",
       "    <tr>\n",
       "      <th>3</th>\n",
       "      <td>AAA</td>\n",
       "      <td>2013J</td>\n",
       "      <td>200.0</td>\n",
       "      <td>6.0</td>\n",
       "      <td>32885.0</td>\n",
       "      <td>1034.0</td>\n",
       "      <td>F</td>\n",
       "      <td>West Midlands Region</td>\n",
       "      <td>Lower Than A Level</td>\n",
       "      <td>50-60%</td>\n",
       "      <td>0-35</td>\n",
       "      <td>0.0</td>\n",
       "      <td>60.0</td>\n",
       "      <td>N</td>\n",
       "      <td>1</td>\n",
       "    </tr>\n",
       "    <tr>\n",
       "      <th>4</th>\n",
       "      <td>AAA</td>\n",
       "      <td>2013J</td>\n",
       "      <td>200.0</td>\n",
       "      <td>6.0</td>\n",
       "      <td>38053.0</td>\n",
       "      <td>2445.0</td>\n",
       "      <td>M</td>\n",
       "      <td>Wales</td>\n",
       "      <td>A Level or Equivalent</td>\n",
       "      <td>80-90%</td>\n",
       "      <td>35-55</td>\n",
       "      <td>0.0</td>\n",
       "      <td>60.0</td>\n",
       "      <td>N</td>\n",
       "      <td>1</td>\n",
       "    </tr>\n",
       "    <tr>\n",
       "      <th>5</th>\n",
       "      <td>AAA</td>\n",
       "      <td>2013J</td>\n",
       "      <td>200.0</td>\n",
       "      <td>6.0</td>\n",
       "      <td>45642.0</td>\n",
       "      <td>1428.0</td>\n",
       "      <td>F</td>\n",
       "      <td>North Western Region</td>\n",
       "      <td>A Level or Equivalent</td>\n",
       "      <td>90-100%</td>\n",
       "      <td>0-35</td>\n",
       "      <td>0.0</td>\n",
       "      <td>120.0</td>\n",
       "      <td>N</td>\n",
       "      <td>1</td>\n",
       "    </tr>\n",
       "    <tr>\n",
       "      <th>...</th>\n",
       "      <td>...</td>\n",
       "      <td>...</td>\n",
       "      <td>...</td>\n",
       "      <td>...</td>\n",
       "      <td>...</td>\n",
       "      <td>...</td>\n",
       "      <td>...</td>\n",
       "      <td>...</td>\n",
       "      <td>...</td>\n",
       "      <td>...</td>\n",
       "      <td>...</td>\n",
       "      <td>...</td>\n",
       "      <td>...</td>\n",
       "      <td>...</td>\n",
       "      <td>...</td>\n",
       "    </tr>\n",
       "    <tr>\n",
       "      <th>26042</th>\n",
       "      <td>GGG</td>\n",
       "      <td>2014J</td>\n",
       "      <td>100.0</td>\n",
       "      <td>10.0</td>\n",
       "      <td>2606765.0</td>\n",
       "      <td>236.0</td>\n",
       "      <td>F</td>\n",
       "      <td>London Region</td>\n",
       "      <td>Lower Than A Level</td>\n",
       "      <td>80-90%</td>\n",
       "      <td>0-35</td>\n",
       "      <td>0.0</td>\n",
       "      <td>30.0</td>\n",
       "      <td>N</td>\n",
       "      <td>1</td>\n",
       "    </tr>\n",
       "    <tr>\n",
       "      <th>26044</th>\n",
       "      <td>GGG</td>\n",
       "      <td>2014J</td>\n",
       "      <td>100.0</td>\n",
       "      <td>10.0</td>\n",
       "      <td>2640965.0</td>\n",
       "      <td>41.0</td>\n",
       "      <td>F</td>\n",
       "      <td>Wales</td>\n",
       "      <td>Lower Than A Level</td>\n",
       "      <td>10-20</td>\n",
       "      <td>0-35</td>\n",
       "      <td>0.0</td>\n",
       "      <td>30.0</td>\n",
       "      <td>N</td>\n",
       "      <td>0</td>\n",
       "    </tr>\n",
       "    <tr>\n",
       "      <th>26045</th>\n",
       "      <td>GGG</td>\n",
       "      <td>2014J</td>\n",
       "      <td>100.0</td>\n",
       "      <td>10.0</td>\n",
       "      <td>2645731.0</td>\n",
       "      <td>893.0</td>\n",
       "      <td>F</td>\n",
       "      <td>East Anglian Region</td>\n",
       "      <td>Lower Than A Level</td>\n",
       "      <td>40-50%</td>\n",
       "      <td>35-55</td>\n",
       "      <td>0.0</td>\n",
       "      <td>30.0</td>\n",
       "      <td>N</td>\n",
       "      <td>1</td>\n",
       "    </tr>\n",
       "    <tr>\n",
       "      <th>26046</th>\n",
       "      <td>GGG</td>\n",
       "      <td>2014J</td>\n",
       "      <td>100.0</td>\n",
       "      <td>10.0</td>\n",
       "      <td>2648187.0</td>\n",
       "      <td>312.0</td>\n",
       "      <td>F</td>\n",
       "      <td>South Region</td>\n",
       "      <td>A Level or Equivalent</td>\n",
       "      <td>20-30%</td>\n",
       "      <td>0-35</td>\n",
       "      <td>0.0</td>\n",
       "      <td>30.0</td>\n",
       "      <td>Y</td>\n",
       "      <td>1</td>\n",
       "    </tr>\n",
       "    <tr>\n",
       "      <th>26048</th>\n",
       "      <td>GGG</td>\n",
       "      <td>2014J</td>\n",
       "      <td>100.0</td>\n",
       "      <td>10.0</td>\n",
       "      <td>2684003.0</td>\n",
       "      <td>616.0</td>\n",
       "      <td>F</td>\n",
       "      <td>Yorkshire Region</td>\n",
       "      <td>HE Qualification</td>\n",
       "      <td>50-60%</td>\n",
       "      <td>35-55</td>\n",
       "      <td>0.0</td>\n",
       "      <td>30.0</td>\n",
       "      <td>N</td>\n",
       "      <td>1</td>\n",
       "    </tr>\n",
       "  </tbody>\n",
       "</table>\n",
       "<p>19586 rows × 15 columns</p>\n",
       "</div>"
      ],
      "text/plain": [
       "      code_module code_presentation  total_weight  assessments_count  \\\n",
       "0             AAA             2013J         200.0                6.0   \n",
       "2             AAA             2013J         200.0                6.0   \n",
       "3             AAA             2013J         200.0                6.0   \n",
       "4             AAA             2013J         200.0                6.0   \n",
       "5             AAA             2013J         200.0                6.0   \n",
       "...           ...               ...           ...                ...   \n",
       "26042         GGG             2014J         100.0               10.0   \n",
       "26044         GGG             2014J         100.0               10.0   \n",
       "26045         GGG             2014J         100.0               10.0   \n",
       "26046         GGG             2014J         100.0               10.0   \n",
       "26048         GGG             2014J         100.0               10.0   \n",
       "\n",
       "       id_student  sum_click gender                region  \\\n",
       "0         11391.0      934.0      M   East Anglian Region   \n",
       "2         31604.0     2158.0      F     South East Region   \n",
       "3         32885.0     1034.0      F  West Midlands Region   \n",
       "4         38053.0     2445.0      M                 Wales   \n",
       "5         45642.0     1428.0      F  North Western Region   \n",
       "...           ...        ...    ...                   ...   \n",
       "26042   2606765.0      236.0      F         London Region   \n",
       "26044   2640965.0       41.0      F                 Wales   \n",
       "26045   2645731.0      893.0      F   East Anglian Region   \n",
       "26046   2648187.0      312.0      F          South Region   \n",
       "26048   2684003.0      616.0      F      Yorkshire Region   \n",
       "\n",
       "           highest_education imd_band age_band  num_of_prev_attempts  \\\n",
       "0           HE Qualification  90-100%     55<=                   0.0   \n",
       "2      A Level or Equivalent   50-60%    35-55                   0.0   \n",
       "3         Lower Than A Level   50-60%     0-35                   0.0   \n",
       "4      A Level or Equivalent   80-90%    35-55                   0.0   \n",
       "5      A Level or Equivalent  90-100%     0-35                   0.0   \n",
       "...                      ...      ...      ...                   ...   \n",
       "26042     Lower Than A Level   80-90%     0-35                   0.0   \n",
       "26044     Lower Than A Level    10-20     0-35                   0.0   \n",
       "26045     Lower Than A Level   40-50%    35-55                   0.0   \n",
       "26046  A Level or Equivalent   20-30%     0-35                   0.0   \n",
       "26048       HE Qualification   50-60%    35-55                   0.0   \n",
       "\n",
       "       studied_credits disability  final_result  \n",
       "0                240.0          N             1  \n",
       "2                 60.0          N             1  \n",
       "3                 60.0          N             1  \n",
       "4                 60.0          N             1  \n",
       "5                120.0          N             1  \n",
       "...                ...        ...           ...  \n",
       "26042             30.0          N             1  \n",
       "26044             30.0          N             0  \n",
       "26045             30.0          N             1  \n",
       "26046             30.0          Y             1  \n",
       "26048             30.0          N             1  \n",
       "\n",
       "[19586 rows x 15 columns]"
      ]
     },
     "execution_count": 135,
     "metadata": {},
     "output_type": "execute_result"
    }
   ],
   "source": [
    "#DATA here i got to 72% accuracy\n",
    "#i tried my best to get as much data in here as possible so that the model can be as accurate as possible\n",
    "#MAKE SURE TO ADJUST IF YOU THINK THIS CAN BE DONE BETTER!!!!! (groetjes Dieter)\n",
    "\n",
    "#read studentVle    \n",
    "studentVle = pd.read_csv('studentVle.csv')\n",
    "\n",
    "#since studentVLe has many rows for 1 student and 1 module, we need to group by student and module to get the total number of clicks for each student and module\n",
    "studentVleTotal = studentVle.groupby(['id_student', 'code_module', 'code_presentation'])['sum_click'].sum().reset_index()\n",
    "\n",
    "\n",
    "\n",
    "#read Assessments\n",
    "assessments = pd.read_csv('assessments.csv')\n",
    "#get total weight of all assessments for each module\n",
    "assessmentsTotalWeight = assessments.groupby(['code_module', 'code_presentation'])['weight'].sum().reset_index()\n",
    "\n",
    "#get the amount of assessments for each module\n",
    "assessmentsCount = assessments.groupby(['code_module', 'code_presentation'])['id_assessment'].count().reset_index()\n",
    "#join the total weight and the amount of assessments\n",
    "assessmentsTotalWeight = pd.merge(left=assessmentsTotalWeight, right=assessmentsCount, how='inner', on=['code_module', 'code_presentation'])\n",
    "assessmentsTotalWeight\n",
    "#rename the columns\n",
    "assessmentsTotalWeight = assessmentsTotalWeight.rename(columns={'weight': 'total_weight', 'id_assessment': 'assessments_count'})\n",
    "\n",
    "\n",
    "\n",
    "# join studentAssessmentWeight with studentVleTotal\n",
    "studentAssessmentWeight = pd.merge(left=assessmentsTotalWeight, right=studentVleTotal, how='inner')\n",
    "studentAssessmentWeight\n",
    "\n",
    "#join studentAssessmentWeight with studentInfo\n",
    "studentAssessmentWeight = pd.merge(left=studentAssessmentWeight, right=studentInfo, how='inner')\n",
    "data = studentAssessmentWeight\n",
    "\n",
    "\n",
    "# q:why did i lose some rows?\n",
    "# a:because some students have no assessments, so they are not in the studentAssessmentWeight dataframe\n",
    "\n",
    "#remove withdrawn students\n",
    "data = data.where(data['final_result'] != 'Withdrawn')\n",
    "data = data.dropna(how='all')\n",
    "#replace pass and distinction with 1\n",
    "#replace fail with 0\n",
    "data = data.replace({'Distinction': 1, 'Fail': 0, 'Pass': 1})\n",
    "data"
   ]
  },
  {
   "cell_type": "code",
   "execution_count": 126,
   "metadata": {},
   "outputs": [
    {
     "data": {
      "text/html": [
       "<div>\n",
       "<style scoped>\n",
       "    .dataframe tbody tr th:only-of-type {\n",
       "        vertical-align: middle;\n",
       "    }\n",
       "\n",
       "    .dataframe tbody tr th {\n",
       "        vertical-align: top;\n",
       "    }\n",
       "\n",
       "    .dataframe thead th {\n",
       "        text-align: right;\n",
       "    }\n",
       "</style>\n",
       "<table border=\"1\" class=\"dataframe\">\n",
       "  <thead>\n",
       "    <tr style=\"text-align: right;\">\n",
       "      <th></th>\n",
       "      <th>code_module</th>\n",
       "      <th>code_presentation</th>\n",
       "      <th>id_student</th>\n",
       "      <th>gender</th>\n",
       "      <th>age_band</th>\n",
       "      <th>final_result</th>\n",
       "      <th>total_click</th>\n",
       "      <th>total_score</th>\n",
       "    </tr>\n",
       "  </thead>\n",
       "  <tbody>\n",
       "    <tr>\n",
       "      <th>0</th>\n",
       "      <td>AAA</td>\n",
       "      <td>2013J</td>\n",
       "      <td>11391</td>\n",
       "      <td>M</td>\n",
       "      <td>55&lt;=</td>\n",
       "      <td>Pass</td>\n",
       "      <td>934</td>\n",
       "      <td>410.0</td>\n",
       "    </tr>\n",
       "    <tr>\n",
       "      <th>1</th>\n",
       "      <td>AAA</td>\n",
       "      <td>2013J</td>\n",
       "      <td>31604</td>\n",
       "      <td>F</td>\n",
       "      <td>35-55</td>\n",
       "      <td>Pass</td>\n",
       "      <td>2158</td>\n",
       "      <td>380.0</td>\n",
       "    </tr>\n",
       "    <tr>\n",
       "      <th>2</th>\n",
       "      <td>AAA</td>\n",
       "      <td>2013J</td>\n",
       "      <td>32885</td>\n",
       "      <td>F</td>\n",
       "      <td>0-35</td>\n",
       "      <td>Pass</td>\n",
       "      <td>1034</td>\n",
       "      <td>272.0</td>\n",
       "    </tr>\n",
       "    <tr>\n",
       "      <th>3</th>\n",
       "      <td>AAA</td>\n",
       "      <td>2013J</td>\n",
       "      <td>38053</td>\n",
       "      <td>M</td>\n",
       "      <td>35-55</td>\n",
       "      <td>Pass</td>\n",
       "      <td>2445</td>\n",
       "      <td>340.0</td>\n",
       "    </tr>\n",
       "    <tr>\n",
       "      <th>4</th>\n",
       "      <td>AAA</td>\n",
       "      <td>2013J</td>\n",
       "      <td>45642</td>\n",
       "      <td>F</td>\n",
       "      <td>0-35</td>\n",
       "      <td>Pass</td>\n",
       "      <td>1428</td>\n",
       "      <td>362.0</td>\n",
       "    </tr>\n",
       "    <tr>\n",
       "      <th>...</th>\n",
       "      <td>...</td>\n",
       "      <td>...</td>\n",
       "      <td>...</td>\n",
       "      <td>...</td>\n",
       "      <td>...</td>\n",
       "      <td>...</td>\n",
       "      <td>...</td>\n",
       "      <td>...</td>\n",
       "    </tr>\n",
       "    <tr>\n",
       "      <th>18782</th>\n",
       "      <td>GGG</td>\n",
       "      <td>2014J</td>\n",
       "      <td>2533195</td>\n",
       "      <td>F</td>\n",
       "      <td>0-35</td>\n",
       "      <td>Pass</td>\n",
       "      <td>755</td>\n",
       "      <td>680.0</td>\n",
       "    </tr>\n",
       "    <tr>\n",
       "      <th>18783</th>\n",
       "      <td>GGG</td>\n",
       "      <td>2014J</td>\n",
       "      <td>2606765</td>\n",
       "      <td>F</td>\n",
       "      <td>0-35</td>\n",
       "      <td>Pass</td>\n",
       "      <td>236</td>\n",
       "      <td>710.0</td>\n",
       "    </tr>\n",
       "    <tr>\n",
       "      <th>18784</th>\n",
       "      <td>GGG</td>\n",
       "      <td>2014J</td>\n",
       "      <td>2645731</td>\n",
       "      <td>F</td>\n",
       "      <td>35-55</td>\n",
       "      <td>Distinction</td>\n",
       "      <td>893</td>\n",
       "      <td>793.0</td>\n",
       "    </tr>\n",
       "    <tr>\n",
       "      <th>18785</th>\n",
       "      <td>GGG</td>\n",
       "      <td>2014J</td>\n",
       "      <td>2648187</td>\n",
       "      <td>F</td>\n",
       "      <td>0-35</td>\n",
       "      <td>Pass</td>\n",
       "      <td>312</td>\n",
       "      <td>690.0</td>\n",
       "    </tr>\n",
       "    <tr>\n",
       "      <th>18786</th>\n",
       "      <td>GGG</td>\n",
       "      <td>2014J</td>\n",
       "      <td>2684003</td>\n",
       "      <td>F</td>\n",
       "      <td>35-55</td>\n",
       "      <td>Distinction</td>\n",
       "      <td>616</td>\n",
       "      <td>580.0</td>\n",
       "    </tr>\n",
       "  </tbody>\n",
       "</table>\n",
       "<p>18787 rows × 8 columns</p>\n",
       "</div>"
      ],
      "text/plain": [
       "      code_module code_presentation  id_student gender age_band final_result  \\\n",
       "0             AAA             2013J       11391      M     55<=         Pass   \n",
       "1             AAA             2013J       31604      F    35-55         Pass   \n",
       "2             AAA             2013J       32885      F     0-35         Pass   \n",
       "3             AAA             2013J       38053      M    35-55         Pass   \n",
       "4             AAA             2013J       45642      F     0-35         Pass   \n",
       "...           ...               ...         ...    ...      ...          ...   \n",
       "18782         GGG             2014J     2533195      F     0-35         Pass   \n",
       "18783         GGG             2014J     2606765      F     0-35         Pass   \n",
       "18784         GGG             2014J     2645731      F    35-55  Distinction   \n",
       "18785         GGG             2014J     2648187      F     0-35         Pass   \n",
       "18786         GGG             2014J     2684003      F    35-55  Distinction   \n",
       "\n",
       "       total_click  total_score  \n",
       "0              934        410.0  \n",
       "1             2158        380.0  \n",
       "2             1034        272.0  \n",
       "3             2445        340.0  \n",
       "4             1428        362.0  \n",
       "...            ...          ...  \n",
       "18782          755        680.0  \n",
       "18783          236        710.0  \n",
       "18784          893        793.0  \n",
       "18785          312        690.0  \n",
       "18786          616        580.0  \n",
       "\n",
       "[18787 rows x 8 columns]"
      ]
     },
     "execution_count": 126,
     "metadata": {},
     "output_type": "execute_result"
    }
   ],
   "source": [
    "#DATA here i got to 50% accuracy\n",
    "\n",
    "#When using just the data from studentInfo our models prediction are around 30% accurate\n",
    "\n",
    "#~~~~~~~~~~~~~~~~~~~~~~~~~~~~~~~~~~~~~~~~~~~~~~~~~~~~~~~~~~~~~~~~~~~~~~~~~~~~~~~~~~~~~~~~~~~~~~~~~~~~~\n",
    "#we need to add more data to improve the accuracy\n",
    "#We will add the data from studentVle and studentAssessment\n",
    "\n",
    "\n",
    "#join data with studentVle\n",
    "#transform studentVle so that we have one row per student\n",
    "studentVle = pd.read_csv('studentVle.csv', sep=',')\n",
    "studentVle = studentVle.groupby(['id_student', 'code_module', 'code_presentation'])['sum_click'].sum().reset_index()\n",
    "studentVle = studentVle.rename(columns={'sum_click': 'total_click'})\n",
    "\n",
    "#join studentVle with studentInfo\n",
    "studentInfo = pd.merge(left=studentInfo, right=studentVle, how='inner')\n",
    "data =studentInfo\n",
    "data \n",
    "#~~~~~~~~~~~~~~~~~~~~~~~~~~~~~~~~~~~~~~~~~~~~~~~~~~~~~~~~~~~~~~~~~~~~~~~~~~~~~~~~~~~~~~~~~~~~~~~~~~~~~\n",
    "# when using just this data KNN is around 40% accurate\n",
    "#this means we need more data\n",
    "# we need assessments and studentAssessment data\n",
    "\n",
    "#read assessment data\n",
    "assessment = pd.read_csv('assessments.csv', sep=',')\n",
    "#read studentAssessment data\n",
    "studentAssessment = pd.read_csv('studentAssessment.csv', sep=',')\n",
    "#join assessment and studentAssessment\n",
    "assessment = pd.merge(left=assessment, right=studentAssessment, how='inner')\n",
    "#transform assessment so that we have one row per student\n",
    "assessment = assessment.groupby(['id_student', 'code_module', 'code_presentation'])['score'].sum().reset_index()\n",
    "assessment = assessment.rename(columns={'score': 'total_score'})\n",
    "assessment\n",
    "\n",
    "#join assessment with studentInfo\n",
    "data = pd.merge(left=data, right=assessment, how='inner')\n",
    "data\n",
    "#we are now at 50% accuracy\n",
    "#~~~~~~~~~~~~~~~~~~~~~~~~~~~~~~~~~~~~~~~~~~~~~~~~~~~~~~~~~~~~~~~~~~~~~~~~~~~~~~~~~~~~~~~~~~~~~~~~~~~~~\n",
    "\n"
   ]
  },
  {
   "cell_type": "code",
   "execution_count": 136,
   "metadata": {},
   "outputs": [
    {
     "data": {
      "text/plain": [
       "0        1\n",
       "2        1\n",
       "3        1\n",
       "4        1\n",
       "5        1\n",
       "        ..\n",
       "26042    1\n",
       "26044    0\n",
       "26045    1\n",
       "26046    1\n",
       "26048    1\n",
       "Name: final_result, Length: 19586, dtype: int64"
      ]
     },
     "execution_count": 136,
     "metadata": {},
     "output_type": "execute_result"
    }
   ],
   "source": [
    "#Get the target from data\n",
    "#target is the final result of the student\n",
    "\n",
    "#the target is the final result of the student\n",
    "#we want to predict this\n",
    "target = data['final_result']\n",
    "target"
   ]
  },
  {
   "cell_type": "code",
   "execution_count": 128,
   "metadata": {},
   "outputs": [],
   "source": [
    "#get the % of people who either passed or got distinction\n",
    "\n",
    "#get the amount of people who passed or got distinction\n",
    "passedOrDistinction = data.where((data['final_result'] == 'Distinction') | (data['final_result'] == 'Pass'))\n",
    "passedOrDistinction = passedOrDistinction.dropna(how='all')\n",
    "passedOrDistinction = passedOrDistinction.groupby(['final_result'])['id_student'].count()\n",
    "passedOrDistinction\n",
    "#3024 + 12361 = 15385\n",
    "\n",
    "#get the amount of people who failed\n",
    "failed = data.where((data['final_result'] == 'Fail'))\n",
    "failed = failed.dropna(how='all')\n",
    "failed = failed.groupby(['final_result'])['id_student'].count()\n",
    "failed\n",
    "#7052\n",
    "\n",
    "minResult = 7052/(7052+15385) * 100 #= 31.5%\n",
    "#our model should be able to predict this with at least 31.5% accuracy\n"
   ]
  },
  {
   "attachments": {},
   "cell_type": "markdown",
   "metadata": {},
   "source": [
    "#### KNN\n",
    "\n"
   ]
  },
  {
   "attachments": {},
   "cell_type": "markdown",
   "metadata": {},
   "source": [
    "First run all imports\n",
    "then load the data\n",
    "then run first and third code block of data mining"
   ]
  },
  {
   "cell_type": "code",
   "execution_count": 137,
   "metadata": {},
   "outputs": [
    {
     "name": "stderr",
     "output_type": "stream",
     "text": [
      "c:\\Users\\robbe\\anaconda3\\lib\\site-packages\\sklearn\\neighbors\\_classification.py:228: FutureWarning: Unlike other reduction functions (e.g. `skew`, `kurtosis`), the default behavior of `mode` typically preserves the axis it acts along. In SciPy 1.11.0, this behavior will change: the default value of `keepdims` will become False, the `axis` over which the statistic is taken will be eliminated, and the value None will no longer be accepted. Set `keepdims` to True or False to avoid this warning.\n",
      "  mode, _ = stats.mode(_y[neigh_ind, k], axis=1)\n"
     ]
    },
    {
     "name": "stdout",
     "output_type": "stream",
     "text": [
      "0.725114854517611\n",
      "              precision    recall  f1-score   support\n",
      "\n",
      "           0       0.56      0.46      0.50      1185\n",
      "           1       0.78      0.84      0.81      2733\n",
      "\n",
      "    accuracy                           0.73      3918\n",
      "   macro avg       0.67      0.65      0.66      3918\n",
      "weighted avg       0.71      0.73      0.72      3918\n",
      "\n",
      "0.648814072725757\n",
      "0.6683073093460059\n",
      "Recall: 0.8419319429198683\n",
      "Precision: 0.7810590631364562\n",
      "F1 score: 0.8103539355520338\n",
      "Lift curve: AxesSubplot(0.125,0.11;0.775x0.77)\n"
     ]
    },
    {
     "data": {
      "image/png": "[encoded data removed]",
      "text/plain": [
       "<Figure size 640x480 with 1 Axes>"
      ]
     },
     "metadata": {},
     "output_type": "display_data"
    }
   ],
   "source": [
    "#KNN Classifier\n",
    "from sklearn.neighbors import KNeighborsClassifier\n",
    "from sklearn.model_selection import train_test_split\n",
    "from sklearn.metrics import accuracy_score\n",
    "import scikitplot.metrics as skplt\n",
    "\n",
    "\n",
    "#create dummies for the categorical variables\n",
    "knndata = pd.get_dummies(data)\n",
    "knndata\n",
    "\n",
    "#split the data into train and test\n",
    "X_train, X_test, y_train, y_test = train_test_split(knndata, target, test_size=0.2, random_state=42)\n",
    "\n",
    "#train the model\n",
    "knn = KNeighborsClassifier(n_neighbors=3)\n",
    "knn.fit(X_train, y_train)\n",
    "\n",
    "# q: what does the error \"Found input variables with inconsistent numbers of samples:\" mean?\n",
    "# a: the number of rows in the data and target are not the same\n",
    "\n",
    "#evaluate the model\n",
    "y_pred = knn.predict(X_test)\n",
    "print(accuracy_score(y_test, y_pred))\n",
    "\n",
    "#q: what have we predicted?\n",
    "# a: we have predicted the final result of the student  (pass, fail, distinction)\n",
    "#calculate the accuracy, recall and precision\n",
    "from sklearn.metrics import classification_report\n",
    "print(classification_report(y_test, y_pred))\n",
    "\n",
    "\n",
    "#what is precision?\n",
    "#precision is the amount of true positives divided by the amount of true positives and false positives\n",
    "\n",
    "#what is recall?\n",
    "#recall is the amount of true positives divided by the amount of true positives and false negatives\n",
    "\n",
    "\n",
    "#Calculate the recall and precision\n",
    "from sklearn.metrics import recall_score\n",
    "from sklearn.metrics import f1_score\n",
    "\n",
    "#calculate the recall\n",
    "recall = recall_score(y_test, y_pred, average='macro')\n",
    "print(recall)\n",
    "\n",
    "#calculate the precision\n",
    "from sklearn.metrics import precision_score\n",
    "precision = precision_score(y_test, y_pred, average='macro')\n",
    "print(precision)\n",
    "\n",
    "y_prob = knn.predict_proba(X_test)\n",
    "\n",
    "print(\"Recall:\", recall_score(y_test, y_pred))\n",
    "print(\"Precision:\", precision_score(y_test, y_pred))\n",
    "print(\"F1 score:\", f1_score(y_test, y_pred))\n",
    "print(\"Lift curve:\", skplt.plot_lift_curve(y_test, y_prob))"
   ]
  },
  {
   "cell_type": "code",
   "execution_count": 138,
   "metadata": {},
   "outputs": [
    {
     "data": {
      "image/png": "[encoded data removed]",
      "text/plain": [
       "<Figure size 640x480 with 2 Axes>"
      ]
     },
     "metadata": {},
     "output_type": "display_data"
    }
   ],
   "source": [
    "#Now that we have used KNN\n",
    "#lets try to visualize our results\n",
    "\n",
    "#Make a graph where we can see what our model predicted and what the actual result was\n",
    "import matplotlib.pyplot as plt\n",
    "import seaborn as sns\n",
    "from sklearn.metrics import confusion_matrix\n",
    "\n",
    "#make a confusion matrix\n",
    "cm = confusion_matrix(y_test, y_pred)\n",
    "cm\n",
    "\n",
    "#make a heatmap of the confusion matrix\n",
    "sns.heatmap(cm, annot=True, fmt='d')\n",
    "plt.xlabel('Predicted')\n",
    "plt.ylabel('Actual')\n",
    "plt.title('Confusion Matrix')\n",
    "plt.tight_layout()\n",
    "plt.show()\n"
   ]
  },
  {
   "attachments": {},
   "cell_type": "markdown",
   "metadata": {},
   "source": [
    "#### Naive Bayes"
   ]
  },
  {
   "attachments": {},
   "cell_type": "markdown",
   "metadata": {},
   "source": [
    "First load the data then run first and third code block of data mining section"
   ]
  },
  {
   "cell_type": "code",
   "execution_count": 139,
   "metadata": {},
   "outputs": [
    {
     "name": "stdout",
     "output_type": "stream",
     "text": [
      "0.6929555895865237\n",
      "Recall: 0.6761800219538968\n",
      "Precision: 0.853185595567867\n",
      "F1 score: 0.7544396815676668\n",
      "Lift curve: AxesSubplot(0.125,0.11;0.775x0.77)\n"
     ]
    },
    {
     "data": {
      "image/png": "[encoded data removed]",
      "text/plain": [
       "<Figure size 640x480 with 1 Axes>"
      ]
     },
     "metadata": {},
     "output_type": "display_data"
    }
   ],
   "source": [
    "#Naive Bayes Classifier\n",
    "from sklearn.naive_bayes import GaussianNB\n",
    "from sklearn.model_selection import train_test_split\n",
    "from sklearn.metrics import accuracy_score\n",
    "from sklearn.metrics import recall_score\n",
    "from sklearn.metrics import f1_score\n",
    "import scikitplot.metrics as skplt\n",
    "\n",
    "#create dummies for the categorical variables\n",
    "nbdata = pd.get_dummies(data)\n",
    "nbdata\n",
    "\n",
    "#split the data into train and test\n",
    "X_train, X_test, y_train, y_test = train_test_split(nbdata, target, test_size=0.2, random_state=42)\n",
    "\n",
    "#train the model\n",
    "gnb = GaussianNB()\n",
    "gnb.fit(X_train, y_train)\n",
    "\n",
    "#evaluate the model\n",
    "y_pred = gnb.predict(X_test)\n",
    "print(accuracy_score(y_test, y_pred))\n",
    "\n",
    "y_prob = gnb.predict_proba(X_test)\n",
    "\n",
    "print(\"Recall:\", recall_score(y_test, y_pred))\n",
    "print(\"Precision:\", precision_score(y_test, y_pred))\n",
    "print(\"F1 score:\", f1_score(y_test, y_pred))\n",
    "print(\"Lift curve:\", skplt.plot_lift_curve(y_test, y_prob))"
   ]
  },
  {
   "cell_type": "code",
   "execution_count": 140,
   "metadata": {},
   "outputs": [
    {
     "data": {
      "image/png": "[encoded data removed]",
      "text/plain": [
       "<Figure size 640x480 with 2 Axes>"
      ]
     },
     "metadata": {},
     "output_type": "display_data"
    }
   ],
   "source": [
    "#Now that we have used Naive Bayes, let's try to visualize our results\n",
    "import matplotlib.pyplot as plt\n",
    "import seaborn as sns\n",
    "from sklearn.metrics import confusion_matrix\n",
    "\n",
    "#make a confusion matrix\n",
    "cm = confusion_matrix(y_test, y_pred)\n",
    "cm\n",
    "\n",
    "#make a heatmap of the confusion matrix\n",
    "sns.heatmap(cm, annot=True, fmt='d')\n",
    "plt.xlabel('Predicted')\n",
    "plt.ylabel('Actual')\n",
    "plt.title('Confusion Matrix')\n",
    "plt.tight_layout()\n",
    "plt.show()"
   ]
  },
  {
   "attachments": {},
   "cell_type": "markdown",
   "metadata": {},
   "source": [
    "#### Decision Tree"
   ]
  },
  {
   "attachments": {},
   "cell_type": "markdown",
   "metadata": {},
   "source": [
    "First load the data then run first and third code block of data mining section"
   ]
  },
  {
   "cell_type": "code",
   "execution_count": 141,
   "metadata": {},
   "outputs": [
    {
     "data": {
      "image/png": "[encoded data removed]",
      "text/plain": [
       "<Figure size 2000x2000 with 1 Axes>"
      ]
     },
     "metadata": {},
     "output_type": "display_data"
    },
    {
     "name": "stderr",
     "output_type": "stream",
     "text": [
      "c:\\Users\\robbe\\anaconda3\\lib\\site-packages\\sklearn\\metrics\\_classification.py:1318: UndefinedMetricWarning: Precision and F-score are ill-defined and being set to 0.0 in labels with no predicted samples. Use `zero_division` parameter to control this behavior.\n",
      "  _warn_prf(average, modifier, msg_start, len(result))\n"
     ]
    },
    {
     "name": "stdout",
     "output_type": "stream",
     "text": [
      "              precision    recall  f1-score   support\n",
      "\n",
      " Distinction       0.00      0.00      0.00      3024\n",
      "        Fail       0.00      0.00      0.00      7052\n",
      "        Pass       0.42      0.70      0.52     12361\n",
      "   Withdrawn       0.41      0.48      0.44     10156\n",
      "\n",
      "    accuracy                           0.42     32593\n",
      "   macro avg       0.21      0.30      0.24     32593\n",
      "weighted avg       0.29      0.42      0.34     32593\n",
      "\n"
     ]
    },
    {
     "name": "stderr",
     "output_type": "stream",
     "text": [
      "c:\\Users\\robbe\\anaconda3\\lib\\site-packages\\sklearn\\metrics\\_classification.py:1318: UndefinedMetricWarning: Precision and F-score are ill-defined and being set to 0.0 in labels with no predicted samples. Use `zero_division` parameter to control this behavior.\n",
      "  _warn_prf(average, modifier, msg_start, len(result))\n",
      "c:\\Users\\robbe\\anaconda3\\lib\\site-packages\\sklearn\\metrics\\_classification.py:1318: UndefinedMetricWarning: Precision and F-score are ill-defined and being set to 0.0 in labels with no predicted samples. Use `zero_division` parameter to control this behavior.\n",
      "  _warn_prf(average, modifier, msg_start, len(result))\n"
     ]
    }
   ],
   "source": [
    "#Decision tree classifier\n",
    "from sklearn.tree import plot_tree\n",
    "from sklearn.tree import DecisionTreeClassifier\n",
    "from sklearn.model_selection import train_test_split\n",
    "from sklearn.metrics import accuracy_score\n",
    "\n",
    "\n",
    "#define data (what columns do we want to use?)\n",
    "#lets use all the columns in studnetInfo except for the final grade,code_module, code_presentation and id_student (since these are not relevant for the model)\n",
    "data = studentInfo.drop(['final_result', 'code_module', 'code_presentation', 'id_student'], axis=1)\n",
    "target = studentInfo['final_result']\n",
    "#data = data.dropna()\n",
    "data = pd.get_dummies(data)\n",
    "\n",
    "\n",
    "\n",
    "plt.figure(figsize=(20,20))\n",
    "#decisiontreeclassifier with max_depth=3\n",
    "tree = DecisionTreeClassifier(max_depth=3)\n",
    "tree.fit(data, target)\n",
    "plot_tree(tree, filled=True, feature_names=data.columns, class_names=target.unique())\n",
    "plt.show()\n",
    "\n",
    "#Calculate the recall and precision\n",
    "from sklearn.metrics import classification_report\n",
    "\n",
    "y_pred = tree.predict(data)\n",
    "print(classification_report(target, y_pred))"
   ]
  },
  {
   "attachments": {},
   "cell_type": "markdown",
   "metadata": {},
   "source": [
    "##### Conclusion of Decision Tree\n",
    "Students that studied more credits are more likely to pass."
   ]
  },
  {
   "attachments": {},
   "cell_type": "markdown",
   "metadata": {},
   "source": [
    "#### AI (not finished but working)  (71,97% accuracy => Dieter, 75,65% accuracy => Jens)\n"
   ]
  },
  {
   "cell_type": "code",
   "execution_count": null,
   "metadata": {},
   "outputs": [
    {
     "name": "stdout",
     "output_type": "stream",
     "text": [
      "0.7141398672792241\n",
      "[array([[-2.45298051e-002, -1.91383303e-002,  1.54334777e-001, ...,\n",
      "         1.18395818e-002,  1.83268320e-001, -7.48126337e-136],\n",
      "       [ 1.43506283e-001,  3.77250279e-001,  6.90451586e-002, ...,\n",
      "         1.44384866e-002,  1.64471781e-002, -1.02197890e-145],\n",
      "       [ 1.15970036e-001,  9.68380755e-002,  9.64859021e-002, ...,\n",
      "        -1.20548808e-003,  1.01368990e-001, -5.19428542e-150],\n",
      "       ...,\n",
      "       [-1.70878830e-001, -1.16379997e-001,  5.56662984e-002, ...,\n",
      "         5.38949628e-007, -1.89849141e-001,  6.87426733e-146],\n",
      "       [ 9.62343265e-002,  1.71113775e-001,  2.46326272e-002, ...,\n",
      "         9.64943436e-003, -1.04734149e-001,  1.38773221e-157],\n",
      "       [ 2.19418588e-001,  1.34697971e-001,  6.64892541e-002, ...,\n",
      "         5.38609387e-003,  2.54440275e-001, -2.02171870e-147]]), array([[-2.20079297e-002,  1.28269794e-001,  8.89920718e-002, ...,\n",
      "        -1.88568125e-001,  1.09292921e-002, -1.30156219e-001],\n",
      "       [-2.02292815e-002,  1.55765508e-001, -1.17620965e-001, ...,\n",
      "        -1.32433316e-001, -1.28093255e-001,  5.66939241e-002],\n",
      "       [-1.78483131e-002, -1.44259132e-001, -6.07505598e-003, ...,\n",
      "         3.24222218e-002,  8.72751438e-002, -7.67549840e-003],\n",
      "       ...,\n",
      "       [ 1.39173896e-152, -1.32118480e-003,  6.67915697e-004, ...,\n",
      "        -1.74694721e-003, -1.73303374e-158,  6.15922109e-004],\n",
      "       [-1.61100930e-002,  1.34145575e-001, -6.35202706e-002, ...,\n",
      "        -1.20811843e-003,  7.98239233e-002,  9.63259979e-002],\n",
      "       [-2.21348582e-154,  2.12757550e-141,  2.10459340e-140, ...,\n",
      "         9.31164740e-143, -1.05886852e-149, -2.36391842e-155]]), array([[ 6.16735627e-135, -4.31732246e-154,  1.84504951e-002, ...,\n",
      "         8.02096542e-141, -5.47291028e-003, -1.19791201e-157],\n",
      "       [-2.18433176e-002,  9.79700032e-003, -8.98961099e-002, ...,\n",
      "         1.26910040e-157,  1.46242396e-001, -6.81993804e-003],\n",
      "       [-2.15491475e-002,  7.25410598e-002, -5.30175897e-002, ...,\n",
      "         1.64828067e-131, -5.35794101e-002,  2.40869336e-002],\n",
      "       ...,\n",
      "       [-2.05343351e-002, -5.57457083e-002,  1.71834334e-001, ...,\n",
      "         6.44409379e-161, -1.37036152e-001, -1.37763802e-002],\n",
      "       [-1.23714507e-141, -4.06906036e-149, -9.01020312e-002, ...,\n",
      "         2.44427590e-147, -1.46748291e-002, -1.36560967e-130],\n",
      "       [-2.16249279e-002,  7.11439712e-002, -1.49729731e-002, ...,\n",
      "         2.22789574e-151,  2.32903210e-002,  5.51551466e-003]]), array([[ 2.17672271e-002],\n",
      "       [ 1.64224143e-001],\n",
      "       [ 3.45889492e-002],\n",
      "       [-2.16732363e-144],\n",
      "       [-1.15115091e-003],\n",
      "       [ 2.19318534e-147],\n",
      "       [-2.78319158e-002],\n",
      "       [-9.12681272e-002],\n",
      "       [-9.82026818e-004],\n",
      "       [ 1.72122653e-001],\n",
      "       [ 1.06564614e-001],\n",
      "       [ 1.59464722e-001],\n",
      "       [-6.47671063e-003],\n",
      "       [-2.40521890e-002],\n",
      "       [-3.67565892e-150],\n",
      "       [-3.40281562e-012],\n",
      "       [ 3.82658335e-155],\n",
      "       [ 1.14586245e-115],\n",
      "       [-1.66221578e-001],\n",
      "       [ 6.44823616e-002],\n",
      "       [ 7.61865429e-003],\n",
      "       [-7.09471510e-003],\n",
      "       [ 2.03142357e-001],\n",
      "       [-6.70002590e-002],\n",
      "       [-2.52017492e-002],\n",
      "       [-8.71738384e-002],\n",
      "       [-4.36462300e-125],\n",
      "       [ 4.40452933e-002],\n",
      "       [ 1.12914283e-001],\n",
      "       [ 3.13112709e-002],\n",
      "       [ 3.71933038e-151],\n",
      "       [ 1.19955452e-152],\n",
      "       [-4.02093797e-002],\n",
      "       [ 8.14269291e-003],\n",
      "       [-7.20283164e-003],\n",
      "       [ 1.63067614e-001],\n",
      "       [ 9.64303051e-141],\n",
      "       [ 2.18841916e-002],\n",
      "       [ 1.53491126e-002],\n",
      "       [ 2.06871439e-001],\n",
      "       [-5.47743947e-010],\n",
      "       [ 1.05301604e-001],\n",
      "       [ 6.19226417e-003],\n",
      "       [-5.54338263e-002],\n",
      "       [-1.10107881e-001],\n",
      "       [ 2.21360633e-002],\n",
      "       [-2.93093100e-003],\n",
      "       [-9.48321513e-002],\n",
      "       [ 6.75191582e-003],\n",
      "       [-8.79568692e-008],\n",
      "       [-6.91446332e-002],\n",
      "       [ 5.22173812e-002],\n",
      "       [-1.18608684e-001],\n",
      "       [-1.40014888e-001],\n",
      "       [ 2.73232673e-158],\n",
      "       [ 1.18887815e-001],\n",
      "       [-1.20303660e-001],\n",
      "       [-1.54347658e-002],\n",
      "       [-1.15427988e-001],\n",
      "       [ 1.59822197e-002],\n",
      "       [ 1.44515749e-001],\n",
      "       [-2.02892553e-002],\n",
      "       [ 2.29269084e-001],\n",
      "       [ 1.96313085e-001],\n",
      "       [ 2.04245515e-001],\n",
      "       [-2.43635898e-002],\n",
      "       [-2.73175496e-123],\n",
      "       [ 3.33380920e-003],\n",
      "       [-2.00384384e-001],\n",
      "       [ 1.25384244e-156],\n",
      "       [-6.45166154e-136],\n",
      "       [ 2.46431043e-137],\n",
      "       [ 3.06430558e-002],\n",
      "       [ 4.58145219e-159],\n",
      "       [-7.69181944e-002],\n",
      "       [-3.47805919e-003],\n",
      "       [-3.25549567e-119],\n",
      "       [ 2.36227121e-002],\n",
      "       [ 2.65589344e-002],\n",
      "       [ 1.94223619e-002],\n",
      "       [ 1.13080525e-002],\n",
      "       [ 4.07333293e-003],\n",
      "       [-3.43389003e-002],\n",
      "       [-1.66113162e-002],\n",
      "       [-2.19490620e-001],\n",
      "       [-1.51442097e-001],\n",
      "       [-1.31815492e-001],\n",
      "       [-6.24101756e-002],\n",
      "       [ 2.27599869e-150],\n",
      "       [-5.34906147e-130],\n",
      "       [ 2.25022680e-003],\n",
      "       [ 2.13453172e-002],\n",
      "       [-9.39683823e-002],\n",
      "       [ 4.75278398e-159],\n",
      "       [-6.34799323e-002],\n",
      "       [ 2.65688202e-002],\n",
      "       [ 1.92838881e-161],\n",
      "       [ 2.98065209e-134],\n",
      "       [-8.84804827e-002],\n",
      "       [ 1.40654463e-002]])]\n",
      "[array([ 0.04320743,  0.03171258,  0.14142441,  0.33229203, -0.06389187,\n",
      "       -0.08522439,  0.18692505, -0.15813318, -0.02685871,  0.10232886,\n",
      "        0.08168334,  0.18270952,  0.12986928, -0.11077344,  0.1560283 ,\n",
      "       -0.15448199,  0.17736174,  0.06329047, -0.11274263, -0.15062159,\n",
      "       -0.11857024,  0.1546635 ,  0.06740615, -0.00384686, -0.04115233,\n",
      "       -0.12199343, -0.0753819 , -0.04388034, -0.06245194, -0.08739459,\n",
      "        0.0546923 ,  0.14347211, -0.1500387 , -0.03336847, -0.11499842,\n",
      "       -0.0027427 , -0.19758462, -0.15548866,  0.03081822,  0.1089224 ,\n",
      "        0.18106916,  0.19163556,  0.15297211,  0.05663528, -0.1886871 ,\n",
      "        0.02404849,  0.04551926, -0.21069926,  0.13832547,  0.26371626,\n",
      "        0.17599308, -0.00510274, -0.02560984,  0.19526747, -0.01743288,\n",
      "       -0.16161259, -0.18913692, -0.01382376, -0.11286806, -0.27243746,\n",
      "       -0.0917249 , -0.19434242, -0.01118298,  0.30802176, -0.31661823,\n",
      "        0.04336994, -0.0856168 ,  0.00347911, -0.20816836,  0.20375937,\n",
      "       -0.10210039, -0.00251184, -0.02627813,  0.01230928, -0.05610624,\n",
      "       -0.17986996, -0.331087  ,  0.27593853, -0.11649488,  0.16254959,\n",
      "        0.1301721 , -0.1196422 ,  0.19987203, -0.30336524, -0.13521997,\n",
      "       -0.05447505,  0.15248879,  0.04046535, -0.3310402 , -0.02437759,\n",
      "        0.21624222,  0.03734562, -0.21435235,  0.01155861, -0.1867189 ,\n",
      "        0.23374249,  0.19229956,  0.13602166,  0.27879706, -0.19681162]), array([-0.16163503,  0.0410524 , -0.2181342 ,  0.03484203,  0.09141577,\n",
      "       -0.07076416,  0.01538593,  0.04211192, -0.11558557,  0.14380169,\n",
      "       -0.12486248,  0.09076473, -0.27846898,  0.14599575,  0.05344516,\n",
      "        0.09718479,  0.16400426, -0.11605503,  0.05600029,  0.16216646,\n",
      "        0.06325471, -0.151154  , -0.18312987,  0.15180868,  0.16677116,\n",
      "        0.15102711, -0.0136848 ,  0.06403292, -0.1172968 , -0.06496184,\n",
      "       -0.05912948,  0.00654662,  0.03684184,  0.06579573,  0.0172359 ,\n",
      "       -0.00625842, -0.02694919,  0.06304038, -0.02807449,  0.07289523,\n",
      "        0.14032552,  0.15566229, -0.14769514, -0.10519804,  0.10641586,\n",
      "        0.02822084,  0.04182246,  0.02213582, -0.12113554,  0.005513  ,\n",
      "        0.05487357,  0.13361743, -0.01021936,  0.18220657,  0.01268203,\n",
      "        0.16048056,  0.05848138, -0.16396292,  0.12238914, -0.10290554,\n",
      "       -0.28108574, -0.00270557, -0.12462269,  0.14570699, -0.06865868,\n",
      "        0.04740157,  0.03367495, -0.16766131,  0.05666916,  0.09315131,\n",
      "        0.04848985, -0.01377601, -0.11762671, -0.04913405, -0.03826603,\n",
      "       -0.14341928, -0.02482159,  0.08134531, -0.03174642, -0.1453962 ,\n",
      "       -0.10043294,  0.07111074,  0.10273711,  0.00237962, -0.13318339,\n",
      "        0.09107941,  0.0720283 , -0.11897374, -0.10829326, -0.34037234,\n",
      "       -0.12540825,  0.17079142,  0.26933523,  0.00267753,  0.02468019,\n",
      "        0.08959417, -0.07917439,  0.18841959,  0.07421907, -0.26541786]), array([ 4.91603676e-02, -1.33125770e-01, -2.13901556e-01, -7.98390141e-02,\n",
      "        3.26306138e-01, -1.48099980e-01,  5.34557979e-07,  6.61911499e-02,\n",
      "       -1.01580573e-01,  1.02907847e-01,  4.10002171e-01,  7.60513746e-02,\n",
      "       -8.59261451e-03,  2.92254362e-01, -9.19528279e-02,  9.57344588e-02,\n",
      "       -2.83808174e-02, -2.66077237e-02, -9.62748976e-02,  6.73435872e-01,\n",
      "       -8.87228125e-02, -1.58148898e-01, -2.35013708e-01, -2.01314433e-01,\n",
      "       -1.89998266e-02, -3.68827108e-02, -1.72282009e-01, -2.90639629e-01,\n",
      "       -2.63119252e-01,  5.89657371e-03, -1.51368057e-01, -2.69004440e-02,\n",
      "        6.76900741e-02, -1.34785205e-01,  3.35290236e-02,  2.67004319e-02,\n",
      "       -1.15440331e-01,  6.17822667e-02, -1.18874038e-02,  9.93655309e-02,\n",
      "        2.98295166e-02,  1.66175633e-01,  1.43822992e-01,  6.19391570e-03,\n",
      "        4.19773461e-02,  1.41223226e-01,  4.22219360e-02, -3.02093001e-01,\n",
      "       -1.15632452e-01,  1.41782625e-01,  2.34135184e-01, -4.07813423e-03,\n",
      "        2.37463831e-01,  3.97869655e-01, -1.60962391e-02, -4.06326690e-01,\n",
      "       -1.10986771e-01, -4.19861915e-02,  1.22095458e-02,  7.81795436e-02,\n",
      "       -1.33496221e-01, -5.23983471e-02, -2.47864825e-01, -2.18871897e-01,\n",
      "       -2.67518682e-01, -1.69543543e-01, -9.95326384e-03,  1.01524443e-01,\n",
      "       -3.61353353e-02, -7.63640113e-02, -7.49623379e-02, -4.71321355e-02,\n",
      "       -4.16464678e-01, -8.82659348e-02, -7.35951308e-04,  2.61160189e-01,\n",
      "       -2.65690054e-02,  6.18221061e-02, -3.39909280e-01, -1.57774583e-01,\n",
      "        1.12464760e-01,  5.92071446e-02,  2.09589265e-01, -1.04125201e-01,\n",
      "       -2.03776967e-01, -3.36444676e-02,  3.43085137e-01, -1.09068943e-01,\n",
      "       -9.21246605e-02, -5.43239434e-02,  1.49862370e-01,  1.97290828e-02,\n",
      "        1.31522066e-01, -2.18215951e-02,  2.69351636e-01, -3.08581710e-02,\n",
      "       -1.15098505e-01, -1.42967852e-01,  3.76486145e-01,  4.36141270e-01]), array([-0.02680329])]\n"
     ]
    }
   ],
   "source": [
    "#Dit was mijn poging tot machine learning maar ik heb geen idee of dit klopt of niet of wat het allemaal betekent\n",
    "from sklearn.neural_network import MLPClassifier\n",
    "from sklearn.metrics import accuracy_score\n",
    "from sklearn.metrics import recall_score\n",
    "from sklearn.metrics import f1_score\n",
    "\n",
    "aidata = pd.get_dummies(data)\n",
    "\n",
    "#split the data into train and test\n",
    "X_train, X_test, y_train, y_test = train_test_split(aidata, target, test_size=0.2, random_state=42)\n",
    "\n",
    "#train the model\n",
    "mlp = MLPClassifier(hidden_layer_sizes=(100, 100, 100), max_iter=500)\n",
    "\n",
    "mlp.fit(X_train, y_train)\n",
    "\n",
    "#evaluate the model\n",
    "y_pred = mlp.predict(X_test)\n",
    "print(accuracy_score(y_test, y_pred))\n",
    "\n",
    "#print out the most important features\n",
    "print(mlp.coefs_)\n",
    "print(mlp.intercepts_)\n"
   ]
  },
  {
   "attachments": {},
   "cell_type": "markdown",
   "metadata": {},
   "source": [
    "Indien we ons model niet kunnen verbeteren kunnen we de vraag veranderen van hoe kunnen we zien welke studenten slagen naar hoe kunnen we predicten welke studenten falen. :\n",
    "```\n",
    "[06/12 18:14] Aimee Lynn Backiel\n",
    "I would look at some other measures. For example, if the majority of students pass, then maybe you want to look at the recall for \"failing\" students.\n",
    "\n",
    "[06/12 18:15] Aimee Lynn Backiel\n",
    "Or a lift curve, if you rank your students according to likelihood of failing, do you have good results in the top 10% of students you think will fail? This means, you might propose a kind of STC person who can contact those \"high risk\" students to help them better prepare for the semester in hopes they can pass.\n",
    "\n",
    "```"
   ]
  },
  {
   "attachments": {},
   "cell_type": "markdown",
   "metadata": {},
   "source": [
    "## Since I can't predict who passes or fails, we can look at other measures. "
   ]
  },
  {
   "attachments": {},
   "cell_type": "markdown",
   "metadata": {},
   "source": [
    "### Recall, precision and f1 scores of failing students\n",
    "We have calculated the recall, precision and f1 scores for KNN and Naive Bayes. <br/>\n",
    "These scores are shown underneath the corresponding algorithm."
   ]
  },
  {
   "attachments": {},
   "cell_type": "markdown",
   "metadata": {},
   "source": [
    "### Recall, precision and F1 score\n",
    "KNN has the highest recall of failing students, and the highest accuracy. <br/>\n",
    "The precision however is higher for Naive Bayes. <br/>\n",
    "Also is the F1 score higher for KNN.<br/>\n",
    "Now what do these scores mean?"
   ]
  },
  {
   "attachments": {},
   "cell_type": "markdown",
   "metadata": {},
   "source": [
    "#### Recall\n",
    "The recall is the ratio `tp / (tp + fn)` where `tp` is the number of true positives and `fn` the number of false negatives. <br/>\n",
    "The recall is intuitively the ability of the classifier to find all the positive samples.<br/>\n",
    "The recall is also known as *sensitivity* or *true positive rate*. If there are no false negatives, the recall is equal to the precision.<br/>\n",
    "The best value is 1 and the worst value is 0.<br/>\n",
    "In this case, the recall is the percentage of students that failed found by the model.<br/>\n",
    "\n",
    "#### Precision\n",
    "The precision is the ratio `tp / (tp + fp)` where `tp` is the number of true positives and `fp` the number of false positives. <br/>\n",
    "The precision is intuitively the ability of the classifier not to label as positive a sample that is negative.<br/>\n",
    "The precision is also known as *positive predictive value*.<br/>\n",
    "The best value is 1 and the worst value is 0.<br/>\n",
    "In this case, the precision is the percentage of students who were predicted to fail and actually failed.<br/>\n",
    "\n",
    "#### F1 score\n",
    "The F1 score can be interpreted as a weighted average of the precision and recall, where an F1 score reaches its best value at 1 and worst score at 0. <br/>\n",
    "The relative contribution of precision and recall to the F1 score are equal. <br/>\n",
    "The formula for the F1 score is:\n",
    "```F1 = 2 * (precision * recall) / (precision + recall)```<br/>\n",
    "In the multi-class and multi-label case, this is the weighted average of the F1 score of each class.<br/>\n",
    "In this case, the F1 score is the harmonic mean of the precision and recall.<br/>\n",
    "The higher the F1 score, the better.<br/>\n",
    "This is because the F1 score is the harmonic mean of the precision and recall, which means that it only takes into account the best of the two.<br/>"
   ]
  },
  {
   "attachments": {},
   "cell_type": "markdown",
   "metadata": {},
   "source": [
    "### Likelyhood of students failing\n"
   ]
  },
  {
   "attachments": {},
   "cell_type": "markdown",
   "metadata": {},
   "source": [
    "This has already been done in absolute numbers for the KNN and Naive Bayes models."
   ]
  }
 ],
 "metadata": {
  "kernelspec": {
   "display_name": "Python 3",
   "language": "python",
   "name": "python3"
  },
  "language_info": {
   "codemirror_mode": {
    "name": "ipython",
    "version": 3
   },
   "file_extension": ".py",
   "mimetype": "text/x-python",
   "name": "python",
   "nbconvert_exporter": "python",
   "pygments_lexer": "ipython3",
   "version": "3.10.8 (tags/v3.10.8:aaaf517, Oct 11 2022, 16:50:30) [MSC v.1933 64 bit (AMD64)]"
  },
  "orig_nbformat": 4,
  "vscode": {
   "interpreter": {
    "hash": "f52db6dc0959f7e75738041d351f9518da19d0de6da3f21aa83115f357456fb2"
   }
  }
 },
 "nbformat": 4,
 "nbformat_minor": 2
}
